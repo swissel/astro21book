{
 "cells": [
  {
   "cell_type": "markdown",
   "metadata": {},
   "source": [
    "#### Q. What would this program print?"
   ]
  },
  {
   "cell_type": "code",
   "execution_count": null,
   "metadata": {},
   "outputs": [],
   "source": [
    "count = 0\n",
    "while count < 100:\n",
    "    count += 1\n",
    "print(count)"
   ]
  },
  {
   "cell_type": "markdown",
   "metadata": {},
   "source": [
    "How do we find minimum or maximum sizes or values of lists?"
   ]
  },
  {
   "cell_type": "code",
   "execution_count": null,
   "metadata": {},
   "outputs": [],
   "source": [
    "x = max(\"Pleiades\",\"Andromeda\",\"Cygnus\")\n",
    "print(x)"
   ]
  },
  {
   "cell_type": "code",
   "execution_count": null,
   "metadata": {},
   "outputs": [],
   "source": [
    "n1 = [15,300,2000,800]\n",
    "n2 = [12,3]\n",
    "n3 = [35,16,500]\n",
    "\n",
    "# using min(iterable, *iterables, key)\n",
    "print(\"Minimum of the 3 lists is: \", min(n1,n2,n3))\n",
    "\n",
    "print(\"Minimum inside of 1 list is: \", min(n1))"
   ]
  },
  {
   "cell_type": "markdown",
   "metadata": {},
   "source": [
    "### Recap: while loops and lists"
   ]
  },
  {
   "cell_type": "raw",
   "metadata": {},
   "source": [
    "Rather than type in long lists, we can use while loops:"
   ]
  },
  {
   "cell_type": "code",
   "execution_count": null,
   "metadata": {},
   "outputs": [],
   "source": [
    "planetList = []     # Creates an empty list\n",
    "planet = 1.0        # starting value for the conditional\n",
    "planetMax = 15.0    # maximum value for the conditional\n",
    "\n",
    "# The while loop:\n",
    "\n",
    "while planet <= planetMax:  # Note the colon!\n",
    "    planetList.append(planet)   # Note the indentation!\n",
    "    planet += 1.0\n",
    "    \n",
    "print(planetList)    "
   ]
  },
  {
   "cell_type": "markdown",
   "metadata": {},
   "source": [
    "In some of the previous lectures we have calculated the force of gravity a person with mass = 70 kg would feel on Earth, and on planets whose mass is a multiple of Earth mass.  We called this number, the \"massRatio\".  If massRatio = 2, then we are finding the force of gravity a person would feel on a planet with mass = 2 x Mass_Earth"
   ]
  },
  {
   "cell_type": "code",
   "execution_count": 27,
   "metadata": {},
   "outputs": [],
   "source": [
    "#\n",
    "# Initializations first\n",
    "#\n",
    "massRatioList = []         # Creates an empty list\n",
    "massRatio = 1.0   # For the conditional\n",
    "massRatioMax = 10.0    # Also for the conditional\n",
    "#\n",
    "# And the while loop:\n",
    "# \n",
    "while massRatio <= massRatioMax:  # Note the colon!\n",
    "    massRatioList.append(massRatio)   # Note the indentation!\n",
    "    massRatio += 1.0"
   ]
  },
  {
   "cell_type": "code",
   "execution_count": 28,
   "metadata": {},
   "outputs": [
    {
     "name": "stdout",
     "output_type": "stream",
     "text": [
      "[1.0, 2.0, 3.0, 4.0, 5.0, 6.0, 7.0, 8.0, 9.0, 10.0]\n"
     ]
    }
   ],
   "source": [
    "print(massRatioList)"
   ]
  },
  {
   "cell_type": "markdown",
   "metadata": {},
   "source": [
    "## \"for\" loops and lists"
   ]
  },
  {
   "cell_type": "raw",
   "metadata": {},
   "source": [
    "For loops operate on elements in a list."
   ]
  },
  {
   "cell_type": "raw",
   "metadata": {},
   "source": [
    "Basic structure:\n",
    "\n",
    "for <element> in <list>:\n",
    "    <do something with element>\n",
    "    \n",
    "<element> will be a variable name assigned to \n",
    "individual elements in <list>\n",
    "    \n",
    "as opposed to while loops:\n",
    "\n",
    "while <condition is True>:\n",
    "    <do something>"
   ]
  },
  {
   "cell_type": "code",
   "execution_count": null,
   "metadata": {},
   "outputs": [],
   "source": [
    "for massRatio in massRatioList:  # Note the colon!\n",
    "    print('massRatioList element = {:f}'.format(massRatio)) # Note the indent!\n",
    "\n",
    "print('\\nmassRatioList has', len(massRatioList), 'elements!')\n"
   ]
  },
  {
   "cell_type": "raw",
   "metadata": {},
   "source": [
    "Note that you do not have to know the length of the list!"
   ]
  },
  {
   "cell_type": "raw",
   "metadata": {},
   "source": [
    "Using the len() command is the most common method of finding length of a list.\n",
    "\n",
    "Can you think of another way to find the number of elements in a list?"
   ]
  },
  {
   "cell_type": "code",
   "execution_count": null,
   "metadata": {},
   "outputs": [],
   "source": [
    "count=0\n",
    "\n",
    "for massRatio in massRatioList:  # Note the colon!\n",
    "    print('massRatioList element = {:f}'.format(massRatio)) # Note the indent!\n",
    "    count += 1\n",
    "\n",
    "print(\"Number of elements in this list is: \",count)"
   ]
  },
  {
   "cell_type": "raw",
   "metadata": {},
   "source": [
    "Let's use a for loop to make a table of mass ratios and gravitational forces:"
   ]
  },
  {
   "cell_type": "code",
   "execution_count": 8,
   "metadata": {},
   "outputs": [
    {
     "name": "stdout",
     "output_type": "stream",
     "text": [
      "# Mass Ratio   Force\n",
      "1.0            686.94\n",
      "2.0            1373.88\n",
      "3.0            2060.82\n",
      "4.0            2747.76\n",
      "5.0            3434.70\n",
      "6.0            4121.65\n",
      "7.0            4808.59\n",
      "8.0            5495.53\n",
      "9.0            6182.47\n",
      "10.0           6869.41\n",
      "11.0           7556.35\n",
      "12.0           8243.29\n",
      "13.0           8930.23\n",
      "14.0           9617.17\n",
      "15.0           10304.11\n"
     ]
    }
   ],
   "source": [
    "# First, initialize variables\n",
    "G       = 6.67e-11           # Grav. const.\n",
    "mEarth  = 5.97e24            # Earth mass\n",
    "mPerson = 70                 # Person mass \n",
    "radius  = 6.37e6             # Earth radius\n",
    "\n",
    "massRatioList  = []          # Creates an empty list\n",
    "massRatio = 1           # First mass ratio value\n",
    "massRatioMax   = 15          # Last mass ratio value\n",
    "\n",
    "# Create a list of mass ratios using a for loop\n",
    "for massRatio in range(massRatio, massRatioMax + 1):   # Note the \"+1\". We will talk about \"range\" shortly.\n",
    "    massRatioList.append(float(massRatio))\n",
    "\n",
    "# Make a header for the table\n",
    "print(\"# Mass Ratio   Force\")\n",
    "\n",
    "# Calculate the force for each mass ratio\n",
    "for massRatio in massRatioList:\n",
    "    force = G * massRatio * mEarth * mPerson / radius**2  \n",
    "\n",
    "    # print contents of table line-by-line\n",
    "    print(\"{:<14.1f} {:.2f}\".format(massRatio, force))"
   ]
  },
  {
   "cell_type": "markdown",
   "metadata": {},
   "source": [
    "### While loop implementation of a for loop"
   ]
  },
  {
   "cell_type": "raw",
   "metadata": {},
   "source": [
    "A simple \"for\" loop:"
   ]
  },
  {
   "cell_type": "code",
   "execution_count": null,
   "metadata": {},
   "outputs": [],
   "source": [
    "for massRatio in massRatioList:\n",
    "    print(massRatio)"
   ]
  },
  {
   "cell_type": "raw",
   "metadata": {},
   "source": [
    "Can be implemented as a while loop:"
   ]
  },
  {
   "cell_type": "code",
   "execution_count": null,
   "metadata": {},
   "outputs": [],
   "source": [
    "index = 0   # Remember that the index starts with zero!\n",
    "while index < len(massRatioList):\n",
    "    print(massRatioList[index])\n",
    "    index += 1"
   ]
  },
  {
   "cell_type": "raw",
   "metadata": {},
   "source": [
    "This is a little less compact, but very intuitive."
   ]
  },
  {
   "cell_type": "markdown",
   "metadata": {},
   "source": [
    "#### Q. What is the value of index at the end? Trace it."
   ]
  },
  {
   "cell_type": "code",
   "execution_count": null,
   "metadata": {},
   "outputs": [],
   "source": [
    "index"
   ]
  },
  {
   "cell_type": "markdown",
   "metadata": {},
   "source": [
    "### The \"range\" function"
   ]
  },
  {
   "cell_type": "raw",
   "metadata": {},
   "source": [
    "An easy way to populate lists!"
   ]
  },
  {
   "cell_type": "raw",
   "metadata": {},
   "source": [
    "(In case you haven't noticed, there are already Python\n",
    "functions to do most things!)\n",
    "\n",
    "Syntax:  range(n)\n",
    "  generates integers 0, 1, 2, ... n-1\n",
    "\n",
    "Syntax: range (start, stop, step) \n",
    "  generates from start to stop-1 with step size = step\n",
    "  If step is not specified, it is assumed to be 1."
   ]
  },
  {
   "cell_type": "markdown",
   "metadata": {},
   "source": [
    "#### Q. What does this generate?"
   ]
  },
  {
   "cell_type": "code",
   "execution_count": null,
   "metadata": {},
   "outputs": [],
   "source": [
    "range(-10, 2, 2)"
   ]
  },
  {
   "cell_type": "markdown",
   "metadata": {},
   "source": [
    "In Python 3, the \"range\" function doesn't automatically create a list, in order to save memory.\n",
    "\n",
    "We have to use the \"list\" function explicitly to make the output from this range function input into a list.\n",
    "\n",
    "(But don't worry about this \"list\" function for now. It will just be here as a reference if you need it!)\n",
    "\n",
    "Now, let's see what range(-10, 2, 2) is doing behind the scenes:"
   ]
  },
  {
   "cell_type": "code",
   "execution_count": null,
   "metadata": {},
   "outputs": [],
   "source": [
    "list(range(-10, 2, 2))"
   ]
  },
  {
   "cell_type": "raw",
   "metadata": {},
   "source": [
    "For fun -- using a function as an argument:"
   ]
  },
  {
   "cell_type": "code",
   "execution_count": null,
   "metadata": {},
   "outputs": [],
   "source": [
    "len(range(-10, 2, 2))"
   ]
  },
  {
   "cell_type": "markdown",
   "metadata": {},
   "source": [
    "Let's say that we wanted to generate a list of numbers 1 through 100."
   ]
  },
  {
   "cell_type": "code",
   "execution_count": 5,
   "metadata": {},
   "outputs": [
    {
     "name": "stdout",
     "output_type": "stream",
     "text": [
      "[1.0, 2.0, 3.0, 4.0, 5.0, 6.0, 7.0, 8.0, 9.0, 10.0, 11.0, 12.0, 13.0, 14.0, 15.0, 16.0, 17.0, 18.0, 19.0, 20.0, 21.0, 22.0, 23.0, 24.0, 25.0, 26.0, 27.0, 28.0, 29.0, 30.0, 31.0, 32.0, 33.0, 34.0, 35.0, 36.0, 37.0, 38.0, 39.0, 40.0, 41.0, 42.0, 43.0, 44.0, 45.0, 46.0, 47.0, 48.0, 49.0, 50.0, 51.0, 52.0, 53.0, 54.0, 55.0, 56.0, 57.0, 58.0, 59.0, 60.0, 61.0, 62.0, 63.0, 64.0, 65.0, 66.0, 67.0, 68.0, 69.0, 70.0, 71.0, 72.0, 73.0, 74.0, 75.0, 76.0, 77.0, 78.0, 79.0, 80.0, 81.0, 82.0, 83.0, 84.0, 85.0, 86.0, 87.0, 88.0, 89.0, 90.0, 91.0, 92.0, 93.0, 94.0, 95.0, 96.0, 97.0, 98.0, 99.0, 100.0]\n"
     ]
    }
   ],
   "source": [
    "myList = []\n",
    "for i in range(1,101):\n",
    "    myList.append(i)  \n",
    "    #this will generate integers\n",
    "    #to make a list with floats, must put 'float': \n",
    "    #myList.append(float(i))  \n",
    "    \n",
    "print(myList)    "
   ]
  },
  {
   "cell_type": "raw",
   "metadata": {},
   "source": [
    "Back to our mass ratio list example.\n",
    "Notice how we always:\n",
    "1) initialize a list (make an empty list)\n",
    "2) start the for loop - itearate over a certain range of numbers\n",
    "3) append the list inside of the loop\n",
    "4) print the result to check it. "
   ]
  },
  {
   "cell_type": "code",
   "execution_count": null,
   "metadata": {},
   "outputs": [],
   "source": [
    "massRatioList = []\n",
    "for massRatio in range(1, 11): # what is the step size here?\n",
    "    massRatioList.append(float(massRatio))  \n",
    "print(massRatioList)"
   ]
  },
  {
   "cell_type": "code",
   "execution_count": null,
   "metadata": {},
   "outputs": [],
   "source": [
    "massRatioList.append([1,2,3,4])\n",
    "massRatioList"
   ]
  },
  {
   "cell_type": "markdown",
   "metadata": {},
   "source": [
    "#### Q. What will massRatioList be?"
   ]
  },
  {
   "cell_type": "code",
   "execution_count": null,
   "metadata": {},
   "outputs": [],
   "source": [
    "massRatioList"
   ]
  },
  {
   "cell_type": "markdown",
   "metadata": {},
   "source": [
    "#### Q. What type would the massRatioList elements be without the float() function?"
   ]
  },
  {
   "cell_type": "raw",
   "metadata": {},
   "source": [
    "You can use a \"for\" loop to access a list's indices."
   ]
  },
  {
   "cell_type": "markdown",
   "metadata": {},
   "source": [
    "#### Q. What will be the output?"
   ]
  },
  {
   "cell_type": "code",
   "execution_count": 10,
   "metadata": {},
   "outputs": [
    {
     "name": "stdout",
     "output_type": "stream",
     "text": [
      "0 1.0\n",
      "1 2.0\n",
      "2 3.0\n",
      "3 4.0\n",
      "4 5.0\n",
      "5 6.0\n",
      "6 7.0\n",
      "7 8.0\n",
      "8 9.0\n",
      "9 10.0\n",
      "10 11.0\n",
      "11 12.0\n",
      "12 13.0\n",
      "13 14.0\n",
      "14 15.0\n"
     ]
    }
   ],
   "source": [
    "for index in range(len(massRatioList)):\n",
    "    print(index, massRatioList[index])"
   ]
  },
  {
   "cell_type": "raw",
   "metadata": {},
   "source": [
    "Note: If massRatioList elements were integers instead of floats, we could simply do:"
   ]
  },
  {
   "cell_type": "code",
   "execution_count": null,
   "metadata": {},
   "outputs": [],
   "source": [
    "massRatioList = range(1, 11, 1)\n",
    "print(list(massRatioList))"
   ]
  },
  {
   "cell_type": "markdown",
   "metadata": {},
   "source": [
    "Let's go back to massRatioList and make all numbers floats.  Notice that you must use a \"for\" loop to do this. "
   ]
  },
  {
   "cell_type": "code",
   "execution_count": null,
   "metadata": {},
   "outputs": [],
   "source": [
    "massRatioList = []\n",
    "for massRatio in range(1, 11): # what is the step size here?\n",
    "    massRatioList.append(float(massRatio))  \n",
    "print(massRatioList)"
   ]
  },
  {
   "cell_type": "markdown",
   "metadata": {},
   "source": [
    "### The \"enumerate\" function"
   ]
  },
  {
   "cell_type": "markdown",
   "metadata": {},
   "source": [
    "You will frequently want both the indices and the list element values.\n",
    "Python has a short-cut function for this sort of thing: \"enumerate\""
   ]
  },
  {
   "cell_type": "code",
   "execution_count": null,
   "metadata": {},
   "outputs": [],
   "source": [
    "# Enumerate returns the index and value\n",
    "for index, massRatio in enumerate(massRatioList):\n",
    "    print(index, massRatio)\n",
    "\n",
    "print()\n",
    "print(\"index type         =\", type(index))\n",
    "print(\"massRatio type     =\", type(massRatio))\n",
    "print(\"massRatioList type =\", type(massRatioList))"
   ]
  },
  {
   "cell_type": "code",
   "execution_count": null,
   "metadata": {},
   "outputs": [],
   "source": [
    " # Equivalently (but not exactly the same):\n",
    "\n",
    "for stuff in enumerate(massRatioList):\n",
    "    print(stuff[0], stuff[1])"
   ]
  },
  {
   "cell_type": "code",
   "execution_count": null,
   "metadata": {},
   "outputs": [],
   "source": [
    "# Notice that 'stuff[0]' is the index, and stuff[1] is the value\n",
    "# Notice the parentheses.\n",
    "# What kind of variable type is stuff?\n",
    "\n",
    "type(stuff)"
   ]
  },
  {
   "cell_type": "markdown",
   "metadata": {},
   "source": [
    "Tuple is a collection which is orderd and unchangable."
   ]
  },
  {
   "cell_type": "code",
   "execution_count": 29,
   "metadata": {},
   "outputs": [
    {
     "name": "stdout",
     "output_type": "stream",
     "text": [
      "('apple', 'banana', 'cherry')\n"
     ]
    }
   ],
   "source": [
    "tuple1 = (\"apple\", \"banana\", \"cherry\")\n",
    "print(tuple1)"
   ]
  },
  {
   "cell_type": "code",
   "execution_count": 30,
   "metadata": {},
   "outputs": [
    {
     "name": "stdout",
     "output_type": "stream",
     "text": [
      "banana\n"
     ]
    }
   ],
   "source": [
    "print(tuple1[1])"
   ]
  },
  {
   "cell_type": "code",
   "execution_count": 31,
   "metadata": {},
   "outputs": [
    {
     "ename": "TypeError",
     "evalue": "'tuple' object does not support item assignment",
     "output_type": "error",
     "traceback": [
      "\u001b[0;31m---------------------------------------------------------------------------\u001b[0m",
      "\u001b[0;31mTypeError\u001b[0m                                 Traceback (most recent call last)",
      "\u001b[0;32m<ipython-input-31-a4be5792a5a5>\u001b[0m in \u001b[0;36m<module>\u001b[0;34m\u001b[0m\n\u001b[0;32m----> 1\u001b[0;31m \u001b[0mtuple1\u001b[0m\u001b[0;34m[\u001b[0m\u001b[0;36m1\u001b[0m\u001b[0;34m]\u001b[0m \u001b[0;34m=\u001b[0m \u001b[0;34m\"peach\"\u001b[0m\u001b[0;34m\u001b[0m\u001b[0;34m\u001b[0m\u001b[0m\n\u001b[0m",
      "\u001b[0;31mTypeError\u001b[0m: 'tuple' object does not support item assignment"
     ]
    }
   ],
   "source": [
    "tuple1[1] = \"peach\""
   ]
  },
  {
   "cell_type": "markdown",
   "metadata": {},
   "source": [
    "The error that we got is because \"tuples\" are unchangable (immutable), so we cannot change it into something else. "
   ]
  },
  {
   "cell_type": "markdown",
   "metadata": {},
   "source": [
    "### Processing lists simultaneously with for loops"
   ]
  },
  {
   "cell_type": "raw",
   "metadata": {},
   "source": [
    "The following construction is a bit lengthy (with 3 loops),\n",
    "but it shows how multiple lists (massRatioList and forceList) \n",
    "can be processed simultaneously with for loops"
   ]
  },
  {
   "cell_type": "code",
   "execution_count": 11,
   "metadata": {},
   "outputs": [],
   "source": [
    "massRatioList  = []        # Initialize\n",
    "numElements    = 10        # Number of elements\n",
    "massRatioMin   = 1.0       # Minimum mass ratio\n",
    "massRatioMax   = 10.0      # Maximum mass ratio"
   ]
  },
  {
   "cell_type": "raw",
   "metadata": {},
   "source": [
    "Now, construct massRatioList:"
   ]
  },
  {
   "cell_type": "code",
   "execution_count": 12,
   "metadata": {},
   "outputs": [
    {
     "name": "stdout",
     "output_type": "stream",
     "text": [
      "0 1.0\n",
      "1 2.0\n",
      "2 3.0\n",
      "3 4.0\n",
      "4 5.0\n",
      "5 6.0\n",
      "6 7.0\n",
      "7 8.0\n",
      "8 9.0\n",
      "9 10.0\n"
     ]
    }
   ],
   "source": [
    "massRatioList = []\n",
    "for index in range(0, numElements):\n",
    "    massRatio = massRatioMin + index\n",
    "    massRatioList.append(massRatio)\n",
    "    print(index, massRatio)"
   ]
  },
  {
   "cell_type": "markdown",
   "metadata": {},
   "source": [
    "Now, calculate the forces using massRatioList:"
   ]
  },
  {
   "cell_type": "code",
   "execution_count": 20,
   "metadata": {},
   "outputs": [],
   "source": [
    "G         = 6.67e-11         # Gravitational constant\n",
    "mEarth    = 5.97e24          # Earth mass\n",
    "mPerson   = 70               # Person mass \n",
    "radius    = 6.37e6           # Earth radius\n",
    "forceList = []               # Empty list -- I don't have to specify its length\n",
    "\n",
    "for massRatio in massRatioList:\n",
    "    force = G * massRatio * mEarth * mPerson / radius**2  \n",
    "    forceList.append(force)"
   ]
  },
  {
   "cell_type": "raw",
   "metadata": {},
   "source": [
    "Finally, print the table:\n",
    "(demonstrating processing lists simultaneously)\n",
    "\n",
    "We are also nicely formating a table."
   ]
  },
  {
   "cell_type": "code",
   "execution_count": 21,
   "metadata": {},
   "outputs": [
    {
     "name": "stdout",
     "output_type": "stream",
     "text": [
      "Mass Ratio   Force\n",
      "1.0          686.94\n",
      "2.0          1373.88\n",
      "3.0          2060.82\n",
      "4.0          2747.76\n",
      "5.0          3434.70\n",
      "6.0          4121.65\n",
      "7.0          4808.59\n",
      "8.0          5495.53\n",
      "9.0          6182.47\n",
      "10.0         6869.41\n"
     ]
    }
   ],
   "source": [
    "print(\"Mass Ratio   Force\")\n",
    "#for index in range(len(massRatioList), len(forceList)):\n",
    "for index in range(min(len(massRatioList), len(forceList))):\n",
    "    massRatio = massRatioList[index]\n",
    "    force = forceList[index]\n",
    "    print(\"{:<12.1f} {:.2f}\".format(massRatio, force))"
   ]
  },
  {
   "cell_type": "markdown",
   "metadata": {},
   "source": [
    "There are ways to do this with less code.\n",
    "\n",
    "Compact => good, so long as its still easy to follow.\n",
    "\n",
    "One shorter way is to create lists of the right size (**filled with \n",
    "zeros**) then index the list with the appropriate values."
   ]
  },
  {
   "cell_type": "code",
   "execution_count": 22,
   "metadata": {},
   "outputs": [
    {
     "name": "stdout",
     "output_type": "stream",
     "text": [
      "[0, 0, 0, 0, 0, 0, 0, 0, 0, 0]\n"
     ]
    }
   ],
   "source": [
    "# For example, create a list of length numElements filled with \n",
    "# zeroes for the mass range\n",
    "numElements    = 10        # Number of elements in list\n",
    "massRatioMin   = 1.0       # Minimum mass ratio\n",
    "massRatioMax   = 10.0      # Maximum mass ratio\n",
    "\n",
    "massRatioList = [0] * numElements\n",
    "print(massRatioList)"
   ]
  },
  {
   "cell_type": "code",
   "execution_count": null,
   "metadata": {},
   "outputs": [],
   "source": [
    "# Fill mass_range with the appropriate values\n",
    "for index in range(len(massRatioList)):\n",
    "    massRatioList[index] = massRatioMin + index \n",
    "print(massRatioList)"
   ]
  },
  {
   "cell_type": "code",
   "execution_count": null,
   "metadata": {},
   "outputs": [],
   "source": [
    "# Create list of forces\n",
    "forceList = [0] * numElements\n",
    "\n",
    "# And fill the list\n",
    "for index in range(len(forceList)):\n",
    "    forceList[index] = G * massRatioList[index] * mEarth * mPerson / radius**2 \n",
    "\n",
    "# Print a header\n",
    "print(\"Mass Ratio   Force\")\n",
    "\n",
    "#  Print the mass ratios and forces\n",
    "for index in range(len(massRatioList)):\n",
    "    print(\"{:<12.1f} {:.2f}\".format(massRatioList[index], forceList[index]))"
   ]
  },
  {
   "cell_type": "markdown",
   "metadata": {},
   "source": [
    "#### Q. Could massRatioList and forceList have been populated in the same for loop?  If so, how?"
   ]
  },
  {
   "cell_type": "raw",
   "metadata": {},
   "source": [
    "\n",
    "\n",
    "\n",
    "\n",
    "\n",
    "\n",
    "\n",
    "\n",
    "\n",
    "\n",
    "\n",
    "\n",
    "\n",
    "\n",
    "\n",
    "\n",
    "\n",
    "\n"
   ]
  },
  {
   "cell_type": "code",
   "execution_count": null,
   "metadata": {},
   "outputs": [],
   "source": [
    "#  Create the two lists\n",
    "massRatioList = [0] * numElements\n",
    "forceList     = [0] * numElements\n",
    "\n",
    "#  Print headers\n",
    "print(\"Mass Ratio   Force\")\n",
    "\n",
    "#  Using a single for loop, populate the two lists\n",
    "for index in range(len(massRatioList)):\n",
    "    #  Calculate the mass ratio\n",
    "    massRatioList[index] = massRatioMin + index\n",
    "    \n",
    "    #  Calculate the force\n",
    "    forceList[index] = massRatioList[index] * G * mEarth * mPerson / radius**2\n",
    "    \n",
    "    #  Print the mass ratio and force\n",
    "    print(\"{:<12.1f} {:.2f}\".format(massRatioList[index], forceList[index]))"
   ]
  },
  {
   "cell_type": "markdown",
   "metadata": {},
   "source": [
    "### List comprehension"
   ]
  },
  {
   "cell_type": "raw",
   "metadata": {},
   "source": [
    "Really, really compact way of populating lists:"
   ]
  },
  {
   "cell_type": "code",
   "execution_count": null,
   "metadata": {},
   "outputs": [],
   "source": [
    "numElements = 10\n",
    "\n",
    "# list comprehension!\n",
    "massRatioList = [1.0 + index for index in range(numElements)]\n",
    "forceList = [massRatio * G * mEarth * mPerson / radius**2 for massRatio in massRatioList]"
   ]
  },
  {
   "cell_type": "raw",
   "metadata": {},
   "source": [
    "Wow, that is compact!  Two lines!  Did it work?"
   ]
  },
  {
   "cell_type": "code",
   "execution_count": null,
   "metadata": {},
   "outputs": [],
   "source": [
    "print(\"Mass Ratio   Force\")\n",
    "\n",
    "for index in range(len(massRatioList)):\n",
    "    print(\"{:<12.1f} {:.2f}\".format(massRatioList[index], forceList[index]))"
   ]
  },
  {
   "cell_type": "markdown",
   "metadata": {},
   "source": [
    "So which is faster?"
   ]
  },
  {
   "cell_type": "code",
   "execution_count": 24,
   "metadata": {},
   "outputs": [
    {
     "name": "stdout",
     "output_type": "stream",
     "text": [
      "0:00:00.351932\n"
     ]
    }
   ],
   "source": [
    "numElements = 10\n",
    "\n",
    "from datetime import datetime\n",
    "\n",
    "#  Get a start time stamp\n",
    "start = datetime.now()\n",
    "\n",
    "#  Do the calculations 100,000 times\n",
    "for _ in range(100000):\n",
    "    \n",
    "    ################################################################################\n",
    "    #  Create the two lists\n",
    "    massRatioList = [0] * numElements\n",
    "    forceList     = [0] * numElements\n",
    "    \n",
    "    #  Using a single for loop, populate the two lists\n",
    "    for index in range(len(massRatioList)):\n",
    "        #  Calculate the mass ratio\n",
    "        massRatioList[index] = massRatioMin + index\n",
    "        \n",
    "        #  Calculate the force\n",
    "        forceList[index] = massRatioList[index] * G * mEarth * mPerson / radius**2\n",
    "    ################################################################################\n",
    "\n",
    "#  Get a stop time stamp\n",
    "stop = datetime.now()\n",
    "\n",
    "#  Get the elapsed time\n",
    "forLoopTime = stop - start\n",
    "\n",
    "print(forLoopTime)"
   ]
  },
  {
   "cell_type": "code",
   "execution_count": 33,
   "metadata": {},
   "outputs": [
    {
     "name": "stdout",
     "output_type": "stream",
     "text": [
      "0:00:00.259156\n"
     ]
    }
   ],
   "source": [
    "from datetime import datetime\n",
    "\n",
    "#  Get a start time stamp\n",
    "start = datetime.now()\n",
    "\n",
    "#  Do the calculations 100,000 times\n",
    "for _ in range(100000):\n",
    "    \n",
    "    #############################################################################################\n",
    "    numElements = 10\n",
    "    \n",
    "    massRatioList = [1.0 + index for index in range(numElements)]          # list comprehension!\n",
    "    forceList     = [massRatio * G * mEarth * mPerson / radius**2 for massRatio in massRatioList]\n",
    "    #############################################################################################\n",
    "\n",
    "#  Get a stop time stamp\n",
    "stop = datetime.now()\n",
    "\n",
    "#  Get the elapsed time\n",
    "listCompTime = stop - start\n",
    "\n",
    "print(listCompTime)"
   ]
  },
  {
   "cell_type": "markdown",
   "metadata": {},
   "source": [
    "#### Q. What will the following do?"
   ]
  },
  {
   "cell_type": "code",
   "execution_count": 34,
   "metadata": {},
   "outputs": [
    {
     "name": "stdout",
     "output_type": "stream",
     "text": [
      "List comprehension is 26% faster!\n"
     ]
    }
   ],
   "source": [
    "#  Print the percent of time reduced\n",
    "if listCompTime < forLoopTime:\n",
    "    winner = 'List comprehension'\n",
    "    factor = 100 - float(listCompTime.total_seconds()) / float(forLoopTime.total_seconds()) * 100\n",
    "    print(winner + \" is {:.0f}% faster!\".format(factor))\n",
    "elif listCompTime > forLoopTime:\n",
    "    winner = 'For loop'\n",
    "    factor = 100 - float(forLoopTime.total_seconds()) / float(listCompTime.total_seconds()) * 100\n",
    "    print(winner + \" is {:.0f}% faster!\".format(factor))\n",
    "else:\n",
    "    print('There is no difference!')"
   ]
  },
  {
   "cell_type": "markdown",
   "metadata": {},
   "source": [
    "We will come back to conditional statements later!"
   ]
  },
  {
   "cell_type": "markdown",
   "metadata": {},
   "source": [
    "#### Q. When might you use a while loop instead of a for loop?"
   ]
  },
  {
   "cell_type": "raw",
   "metadata": {},
   "source": [
    "\n",
    "\n",
    "\n",
    "\n",
    "\n",
    "\n",
    "\n",
    "\n",
    "\n",
    "\n",
    "\n",
    "\n",
    "\n",
    "\n",
    "\n",
    "\n"
   ]
  },
  {
   "cell_type": "markdown",
   "metadata": {},
   "source": [
    "#### Q. When might you use a for loop instead of a while loop?"
   ]
  },
  {
   "cell_type": "raw",
   "metadata": {},
   "source": [
    "\n",
    "\n",
    "\n",
    "\n",
    "\n",
    "\n",
    "\n",
    "\n",
    "\n",
    "\n",
    "\n",
    "\n",
    "\n",
    "\n",
    "\n",
    "\n"
   ]
  }
 ],
 "metadata": {
  "kernelspec": {
   "display_name": "Python 3",
   "language": "python",
   "name": "python3"
  },
  "language_info": {
   "codemirror_mode": {
    "name": "ipython",
    "version": 3
   },
   "file_extension": ".py",
   "mimetype": "text/x-python",
   "name": "python",
   "nbconvert_exporter": "python",
   "pygments_lexer": "ipython3",
   "version": "3.8.5"
  }
 },
 "nbformat": 4,
 "nbformat_minor": 1
}
