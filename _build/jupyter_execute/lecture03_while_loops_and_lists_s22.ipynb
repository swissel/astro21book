{
 "cells": [
  {
   "cell_type": "markdown",
   "metadata": {},
   "source": [
    "### Forcing variable types"
   ]
  },
  {
   "cell_type": "code",
   "execution_count": 1,
   "metadata": {},
   "outputs": [
    {
     "name": "stdout",
     "output_type": "stream",
     "text": [
      "<class 'int'>\n",
      "45\n"
     ]
    }
   ],
   "source": [
    "x = 45\n",
    "print(type(x))  #  Gives (returns) the type of variable\n",
    "print(x)"
   ]
  },
  {
   "cell_type": "code",
   "execution_count": 2,
   "metadata": {},
   "outputs": [
    {
     "name": "stdout",
     "output_type": "stream",
     "text": [
      "<class 'float'>\n",
      "45.0\n"
     ]
    }
   ],
   "source": [
    "x = float(x)\n",
    "print(type(x))\n",
    "print(x)"
   ]
  },
  {
   "cell_type": "markdown",
   "metadata": {},
   "source": [
    "#### Q. What will this produce?"
   ]
  },
  {
   "cell_type": "code",
   "execution_count": 3,
   "metadata": {},
   "outputs": [
    {
     "name": "stdout",
     "output_type": "stream",
     "text": [
      "26\n"
     ]
    }
   ],
   "source": [
    "x = 26.9\n",
    "print(int(x))"
   ]
  },
  {
   "cell_type": "markdown",
   "metadata": {},
   "source": [
    "### Review continued:  One \"last\" note on modules"
   ]
  },
  {
   "cell_type": "code",
   "execution_count": 4,
   "metadata": {},
   "outputs": [
    {
     "name": "stdout",
     "output_type": "stream",
     "text": [
      "1.4142135623730951\n"
     ]
    }
   ],
   "source": [
    "from math import sqrt # import only the square root function from the math module\n",
    "print(sqrt(2))"
   ]
  },
  {
   "cell_type": "code",
   "execution_count": 5,
   "metadata": {},
   "outputs": [
    {
     "name": "stdout",
     "output_type": "stream",
     "text": [
      "7.38905609893065\n"
     ]
    }
   ],
   "source": [
    "import math           # import everything from the math module\n",
    "print(math.exp(2))"
   ]
  },
  {
   "cell_type": "code",
   "execution_count": 6,
   "metadata": {},
   "outputs": [
    {
     "name": "stdout",
     "output_type": "stream",
     "text": [
      "7.38905609893065\n"
     ]
    }
   ],
   "source": [
    "from math import *    # import everything from the math module\n",
    "print(exp(2))"
   ]
  },
  {
   "cell_type": "markdown",
   "metadata": {},
   "source": [
    "Another syntax is available to import modules:"
   ]
  },
  {
   "cell_type": "code",
   "execution_count": 7,
   "metadata": {},
   "outputs": [
    {
     "name": "stdout",
     "output_type": "stream",
     "text": [
      "1.4142135623730951\n"
     ]
    }
   ],
   "source": [
    "#  Import math module and give it a new name\n",
    "import math as m               #  Note the use of \"as\", a reserved word\n",
    "\n",
    "print(m.sqrt(2))"
   ]
  },
  {
   "cell_type": "markdown",
   "metadata": {},
   "source": [
    "or specific functions within a module:"
   ]
  },
  {
   "cell_type": "code",
   "execution_count": 8,
   "metadata": {},
   "outputs": [
    {
     "name": "stdout",
     "output_type": "stream",
     "text": [
      "1.4142135623730951\n"
     ]
    }
   ],
   "source": [
    "#  Import sqrt from math and give it a new name\n",
    "from math import sqrt as sq\n",
    "from math import pi as PIE\n",
    "print(sq(2))"
   ]
  },
  {
   "cell_type": "code",
   "execution_count": null,
   "metadata": {},
   "outputs": [],
   "source": []
  },
  {
   "cell_type": "raw",
   "metadata": {},
   "source": [
    "Recap of importing styles:\n",
    "\n",
    "import module\n",
    "import module as mod\n",
    "\n",
    "from module import *  \n",
    "from module import function  \n",
    "from module import function as func\n"
   ]
  },
  {
   "cell_type": "markdown",
   "metadata": {},
   "source": [
    "# Today: Loops & Lists"
   ]
  },
  {
   "cell_type": "markdown",
   "metadata": {},
   "source": [
    "The point of loops is to compactly code repetitive tasks.\n",
    "For example, computing the gravitational force for multiple planetary masses.\n",
    " \n",
    "Loops are an essential programming tool. (This is why we program!)"
   ]
  },
  {
   "cell_type": "markdown",
   "metadata": {},
   "source": [
    "Python supports two types of loops:\n",
    "\n",
    "  1. while loops\n",
    "  2. for loops"
   ]
  },
  {
   "cell_type": "markdown",
   "metadata": {},
   "source": [
    "### While Loops (Section 2.1.2)"
   ]
  },
  {
   "cell_type": "markdown",
   "metadata": {},
   "source": [
    "Recall the Gravitational Force Equation"
   ]
  },
  {
   "cell_type": "markdown",
   "metadata": {},
   "source": [
    "$F(r) = G \\frac{m_1 m_2}{r^2}$"
   ]
  },
  {
   "cell_type": "markdown",
   "metadata": {},
   "source": [
    "#### Q. What will the following loop do? Trace it."
   ]
  },
  {
   "cell_type": "code",
   "execution_count": 9,
   "metadata": {},
   "outputs": [
    {
     "name": "stdout",
     "output_type": "stream",
     "text": [
      "# Table of Gravitational Forces for Multiple Planet Masses\n",
      "\n",
      "# mass1/massEarth  Force\n",
      "1.0 981.3440652193735\n",
      "2.0 1962.688130438747\n",
      "3.0 2944.0321956581206\n",
      "4.0 3925.376260877494\n",
      "5.0 4906.720326096869\n",
      "6.0 5888.064391316241\n",
      "7.0 6869.408456535615\n",
      "8.0 7850.752521754988\n",
      "9.0 8832.096586974363\n",
      "10.0 9813.440652193738\n",
      "# Done\n"
     ]
    }
   ],
   "source": [
    "print('# Table of Gravitational Forces for Multiple Planet Masses\\n')\n",
    "\n",
    "#  Initialize variables - use meters and kilograms for units\n",
    "G           = 6.67e-11         # Gravitational constant\n",
    "massEarth   = 5.97e24          # Earth mass\n",
    "massPerson  = 100              # Person mass \n",
    "radiusEarth = 6.37e6           # Earth radius\n",
    "\n",
    "#  Begin calculation\n",
    "mass1 = massEarth\n",
    "\n",
    "#  Print a header\n",
    "print('# mass1/massEarth  Force')\n",
    "\n",
    "#  The loop ends when conditional mass1 <= (10.0 * massEarth) is no longer true\n",
    "while(mass1 <= (10.0 * massEarth)):                   #  Note the colon!\n",
    "    force = G * mass1 * massPerson / radiusEarth**2   #  All lines in the loop must be indented by\n",
    "                                                      #  the same amount (iPython does it automatically)\n",
    "    print(str(mass1 / massEarth) + \" \" + str(force))\n",
    "    mass1 = mass1 + massEarth                         # Increment by Earth's mass\n",
    "\n",
    "# No indent!  This line is executed after the loop is done\n",
    "print('# Done')"
   ]
  },
  {
   "cell_type": "markdown",
   "metadata": {},
   "source": [
    "The increment could have been done in shorthand. Also, let's space out those columns to make things more readable."
   ]
  },
  {
   "cell_type": "code",
   "execution_count": 10,
   "metadata": {},
   "outputs": [
    {
     "name": "stdout",
     "output_type": "stream",
     "text": [
      "# mass1/massEarth  Force\n",
      "1.0                981.34\n",
      "2.0                1962.69\n",
      "3.0                2944.03\n",
      "4.0                3925.38\n",
      "5.0                4906.72\n",
      "6.0                5888.06\n",
      "7.0                6869.41\n",
      "8.0                7850.75\n",
      "9.0                8832.10\n",
      "10.0               9813.44\n",
      "# Done\n"
     ]
    }
   ],
   "source": [
    "# Note that I have to reset mass1 here!!\n",
    "mass1 = massEarth\n",
    "\n",
    "print('# mass1/massEarth  Force')\n",
    "\n",
    "while(mass1 <= (10.0 * massEarth)):\n",
    "    force = G * mass1 * massPerson / radiusEarth**2\n",
    "    \n",
    "    #print str(mass1 / massEarth) + \" \" + str(force)\n",
    "    print(\"%-18.1f %.2f\" % (mass1 / massEarth, force)) # Column spacing is done here\n",
    "    \n",
    "    #  mass1 = mass1 + massEarth\n",
    "    mass1 += massEarth      #  Shorthand version of the line above.\n",
    "\n",
    "print('# Done')"
   ]
  },
  {
   "cell_type": "markdown",
   "metadata": {},
   "source": [
    "#### Q. What about this one? Can you predict any problems it may cause?"
   ]
  },
  {
   "cell_type": "raw",
   "metadata": {},
   "source": [
    "#  Example 1\n",
    "x = 0\n",
    "while(True):\n",
    "    x = x + 1\n",
    "\n",
    "#  Example 2\n",
    "x = 0\n",
    "while(x >= -1):\n",
    "    x = x + 1"
   ]
  },
  {
   "cell_type": "raw",
   "metadata": {},
   "source": [
    "\n",
    "\n",
    "\n",
    "\n",
    "\n",
    "\n",
    "\n",
    "\n",
    "\n",
    "\n",
    "\n",
    "\n",
    "\n",
    "\n",
    "\n",
    "\n",
    "\n",
    "\n",
    "NEVER, EVER DO THIS!!"
   ]
  },
  {
   "cell_type": "markdown",
   "metadata": {},
   "source": [
    "### Infinite loops"
   ]
  },
  {
   "cell_type": "raw",
   "metadata": {},
   "source": [
    "If you create a while loop and the conditional never becomes false, you have just made yourself an infinite loop!\n",
    "\n",
    "If you accidentally make an infinite loop in iPython notebook, go to \"Kernel\" then \"Interrupt\" in the toolbar above, then go to \"Kernel\" then \"Restart\"."
   ]
  },
  {
   "cell_type": "code",
   "execution_count": 11,
   "metadata": {},
   "outputs": [
    {
     "name": "stdout",
     "output_type": "stream",
     "text": [
      "Loop count: 0\n",
      "Loop count: 1\n",
      "Loop count: 2\n",
      "Loop count: 3\n",
      "Loop count: 4\n",
      "Loop count: 5\n",
      "Loop count: 6\n",
      "Loop count: 7\n",
      "Loop count: 8\n",
      "Loop count: 9\n"
     ]
    }
   ],
   "source": [
    "#  How to prevent an infinite loop\n",
    "\n",
    "maxCount = 10      #  A number that is more than your loop should ever do\n",
    "count = 0          #  The current number your loop is on\n",
    "\n",
    "#  Adding \"and count < maxCount\" to the end of your conditional prevents infinite loops\n",
    "while(True and count < maxCount):\n",
    "    print(\"Loop count: \" + str(count))\n",
    "    count += 1     #  Increment your current loop count"
   ]
  },
  {
   "cell_type": "markdown",
   "metadata": {},
   "source": [
    "#### Q. How does this work?"
   ]
  },
  {
   "cell_type": "raw",
   "metadata": {},
   "source": [
    "Remember the basic structure of a while loop:\n",
    "\n",
    "while <conditional statement>:\n",
    "    <commands indented by 1 tab (usually 3 or 4 spaces)>\n",
    "    <more commands>\n",
    "    <more commands>\n",
    "    <...>\n",
    "\n",
    "<eventually exit loop and return to no indent>\n",
    "\n",
    "*The <conditional statement> must evaluate to True or False.*"
   ]
  },
  {
   "cell_type": "markdown",
   "metadata": {},
   "source": [
    "### Boolean (logic) expressions"
   ]
  },
  {
   "cell_type": "markdown",
   "metadata": {},
   "source": [
    "Boolean expressions are conditional statements.  There are only \n",
    "two possible values:  True or False\n",
    "\n",
    "(I've capitalized True and False because these are reserved words in Python.)"
   ]
  },
  {
   "cell_type": "raw",
   "metadata": {},
   "source": [
    "#\n",
    "x == y      # Is x equal to y?  (Remember, a single = symbol is used to assign values.)\n",
    "#\n",
    "x != y      # Is x not equal to y? Note that the \"!\" symbol is typically called a \"bang\" in programming\n",
    "#             So this reads as \"x bang equals y.\"\n",
    "#\n",
    "x >= y      # Is x greater than or equal to y?\n",
    "#\n",
    "x <= y      # Is x less than or equal to y?\n",
    "#\n",
    "x < y       # Is x less than y?\n",
    "#\n",
    "x > y       # Is x greater than y?"
   ]
  },
  {
   "cell_type": "markdown",
   "metadata": {},
   "source": [
    "#### Q. What is the value of this?"
   ]
  },
  {
   "cell_type": "code",
   "execution_count": 12,
   "metadata": {},
   "outputs": [
    {
     "data": {
      "text/plain": [
       "True"
      ]
     },
     "execution_count": 12,
     "metadata": {},
     "output_type": "execute_result"
    }
   ],
   "source": [
    "5 <= 10"
   ]
  },
  {
   "cell_type": "markdown",
   "metadata": {},
   "source": [
    "#### Q. What is the value of this?"
   ]
  },
  {
   "cell_type": "code",
   "execution_count": 13,
   "metadata": {},
   "outputs": [
    {
     "data": {
      "text/plain": [
       "False"
      ]
     },
     "execution_count": 13,
     "metadata": {},
     "output_type": "execute_result"
    }
   ],
   "source": [
    "5 >= 10"
   ]
  },
  {
   "cell_type": "raw",
   "metadata": {},
   "source": [
    "The reserved word \"not\" can be inserted in front of boolean expressions to change the value\n",
    "to its opposite"
   ]
  },
  {
   "cell_type": "markdown",
   "metadata": {},
   "source": [
    "#### Q. What is the value of this?"
   ]
  },
  {
   "cell_type": "code",
   "execution_count": 14,
   "metadata": {},
   "outputs": [
    {
     "data": {
      "text/plain": [
       "True"
      ]
     },
     "execution_count": 14,
     "metadata": {},
     "output_type": "execute_result"
    }
   ],
   "source": [
    "not 5 >= 10"
   ]
  },
  {
   "cell_type": "markdown",
   "metadata": {},
   "source": [
    "See how readable Python is?"
   ]
  },
  {
   "cell_type": "markdown",
   "metadata": {},
   "source": [
    "Boolean expressions can be combined with \"and\", \"or\" and \"not\" to form compound conditional expressions."
   ]
  },
  {
   "cell_type": "markdown",
   "metadata": {},
   "source": [
    "#### Q. How about these?"
   ]
  },
  {
   "cell_type": "code",
   "execution_count": 15,
   "metadata": {},
   "outputs": [
    {
     "data": {
      "text/plain": [
       "False"
      ]
     },
     "execution_count": 15,
     "metadata": {},
     "output_type": "execute_result"
    }
   ],
   "source": [
    "5 <= 10 and 5 >= 10"
   ]
  },
  {
   "cell_type": "code",
   "execution_count": 16,
   "metadata": {},
   "outputs": [
    {
     "data": {
      "text/plain": [
       "True"
      ]
     },
     "execution_count": 16,
     "metadata": {},
     "output_type": "execute_result"
    }
   ],
   "source": [
    "5 <= 10 or 5 >= 10"
   ]
  },
  {
   "cell_type": "markdown",
   "metadata": {},
   "source": [
    "### Back to while loops"
   ]
  },
  {
   "cell_type": "raw",
   "metadata": {},
   "source": [
    "While loops are good to use when you don't know exactly how many times you need your loop to run.\n",
    "\n",
    "They are very useful when asking the user for input."
   ]
  },
  {
   "cell_type": "markdown",
   "metadata": {},
   "source": [
    "#### Example - User Input"
   ]
  },
  {
   "cell_type": "code",
   "execution_count": 17,
   "metadata": {},
   "outputs": [
    {
     "ename": "StdinNotImplementedError",
     "evalue": "raw_input was called, but this frontend does not support input requests.",
     "output_type": "error",
     "traceback": [
      "\u001b[0;31m---------------------------------------------------------------------------\u001b[0m",
      "\u001b[0;31mStdinNotImplementedError\u001b[0m                  Traceback (most recent call last)",
      "\u001b[0;32m<ipython-input-17-2231bbc0409e>\u001b[0m in \u001b[0;36m<module>\u001b[0;34m\u001b[0m\n\u001b[1;32m     12\u001b[0m     \u001b[0muserPrompt\u001b[0m \u001b[0;34m=\u001b[0m \u001b[0;34m\"Guess a number between \"\u001b[0m \u001b[0;34m+\u001b[0m \u001b[0mstr\u001b[0m\u001b[0;34m(\u001b[0m\u001b[0mminNumber\u001b[0m\u001b[0;34m)\u001b[0m \u001b[0;34m+\u001b[0m \u001b[0;34m\" and \"\u001b[0m \u001b[0;34m+\u001b[0m \u001b[0mstr\u001b[0m\u001b[0;34m(\u001b[0m\u001b[0mmaxNumber\u001b[0m\u001b[0;34m)\u001b[0m \u001b[0;34m+\u001b[0m \u001b[0;34m\": \"\u001b[0m\u001b[0;34m\u001b[0m\u001b[0;34m\u001b[0m\u001b[0m\n\u001b[1;32m     13\u001b[0m \u001b[0;34m\u001b[0m\u001b[0m\n\u001b[0;32m---> 14\u001b[0;31m     \u001b[0muserGuess\u001b[0m \u001b[0;34m=\u001b[0m \u001b[0minput\u001b[0m\u001b[0;34m(\u001b[0m\u001b[0muserPrompt\u001b[0m\u001b[0;34m)\u001b[0m      \u001b[0;31m#  Prompt the user\u001b[0m\u001b[0;34m\u001b[0m\u001b[0;34m\u001b[0m\u001b[0m\n\u001b[0m\u001b[1;32m     15\u001b[0m \u001b[0;34m\u001b[0m\u001b[0m\n\u001b[1;32m     16\u001b[0m     \u001b[0muserGuess\u001b[0m \u001b[0;34m=\u001b[0m \u001b[0mint\u001b[0m\u001b[0;34m(\u001b[0m\u001b[0muserGuess\u001b[0m\u001b[0;34m)\u001b[0m\u001b[0;34m\u001b[0m\u001b[0;34m\u001b[0m\u001b[0m\n",
      "\u001b[0;32m~/anaconda3/lib/python3.7/site-packages/ipykernel/kernelbase.py\u001b[0m in \u001b[0;36mraw_input\u001b[0;34m(self, prompt)\u001b[0m\n\u001b[1;32m    844\u001b[0m         \u001b[0;32mif\u001b[0m \u001b[0;32mnot\u001b[0m \u001b[0mself\u001b[0m\u001b[0;34m.\u001b[0m\u001b[0m_allow_stdin\u001b[0m\u001b[0;34m:\u001b[0m\u001b[0;34m\u001b[0m\u001b[0;34m\u001b[0m\u001b[0m\n\u001b[1;32m    845\u001b[0m             raise StdinNotImplementedError(\n\u001b[0;32m--> 846\u001b[0;31m                 \u001b[0;34m\"raw_input was called, but this frontend does not support input requests.\"\u001b[0m\u001b[0;34m\u001b[0m\u001b[0;34m\u001b[0m\u001b[0m\n\u001b[0m\u001b[1;32m    847\u001b[0m             )\n\u001b[1;32m    848\u001b[0m         return self._input_request(str(prompt),\n",
      "\u001b[0;31mStdinNotImplementedError\u001b[0m: raw_input was called, but this frontend does not support input requests."
     ]
    }
   ],
   "source": [
    "import random\n",
    "\n",
    "minNumber = 1\n",
    "maxNumber = 10\n",
    "\n",
    "#  Get a random number between 1 and 10\n",
    "randomNumber = random.randint(minNumber, maxNumber)\n",
    "\n",
    "userGuess = -1\n",
    "\n",
    "while(userGuess != randomNumber):\n",
    "    userPrompt = \"Guess a number between \" + str(minNumber) + \" and \" + str(maxNumber) + \": \"\n",
    "    \n",
    "    userGuess = input(userPrompt)      #  Prompt the user\n",
    "    \n",
    "    userGuess = int(userGuess)\n",
    "\n",
    "print(\"You have guessed the correct number! \" + str(userGuess))"
   ]
  },
  {
   "cell_type": "markdown",
   "metadata": {},
   "source": [
    "### Q. What happens if you enter a letter instead of a number?"
   ]
  },
  {
   "cell_type": "code",
   "execution_count": null,
   "metadata": {},
   "outputs": [],
   "source": [
    "import random\n",
    "\n",
    "minNumber = 1\n",
    "maxNumber = 10\n",
    "\n",
    "#  Get a random number between 1 and 10\n",
    "randomNumber = random.randint(minNumber, maxNumber)\n",
    "\n",
    "userGuess = -1\n",
    "\n",
    "while(userGuess != randomNumber):\n",
    "    userPrompt = \"Guess a number between \" + str(minNumber) + \" and \" + str(maxNumber) + \": \"\n",
    "    \n",
    "    userGuess = input(userPrompt)      #  Prompt the user\n",
    "    \n",
    "    userGuess = int(userGuess)\n",
    "\n",
    "print(\"You have guessed the correct number! \" + str(userGuess))"
   ]
  },
  {
   "cell_type": "markdown",
   "metadata": {},
   "source": [
    "### Lists (Section 2.2)"
   ]
  },
  {
   "cell_type": "raw",
   "metadata": {},
   "source": [
    "Lists are sequences of objects (which can be of different types) in a given order.\n",
    "\n",
    "To define a list of mass ratios with ten elements\n",
    "    ** (and indices running from 0 to 9): **\n",
    "\n",
    "Referring to our previous gravitational force example:"
   ]
  },
  {
   "cell_type": "code",
   "execution_count": 7,
   "metadata": {},
   "outputs": [
    {
     "name": "stdout",
     "output_type": "stream",
     "text": [
      "[1.0, 2.0, 3.0, 4.0, 5.0, 6.0, 7.0, 8.0, 9.0, 10.0]\n"
     ]
    }
   ],
   "source": [
    "massRatio = [1.0, 2.0, 3.0, 4.0, 5.0, 6.0, 7.0, 8.0, 9.0, 10.0]\n",
    "print(massRatio)"
   ]
  },
  {
   "cell_type": "raw",
   "metadata": {},
   "source": [
    "We can access an element of the list by supplying its \n",
    "index in SQUARE BRACKETS (not parentheses or braces):"
   ]
  },
  {
   "cell_type": "markdown",
   "metadata": {},
   "source": [
    "#### Q. What will this print?"
   ]
  },
  {
   "cell_type": "code",
   "execution_count": 8,
   "metadata": {},
   "outputs": [
    {
     "name": "stdout",
     "output_type": "stream",
     "text": [
      "4.0\n"
     ]
    }
   ],
   "source": [
    "print(massRatio[3])"
   ]
  },
  {
   "cell_type": "markdown",
   "metadata": {},
   "source": [
    "Lesson learned: Python is zero-index-based"
   ]
  },
  {
   "cell_type": "code",
   "execution_count": 9,
   "metadata": {},
   "outputs": [
    {
     "data": {
      "text/plain": [
       "float"
      ]
     },
     "execution_count": 9,
     "metadata": {},
     "output_type": "execute_result"
    }
   ],
   "source": [
    "type(massRatio[3])"
   ]
  },
  {
   "cell_type": "markdown",
   "metadata": {},
   "source": [
    "### Modifying lists"
   ]
  },
  {
   "cell_type": "raw",
   "metadata": {},
   "source": [
    "We can append an element to the end of a list\n",
    "using the append \"method\":"
   ]
  },
  {
   "cell_type": "code",
   "execution_count": 10,
   "metadata": {},
   "outputs": [
    {
     "name": "stdout",
     "output_type": "stream",
     "text": [
      "[1.0, 2.0, 3.0, 4.0, 5.0, 6.0, 7.0, 8.0, 9.0, 10.0, 11.0]\n"
     ]
    }
   ],
   "source": [
    "massRatio.append(11.0)\n",
    "print(massRatio)"
   ]
  },
  {
   "cell_type": "raw",
   "metadata": {},
   "source": [
    "Note the syntax \"object.method(argument)\"\n",
    "\n",
    "Append acts like a function, but it is reached through an object.\n",
    "That object (which we created) is a list called massRatio."
   ]
  },
  {
   "cell_type": "raw",
   "metadata": {},
   "source": [
    "We can insert a new element at a specific location too:"
   ]
  },
  {
   "cell_type": "code",
   "execution_count": 11,
   "metadata": {},
   "outputs": [
    {
     "name": "stdout",
     "output_type": "stream",
     "text": [
      "[1.0, 2.0, 3.0, 4.0, 4.5, 5.0, 6.0, 7.0, 8.0, 9.0, 10.0, 11.0]\n"
     ]
    }
   ],
   "source": [
    "# This inserts 4.5 into index 4 of the list:\n",
    "massRatio.insert(4, 4.5)\n",
    "\n",
    "print(massRatio)"
   ]
  },
  {
   "cell_type": "raw",
   "metadata": {},
   "source": [
    "We can delete an element:"
   ]
  },
  {
   "cell_type": "code",
   "execution_count": 12,
   "metadata": {},
   "outputs": [],
   "source": [
    "del massRatio[4]"
   ]
  },
  {
   "cell_type": "markdown",
   "metadata": {},
   "source": [
    "#### Q. What will the next line produce?"
   ]
  },
  {
   "cell_type": "code",
   "execution_count": 13,
   "metadata": {},
   "outputs": [
    {
     "name": "stdout",
     "output_type": "stream",
     "text": [
      "[1.0, 2.0, 3.0, 4.0, 5.0, 6.0, 7.0, 8.0, 9.0, 10.0, 11.0]\n"
     ]
    }
   ],
   "source": [
    "print(massRatio)"
   ]
  },
  {
   "cell_type": "markdown",
   "metadata": {},
   "source": [
    "### List operations"
   ]
  },
  {
   "cell_type": "code",
   "execution_count": 14,
   "metadata": {},
   "outputs": [
    {
     "data": {
      "text/plain": [
       "11"
      ]
     },
     "execution_count": 14,
     "metadata": {},
     "output_type": "execute_result"
    }
   ],
   "source": [
    "# We can find out its length with len(object)\n",
    "len(massRatio)\n",
    "\n",
    "# Python uses [] to access elements and () to perform a function on an object."
   ]
  },
  {
   "cell_type": "raw",
   "metadata": {},
   "source": [
    "Lists can be added:"
   ]
  },
  {
   "cell_type": "code",
   "execution_count": 15,
   "metadata": {},
   "outputs": [
    {
     "name": "stdout",
     "output_type": "stream",
     "text": [
      "[1.0, 2.0, 3.0, 4.0, 5.0, 6.0, 7.0, 8.0, 9.0, 10.0, 11.0, 12.0, 13.0, 14.0]\n"
     ]
    }
   ],
   "source": [
    "massRatio = massRatio + [12.0, 13.0, 14.0]\n",
    "print(massRatio)"
   ]
  },
  {
   "cell_type": "raw",
   "metadata": {},
   "source": [
    "which is equivalent to using the method \"extend\":"
   ]
  },
  {
   "cell_type": "code",
   "execution_count": 16,
   "metadata": {},
   "outputs": [
    {
     "name": "stdout",
     "output_type": "stream",
     "text": [
      "[1.0, 2.0, 3.0, 4.0, 5.0, 6.0, 7.0, 8.0, 9.0, 10.0, 11.0, 12.0, 13.0, 14.0, 15.0, 16.0, 17.0]\n"
     ]
    }
   ],
   "source": [
    "massRatio.extend([15.0, 16.0, 17.0])\n",
    "print(massRatio)"
   ]
  },
  {
   "cell_type": "raw",
   "metadata": {},
   "source": [
    "The \"index\" function returns the index of the first appearance of a value"
   ]
  },
  {
   "cell_type": "markdown",
   "metadata": {},
   "source": [
    "#### Q. What will this produce?"
   ]
  },
  {
   "cell_type": "code",
   "execution_count": 19,
   "metadata": {},
   "outputs": [
    {
     "data": {
      "text/plain": [
       "11"
      ]
     },
     "execution_count": 19,
     "metadata": {},
     "output_type": "execute_result"
    }
   ],
   "source": [
    "massRatio.index(12.0)"
   ]
  },
  {
   "cell_type": "code",
   "execution_count": 18,
   "metadata": {},
   "outputs": [
    {
     "ename": "ValueError",
     "evalue": "20.0 is not in list",
     "output_type": "error",
     "traceback": [
      "\u001b[0;31m---------------------------------------------------------------------------\u001b[0m",
      "\u001b[0;31mValueError\u001b[0m                                Traceback (most recent call last)",
      "\u001b[0;32m<ipython-input-18-e8f3db0900fc>\u001b[0m in \u001b[0;36m<module>\u001b[0;34m\u001b[0m\n\u001b[1;32m      1\u001b[0m \u001b[0;31m#  And, this fails\u001b[0m\u001b[0;34m\u001b[0m\u001b[0;34m\u001b[0m\u001b[0;34m\u001b[0m\u001b[0m\n\u001b[0;32m----> 2\u001b[0;31m \u001b[0mmassRatio\u001b[0m\u001b[0;34m.\u001b[0m\u001b[0mindex\u001b[0m\u001b[0;34m(\u001b[0m\u001b[0;36m20.0\u001b[0m\u001b[0;34m)\u001b[0m\u001b[0;34m\u001b[0m\u001b[0;34m\u001b[0m\u001b[0m\n\u001b[0m",
      "\u001b[0;31mValueError\u001b[0m: 20.0 is not in list"
     ]
    }
   ],
   "source": [
    "#  And, this fails\n",
    "massRatio.index(20.0)"
   ]
  },
  {
   "cell_type": "markdown",
   "metadata": {},
   "source": [
    "### The \"in\" keyword"
   ]
  },
  {
   "cell_type": "code",
   "execution_count": 20,
   "metadata": {},
   "outputs": [
    {
     "data": {
      "text/plain": [
       "True"
      ]
     },
     "execution_count": 20,
     "metadata": {},
     "output_type": "execute_result"
    }
   ],
   "source": [
    "#  We can check if there is an element in a list.  The result of the check\n",
    "#  is boolean:  True or False.\n",
    "\n",
    "14.0 in massRatio"
   ]
  },
  {
   "cell_type": "code",
   "execution_count": 21,
   "metadata": {},
   "outputs": [
    {
     "data": {
      "text/plain": [
       "False"
      ]
     },
     "execution_count": 21,
     "metadata": {},
     "output_type": "execute_result"
    }
   ],
   "source": [
    "99.0 in massRatio"
   ]
  },
  {
   "cell_type": "code",
   "execution_count": 22,
   "metadata": {},
   "outputs": [
    {
     "name": "stdout",
     "output_type": "stream",
     "text": [
      "[1.0, 2.0, 3.0, 4.0, 5.0, 6.0, 7.0, 8.0, 9.0, 10.0, 11.0, 12.0, 13.0, 14.0, 15.0, 16.0, 17.0]\n"
     ]
    }
   ],
   "source": [
    "print(massRatio)"
   ]
  },
  {
   "cell_type": "markdown",
   "metadata": {},
   "source": [
    "### Negative indices"
   ]
  },
  {
   "cell_type": "code",
   "execution_count": 23,
   "metadata": {},
   "outputs": [
    {
     "data": {
      "text/plain": [
       "14.0"
      ]
     },
     "execution_count": 23,
     "metadata": {},
     "output_type": "execute_result"
    }
   ],
   "source": [
    "#  Negative indices start counting from the right (the end) of a list:\n",
    "massRatio[-4]"
   ]
  },
  {
   "cell_type": "markdown",
   "metadata": {},
   "source": [
    "#### Q. What will this give us?"
   ]
  },
  {
   "cell_type": "markdown",
   "metadata": {},
   "source": [
    "### Creating lists with while loops"
   ]
  },
  {
   "cell_type": "raw",
   "metadata": {},
   "source": [
    "We can create lists using a while loop.\n",
    "\n",
    "Again, this is useful when you don't know how many elements\n",
    "are going to be put in the list."
   ]
  },
  {
   "cell_type": "code",
   "execution_count": 26,
   "metadata": {},
   "outputs": [
    {
     "name": "stdout",
     "output_type": "stream",
     "text": [
      "Finished creating the list massRatio!\n"
     ]
    }
   ],
   "source": [
    "# Initializations first\n",
    "massRatio      = []       #  Creates an empty list\n",
    "massRatioValue = 1.0      #  For the conditional\n",
    "massRatioMax   = 5.0      #  Also for the conditional\n",
    "\n",
    "userInput = \"y\"\n",
    "\n",
    "# And the while loop\n",
    "while(userInput != \"N\" and massRatioValue <= massRatioMax):   #  Remember the colon!\n",
    "    #  Remember to indent!\n",
    "    massRatio.append(massRatioValue)\n",
    "    massRatioValue += 1.0\n",
    "    \n",
    "print(\"Finished creating the list massRatio!\")"
   ]
  },
  {
   "cell_type": "markdown",
   "metadata": {},
   "source": [
    "#### Q. What is massRatio?"
   ]
  },
  {
   "cell_type": "code",
   "execution_count": 27,
   "metadata": {},
   "outputs": [
    {
     "name": "stdout",
     "output_type": "stream",
     "text": [
      "[1.0, 2.0, 3.0, 4.0, 5.0]\n"
     ]
    }
   ],
   "source": [
    "print(massRatio)"
   ]
  },
  {
   "cell_type": "markdown",
   "metadata": {},
   "source": [
    "Let's say you wanted to determine how many mass ratios you put into the massRatio list. We could ask the user to say yes to adding the next value to the ratio list."
   ]
  },
  {
   "cell_type": "code",
   "execution_count": null,
   "metadata": {},
   "outputs": [],
   "source": [
    "# Initializations first\n",
    "massRatio      = []       #  Creates an empty list\n",
    "massRatioValue = 1.0      #  For the conditional\n",
    "massRatioMax   = 5.0      #  Also for the conditional\n",
    "\n",
    "userInput = \"y\"  #notice the lower case\n",
    "\n",
    "# And the while loop\n",
    "while(userInput != \"N\" and massRatioValue <= massRatioMax):   #  Remember the colon!\n",
    "    #  Remember to indent!\n",
    "    massRatio.append(massRatioValue)\n",
    "    massRatioValue += 1.0\n",
    "    \n",
    "    userInput = input(\"Add another mass ratio value? (Type 'Y' for yes or 'N' for no) \")\n",
    "    userInput = userInput.upper()  # making the input upper case!\n",
    "\n",
    "print(\"Finished creating the list massRatio!\")"
   ]
  },
  {
   "cell_type": "code",
   "execution_count": null,
   "metadata": {},
   "outputs": [],
   "source": [
    "print(massRatio)"
   ]
  },
  {
   "cell_type": "markdown",
   "metadata": {},
   "source": [
    "Now, let's assume that the user wants to input their own mass ratios:"
   ]
  },
  {
   "cell_type": "code",
   "execution_count": 32,
   "metadata": {},
   "outputs": [
    {
     "name": "stdout",
     "output_type": "stream",
     "text": [
      "Add your own mass ratio: 1\n",
      "Add your own mass ratio: 2\n",
      "Add your own mass ratio: 3\n",
      "Add your own mass ratio: 4\n",
      "Add your own mass ratio: 5\n",
      "Finihsed creating the list\n",
      "['1', '2', '3', '4', '5']\n"
     ]
    }
   ],
   "source": [
    "massRatio = []\n",
    "massRatioValue = 1.0\n",
    "massRatioMax = 5.0\n",
    "\n",
    "userInput = \"y\"\n",
    "\n",
    "while(userInput != \"N\" and massRatioValue <= massRatioMax):\n",
    "    userInput = input(\"Add your own mass ratio: \")\n",
    "    \n",
    "    massRatio.append(userInput)\n",
    "    massRatioValue += 1.0\n",
    "      \n",
    "print(\"Finihsed creating the list\") \n"
   ]
  },
  {
   "cell_type": "code",
   "execution_count": 31,
   "metadata": {},
   "outputs": [
    {
     "name": "stdout",
     "output_type": "stream",
     "text": [
      "['10', '20', '30', '40', '50']\n"
     ]
    }
   ],
   "source": [
    "print(massRatio)"
   ]
  },
  {
   "cell_type": "code",
   "execution_count": null,
   "metadata": {},
   "outputs": [],
   "source": []
  }
 ],
 "metadata": {
  "kernelspec": {
   "display_name": "Python 3",
   "language": "python",
   "name": "python3"
  },
  "language_info": {
   "codemirror_mode": {
    "name": "ipython",
    "version": 3
   },
   "file_extension": ".py",
   "mimetype": "text/x-python",
   "name": "python",
   "nbconvert_exporter": "python",
   "pygments_lexer": "ipython3",
   "version": "3.7.6"
  }
 },
 "nbformat": 4,
 "nbformat_minor": 1
}