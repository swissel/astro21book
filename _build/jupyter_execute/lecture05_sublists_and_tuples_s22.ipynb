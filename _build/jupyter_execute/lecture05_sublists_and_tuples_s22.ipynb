{
 "cells": [
  {
   "cell_type": "markdown",
   "metadata": {},
   "source": [
    "### Nested loops"
   ]
  },
  {
   "cell_type": "raw",
   "metadata": {},
   "source": [
    "Think about a simple workout:\n",
    "3 sets of 5 pushups, followed by 3 sets of 5 situps:"
   ]
  },
  {
   "cell_type": "code",
   "execution_count": 1,
   "metadata": {},
   "outputs": [
    {
     "name": "stdout",
     "output_type": "stream",
     "text": [
      "| Exercise |  Set   |   Rep    |\n",
      "--------------------------------\n",
      "|  Pushups | 1 of 3 | 1 of 5 |\n",
      "|  Pushups | 1 of 3 | 2 of 5 |\n",
      "|  Pushups | 1 of 3 | 3 of 5 |\n",
      "|  Pushups | 1 of 3 | 4 of 5 |\n",
      "|  Pushups | 1 of 3 | 5 of 5 |\n",
      "|  Pushups | 2 of 3 | 1 of 5 |\n",
      "|  Pushups | 2 of 3 | 2 of 5 |\n",
      "|  Pushups | 2 of 3 | 3 of 5 |\n",
      "|  Pushups | 2 of 3 | 4 of 5 |\n",
      "|  Pushups | 2 of 3 | 5 of 5 |\n",
      "|  Pushups | 3 of 3 | 1 of 5 |\n",
      "|  Pushups | 3 of 3 | 2 of 5 |\n",
      "|  Pushups | 3 of 3 | 3 of 5 |\n",
      "|  Pushups | 3 of 3 | 4 of 5 |\n",
      "|  Pushups | 3 of 3 | 5 of 5 |\n",
      "|   Situps | 1 of 3 | 1 of 5 |\n",
      "|   Situps | 1 of 3 | 2 of 5 |\n",
      "|   Situps | 1 of 3 | 3 of 5 |\n",
      "|   Situps | 1 of 3 | 4 of 5 |\n",
      "|   Situps | 1 of 3 | 5 of 5 |\n",
      "|   Situps | 2 of 3 | 1 of 5 |\n",
      "|   Situps | 2 of 3 | 2 of 5 |\n",
      "|   Situps | 2 of 3 | 3 of 5 |\n",
      "|   Situps | 2 of 3 | 4 of 5 |\n",
      "|   Situps | 2 of 3 | 5 of 5 |\n",
      "|   Situps | 3 of 3 | 1 of 5 |\n",
      "|   Situps | 3 of 3 | 2 of 5 |\n",
      "|   Situps | 3 of 3 | 3 of 5 |\n",
      "|   Situps | 3 of 3 | 4 of 5 |\n",
      "|   Situps | 3 of 3 | 5 of 5 |\n"
     ]
    }
   ],
   "source": [
    "#  Create and assign variables\n",
    "sets         = 3\n",
    "repsPerSet   = 5\n",
    "exerciseList = ['Pushups', 'Situps']\n",
    "\n",
    "#  Print a nice header\n",
    "print(\"| %8s | %6s | %8s |\" % (\"Exercise\", \"Set  \", \"Rep   \"))\n",
    "print(\"-\" * 32)\n",
    "\n",
    "for exercise in exerciseList:                   # The first loop  (exercises)\n",
    "    for mySet in range(sets):                   # The second loop (sets)\n",
    "        for rep in range(repsPerSet):           # The third loop  (reps)\n",
    "            print(\"| %8s | %i of %i | %i of %i |\" % \\\n",
    "                  (exercise, mySet + 1, sets, rep + 1, repsPerSet))"
   ]
  },
  {
   "cell_type": "markdown",
   "metadata": {},
   "source": [
    "#### Q. How would you change this to represent a circuit, meaning for every set you alternate doing pushups and situps?"
   ]
  },
  {
   "cell_type": "raw",
   "metadata": {},
   "source": [
    "\n",
    "\n",
    "\n",
    "\n",
    "\n",
    "\n",
    "\n",
    "\n",
    "\n",
    "\n",
    "\n",
    "\n",
    "\n",
    "\n",
    "\n"
   ]
  },
  {
   "cell_type": "code",
   "execution_count": 2,
   "metadata": {},
   "outputs": [
    {
     "name": "stdout",
     "output_type": "stream",
     "text": [
      "| Exercise |  Set   |   Rep    |\n",
      "--------------------------------\n",
      "|  Pushups | 1 of 3 | 1 of 5 |\n",
      "|  Pushups | 1 of 3 | 2 of 5 |\n",
      "|  Pushups | 1 of 3 | 3 of 5 |\n",
      "|  Pushups | 1 of 3 | 4 of 5 |\n",
      "|  Pushups | 1 of 3 | 5 of 5 |\n",
      "|   Situps | 1 of 3 | 1 of 5 |\n",
      "|   Situps | 1 of 3 | 2 of 5 |\n",
      "|   Situps | 1 of 3 | 3 of 5 |\n",
      "|   Situps | 1 of 3 | 4 of 5 |\n",
      "|   Situps | 1 of 3 | 5 of 5 |\n",
      "|  Pushups | 2 of 3 | 1 of 5 |\n",
      "|  Pushups | 2 of 3 | 2 of 5 |\n",
      "|  Pushups | 2 of 3 | 3 of 5 |\n",
      "|  Pushups | 2 of 3 | 4 of 5 |\n",
      "|  Pushups | 2 of 3 | 5 of 5 |\n",
      "|   Situps | 2 of 3 | 1 of 5 |\n",
      "|   Situps | 2 of 3 | 2 of 5 |\n",
      "|   Situps | 2 of 3 | 3 of 5 |\n",
      "|   Situps | 2 of 3 | 4 of 5 |\n",
      "|   Situps | 2 of 3 | 5 of 5 |\n",
      "|  Pushups | 3 of 3 | 1 of 5 |\n",
      "|  Pushups | 3 of 3 | 2 of 5 |\n",
      "|  Pushups | 3 of 3 | 3 of 5 |\n",
      "|  Pushups | 3 of 3 | 4 of 5 |\n",
      "|  Pushups | 3 of 3 | 5 of 5 |\n",
      "|   Situps | 3 of 3 | 1 of 5 |\n",
      "|   Situps | 3 of 3 | 2 of 5 |\n",
      "|   Situps | 3 of 3 | 3 of 5 |\n",
      "|   Situps | 3 of 3 | 4 of 5 |\n",
      "|   Situps | 3 of 3 | 5 of 5 |\n"
     ]
    }
   ],
   "source": [
    "#  Create and assign variables\n",
    "sets         = 3\n",
    "repsPerSet   = 5\n",
    "exerciseList = ['Pushups', 'Situps']\n",
    "\n",
    "#  Print a nice header\n",
    "print(\"| %8s | %6s | %8s |\" % (\"Exercise\", \"Set  \", \"Rep   \"))\n",
    "print(\"-\" * 32)\n",
    "\n",
    "\n",
    "for mySet in range(sets):                       # The first loop  (sets)\n",
    "    for exercise in exerciseList:               # The second loop (exercises)\n",
    "        for rep in range(repsPerSet):           # The third loop  (reps)\n",
    "            print(\"| %8s | %i of %i | %i of %i |\" % \\\n",
    "                  (exercise, mySet + 1, sets, rep + 1, repsPerSet))"
   ]
  },
  {
   "cell_type": "markdown",
   "metadata": {},
   "source": [
    "## Today: Nested Lists and Tuples"
   ]
  },
  {
   "cell_type": "raw",
   "metadata": {},
   "source": [
    "Nested list: a list where elements are themselves lists (\"sublists\").\n",
    "\n",
    "Example: A table of data represented as a list, where each\n",
    "element represents a row of data."
   ]
  },
  {
   "cell_type": "markdown",
   "metadata": {},
   "source": [
    "For this topic, we are now going to use Kepler's Third Law which relates the orbital period of a planet to its semimajor axis (average distance to the center of the Sun in this case). We will assume the mass of the planet is much less than the mass of the Sun.\n",
    "\n",
    "$P^2 = ka^3$\n",
    "\n",
    "$P$ is the period, $k$ is a constant, $a$ is the\n",
    "semimajor axis\n",
    "\n",
    "So, \n",
    "\n",
    "$P = \\sqrt{k a^{3}}$\n",
    "\n",
    "$a = 1.5\\times 10^{11}$ m for the Earth (one astronomical unit [AU])\n",
    "\n",
    "$k = \\frac{4\\pi^2}{GM}$ where $G$ is the gravitational constant and $M$ is the mass of the body being orbited in kilograms [kg] (the Sun in this case)"
   ]
  },
  {
   "cell_type": "code",
   "execution_count": 3,
   "metadata": {},
   "outputs": [
    {
     "name": "stdout",
     "output_type": "stream",
     "text": [
      "Calculate the period for Earth\n",
      "k = 2.95940e-19\n",
      "P in seconds = 3.16038e+07\n",
      "P in years = 1.00\n"
     ]
    }
   ],
   "source": [
    "import math\n",
    "G    = 6.67e-11          # Units:  kg^-1 m s^-2\n",
    "mass = 2.0e30            # Solar mass, kg\n",
    "secPerYear = 3.15e7      # Seconds in 1 Earth year\n",
    "\n",
    "print('Calculate the period for Earth')\n",
    "\n",
    "k = 4 * math.pi**2 / (G * mass)\n",
    "print('k = %.5e' % k)\n",
    "\n",
    "aveDistEarth = 1.5e11\n",
    "P = math.sqrt(k * aveDistEarth**3)\n",
    "print('P in seconds = %g' % P)\n",
    "print('P in years = %.2f' % (P / secPerYear))\n",
    "\n",
    "# Q. What is the format of the \"P in years\" in the print statement?"
   ]
  },
  {
   "cell_type": "raw",
   "metadata": {},
   "source": [
    "Now, to make a table with two lists (and use list comprehension!):"
   ]
  },
  {
   "cell_type": "code",
   "execution_count": 4,
   "metadata": {},
   "outputs": [
    {
     "name": "stdout",
     "output_type": "stream",
     "text": [
      "[1, 2, 3, 4, 5, 6, 7, 8, 9, 10]\n",
      "[1.0032941693800086, 2.837744442774115, 5.21326942891137, 8.026353355040069, 11.217169820814437, 14.745352661342999, 18.58126804814432, 22.70195554219292, 27.088942573260237, 31.726947384075913]\n"
     ]
    }
   ],
   "source": [
    "ratioList = list(range(1, 11, 1)) # ratios of (Planet X / Earth) distance to the sun in AU\n",
    "\n",
    "# Q. What does the line below do?\n",
    "\n",
    "periodList = [math.sqrt(k * (ratio * aveDistEarth)**3) / secPerYear for ratio in ratioList] \n",
    "\n",
    "\n",
    "\n",
    "\n",
    "\n",
    "\n",
    "\n",
    "\n",
    "\n",
    "print(ratioList)\n",
    "print(periodList)\n"
   ]
  },
  {
   "cell_type": "raw",
   "metadata": {},
   "source": [
    "\"periodList = ...\" line is equivalent to:\n",
    "\n",
    "periodList = []\n",
    "for ratio in ratioList:\n",
    "    periodList.append(math.sqrt(k * (ratio * aveDistEarth)**3) / secPerYear)"
   ]
  },
  {
   "cell_type": "code",
   "execution_count": 5,
   "metadata": {},
   "outputs": [],
   "source": [
    "table = [ratioList, periodList]"
   ]
  },
  {
   "cell_type": "markdown",
   "metadata": {},
   "source": [
    "#### Q. What (exactly) is table?  "
   ]
  },
  {
   "cell_type": "code",
   "execution_count": 6,
   "metadata": {},
   "outputs": [
    {
     "data": {
      "text/plain": [
       "[[1, 2, 3, 4, 5, 6, 7, 8, 9, 10],\n",
       " [1.0032941693800086,\n",
       "  2.837744442774115,\n",
       "  5.21326942891137,\n",
       "  8.026353355040069,\n",
       "  11.217169820814437,\n",
       "  14.745352661342999,\n",
       "  18.58126804814432,\n",
       "  22.70195554219292,\n",
       "  27.088942573260237,\n",
       "  31.726947384075913]]"
      ]
     },
     "execution_count": 6,
     "metadata": {},
     "output_type": "execute_result"
    }
   ],
   "source": [
    "list(table)"
   ]
  },
  {
   "cell_type": "markdown",
   "metadata": {},
   "source": [
    "#### Jupiter orbits at ~5 AU and has a period of ~12 years.  Does this check out?"
   ]
  },
  {
   "cell_type": "markdown",
   "metadata": {},
   "source": [
    "#### Q. What will this produce?"
   ]
  },
  {
   "cell_type": "code",
   "execution_count": 7,
   "metadata": {},
   "outputs": [
    {
     "data": {
      "text/plain": [
       "[1, 2, 3, 4, 5, 6, 7, 8, 9, 10]"
      ]
     },
     "execution_count": 7,
     "metadata": {},
     "output_type": "execute_result"
    }
   ],
   "source": [
    "table[0]"
   ]
  },
  {
   "cell_type": "markdown",
   "metadata": {},
   "source": [
    "#### Q. What will this produce?"
   ]
  },
  {
   "cell_type": "code",
   "execution_count": 8,
   "metadata": {},
   "outputs": [
    {
     "data": {
      "text/plain": [
       "[1.0032941693800086,\n",
       " 2.837744442774115,\n",
       " 5.21326942891137,\n",
       " 8.026353355040069,\n",
       " 11.217169820814437,\n",
       " 14.745352661342999,\n",
       " 18.58126804814432,\n",
       " 22.70195554219292,\n",
       " 27.088942573260237,\n",
       " 31.726947384075913]"
      ]
     },
     "execution_count": 8,
     "metadata": {},
     "output_type": "execute_result"
    }
   ],
   "source": [
    "table[1]"
   ]
  },
  {
   "cell_type": "markdown",
   "metadata": {},
   "source": [
    "#### Q. This?"
   ]
  },
  {
   "cell_type": "code",
   "execution_count": 9,
   "metadata": {},
   "outputs": [
    {
     "ename": "IndexError",
     "evalue": "list index out of range",
     "output_type": "error",
     "traceback": [
      "\u001b[0;31m---------------------------------------------------------------------------\u001b[0m",
      "\u001b[0;31mIndexError\u001b[0m                                Traceback (most recent call last)",
      "\u001b[0;32m<ipython-input-9-711a38b14205>\u001b[0m in \u001b[0;36m<module>\u001b[0;34m\u001b[0m\n\u001b[0;32m----> 1\u001b[0;31m \u001b[0mtable\u001b[0m\u001b[0;34m[\u001b[0m\u001b[0;36m2\u001b[0m\u001b[0;34m]\u001b[0m\u001b[0;34m\u001b[0m\u001b[0;34m\u001b[0m\u001b[0m\n\u001b[0m",
      "\u001b[0;31mIndexError\u001b[0m: list index out of range"
     ]
    }
   ],
   "source": [
    "table[2]"
   ]
  },
  {
   "cell_type": "raw",
   "metadata": {},
   "source": [
    "To access the fourth element of the first sublist:"
   ]
  },
  {
   "cell_type": "code",
   "execution_count": 10,
   "metadata": {},
   "outputs": [
    {
     "data": {
      "text/plain": [
       "4"
      ]
     },
     "execution_count": 10,
     "metadata": {},
     "output_type": "execute_result"
    }
   ],
   "source": [
    "table[0][3]"
   ]
  },
  {
   "cell_type": "code",
   "execution_count": 11,
   "metadata": {},
   "outputs": [
    {
     "data": {
      "text/plain": [
       "[[1, 2, 3, 4, 5, 6, 7, 8, 9, 10],\n",
       " [1.0032941693800086,\n",
       "  2.837744442774115,\n",
       "  5.21326942891137,\n",
       "  8.026353355040069,\n",
       "  11.217169820814437,\n",
       "  14.745352661342999,\n",
       "  18.58126804814432,\n",
       "  22.70195554219292,\n",
       "  27.088942573260237,\n",
       "  31.726947384075913]]"
      ]
     },
     "execution_count": 11,
     "metadata": {},
     "output_type": "execute_result"
    }
   ],
   "source": [
    "table # for reference"
   ]
  },
  {
   "cell_type": "markdown",
   "metadata": {},
   "source": [
    "#### Q. What will this produce?"
   ]
  },
  {
   "cell_type": "code",
   "execution_count": 12,
   "metadata": {},
   "outputs": [
    {
     "data": {
      "text/plain": [
       "31.726947384075913"
      ]
     },
     "execution_count": 12,
     "metadata": {},
     "output_type": "execute_result"
    }
   ],
   "source": [
    "table[1][9]"
   ]
  },
  {
   "cell_type": "markdown",
   "metadata": {},
   "source": [
    "### Formatting Tables"
   ]
  },
  {
   "cell_type": "raw",
   "metadata": {},
   "source": [
    "The ordering of the data is up to you: \n",
    "\n",
    "Above, we made a list containing 2 sublists, \n",
    "each with 10-elements.\n",
    "\n",
    "Instead, we could make a list with 10 sublists, \n",
    "each with 2-elements.\n",
    "\n",
    "This could be done using a for loop and append or the zip function, to be covered later."
   ]
  },
  {
   "cell_type": "code",
   "execution_count": null,
   "metadata": {},
   "outputs": [],
   "source": [
    "table # for reference (2 10-element sublists)"
   ]
  },
  {
   "cell_type": "code",
   "execution_count": 13,
   "metadata": {},
   "outputs": [
    {
     "data": {
      "text/plain": [
       "[[1, 1.0032941693800086],\n",
       " [2, 2.837744442774115],\n",
       " [3, 5.21326942891137],\n",
       " [4, 8.026353355040069],\n",
       " [5, 11.217169820814437],\n",
       " [6, 14.745352661342999],\n",
       " [7, 18.58126804814432],\n",
       " [8, 22.70195554219292],\n",
       " [9, 27.088942573260237],\n",
       " [10, 31.726947384075913]]"
      ]
     },
     "execution_count": 13,
     "metadata": {},
     "output_type": "execute_result"
    }
   ],
   "source": [
    "table = []\n",
    "for index in range(len(ratioList)):\n",
    "    table.append([ratioList[index], periodList[index]])\n",
    "table"
   ]
  },
  {
   "cell_type": "markdown",
   "metadata": {},
   "source": [
    "#### Q. What will this produce?"
   ]
  },
  {
   "cell_type": "code",
   "execution_count": 14,
   "metadata": {},
   "outputs": [
    {
     "data": {
      "text/plain": [
       "[5, 11.217169820814437]"
      ]
     },
     "execution_count": 14,
     "metadata": {},
     "output_type": "execute_result"
    }
   ],
   "source": [
    "table[4]"
   ]
  },
  {
   "cell_type": "markdown",
   "metadata": {},
   "source": [
    "#### Q. What will this produce?"
   ]
  },
  {
   "cell_type": "code",
   "execution_count": 16,
   "metadata": {},
   "outputs": [
    {
     "data": {
      "text/plain": [
       "11.217169820814437"
      ]
     },
     "execution_count": 16,
     "metadata": {},
     "output_type": "execute_result"
    }
   ],
   "source": [
    "table[4][1]"
   ]
  },
  {
   "cell_type": "markdown",
   "metadata": {},
   "source": [
    "#### Q. What will this produce?"
   ]
  },
  {
   "cell_type": "code",
   "execution_count": 17,
   "metadata": {},
   "outputs": [
    {
     "data": {
      "text/plain": [
       "[10, 31.726947384075913]"
      ]
     },
     "execution_count": 17,
     "metadata": {},
     "output_type": "execute_result"
    }
   ],
   "source": [
    "table[-1]"
   ]
  },
  {
   "cell_type": "raw",
   "metadata": {},
   "source": [
    "Thus:  the first index refers to a particular sublist (row), and \n",
    "the second index refers to elements within that sublist (column)."
   ]
  },
  {
   "cell_type": "markdown",
   "metadata": {},
   "source": [
    "### Printing Objects"
   ]
  },
  {
   "cell_type": "raw",
   "metadata": {},
   "source": [
    "Note that print table produces ugly output:"
   ]
  },
  {
   "cell_type": "code",
   "execution_count": null,
   "metadata": {},
   "outputs": [],
   "source": [
    "print(table)"
   ]
  },
  {
   "cell_type": "raw",
   "metadata": {},
   "source": [
    "However, for readable outputs, we can use a for loop and \n",
    "specify the formatting explicitly ourselves."
   ]
  },
  {
   "cell_type": "code",
   "execution_count": 21,
   "metadata": {},
   "outputs": [
    {
     "name": "stdout",
     "output_type": "stream",
     "text": [
      " 1 1.0\n",
      " 2 2.8\n",
      " 3 5.2\n",
      " 4 8.0\n",
      " 5 11.2\n",
      " 6 14.7\n",
      " 7 18.6\n",
      " 8 22.7\n",
      " 9 27.1\n",
      "10 31.7\n"
     ]
    }
   ],
   "source": [
    "for index in range(len(ratioList)):\n",
    "    print('%2i %.1f' % (ratioList[index], periodList[index]))"
   ]
  },
  {
   "cell_type": "raw",
   "metadata": {},
   "source": [
    "Or, without referring to an index:"
   ]
  },
  {
   "cell_type": "code",
   "execution_count": 22,
   "metadata": {},
   "outputs": [
    {
     "name": "stdout",
     "output_type": "stream",
     "text": [
      " 1 1.0\n",
      " 2 2.8\n",
      " 3 5.2\n",
      " 4 8.0\n",
      " 5 11.2\n",
      " 6 14.7\n",
      " 7 18.6\n",
      " 8 22.7\n",
      " 9 27.1\n",
      "10 31.7\n"
     ]
    }
   ],
   "source": [
    "for ratio, period in table:\n",
    "    print('%2d %.1f' % (ratio, period))"
   ]
  },
  {
   "cell_type": "raw",
   "metadata": {},
   "source": [
    "This is reminiscent of our enumerate examples,\n",
    "except rather than getting (index, value) pairs, \n",
    "we get (ratio, period) pairs. In words, we are \"unpacking\" the elements of table."
   ]
  },
  {
   "cell_type": "markdown",
   "metadata": {},
   "source": [
    "### Extracting Sublists"
   ]
  },
  {
   "cell_type": "raw",
   "metadata": {},
   "source": [
    "Sometimes we want to operate on only parts of lists.\n",
    "The syntax for this is particularly simple:"
   ]
  },
  {
   "cell_type": "code",
   "execution_count": 24,
   "metadata": {},
   "outputs": [
    {
     "name": "stdout",
     "output_type": "stream",
     "text": [
      "[1, 2, 3, 4, 5, 6, 7, 8, 9, 10]\n"
     ]
    },
    {
     "data": {
      "text/plain": [
       "[6, 7, 8, 9, 10]"
      ]
     },
     "execution_count": 24,
     "metadata": {},
     "output_type": "execute_result"
    }
   ],
   "source": [
    "print(ratioList)\n",
    "ratioList[5:]   # will extract from index 5 to end"
   ]
  },
  {
   "cell_type": "markdown",
   "metadata": {},
   "source": [
    "#### Q. What will happen when I run this?"
   ]
  },
  {
   "cell_type": "code",
   "execution_count": 25,
   "metadata": {},
   "outputs": [
    {
     "name": "stdout",
     "output_type": "stream",
     "text": [
      "[7, 8, 9, 10]\n"
     ]
    }
   ],
   "source": [
    "b = ratioList[6:]\n",
    "print(b)"
   ]
  },
  {
   "cell_type": "code",
   "execution_count": 26,
   "metadata": {},
   "outputs": [
    {
     "data": {
      "text/plain": [
       "[1.0032941693800086,\n",
       " 2.837744442774115,\n",
       " 5.21326942891137,\n",
       " 8.026353355040069,\n",
       " 11.217169820814437,\n",
       " 14.745352661342999,\n",
       " 18.58126804814432,\n",
       " 22.70195554219292,\n",
       " 27.088942573260237,\n",
       " 31.726947384075913]"
      ]
     },
     "execution_count": 26,
     "metadata": {},
     "output_type": "execute_result"
    }
   ],
   "source": [
    "periodList # for reference below"
   ]
  },
  {
   "cell_type": "raw",
   "metadata": {},
   "source": [
    "To extract elements with indices 5 to 7-1:"
   ]
  },
  {
   "cell_type": "code",
   "execution_count": 27,
   "metadata": {},
   "outputs": [
    {
     "data": {
      "text/plain": [
       "[14.745352661342999, 18.58126804814432]"
      ]
     },
     "execution_count": 27,
     "metadata": {},
     "output_type": "execute_result"
    }
   ],
   "source": [
    "periodList[5:7]   "
   ]
  },
  {
   "cell_type": "raw",
   "metadata": {},
   "source": [
    "To extract up to **but not including** index 5:"
   ]
  },
  {
   "cell_type": "code",
   "execution_count": null,
   "metadata": {},
   "outputs": [],
   "source": [
    "periodList[:5]  "
   ]
  },
  {
   "cell_type": "markdown",
   "metadata": {},
   "source": [
    "#### Q. How could I extract all elements but the last one? (Hint:  There is more than one way.)"
   ]
  },
  {
   "cell_type": "raw",
   "metadata": {},
   "source": [
    "\n",
    "\n",
    "\n",
    "\n",
    "\n",
    "\n",
    "\n",
    "\n",
    "\n",
    "\n",
    "\n",
    "\n",
    "\n",
    "\n",
    "\n",
    "\n",
    "\n"
   ]
  },
  {
   "cell_type": "code",
   "execution_count": 28,
   "metadata": {},
   "outputs": [
    {
     "data": {
      "text/plain": [
       "[1.0032941693800086,\n",
       " 2.837744442774115,\n",
       " 5.21326942891137,\n",
       " 8.026353355040069,\n",
       " 11.217169820814437,\n",
       " 14.745352661342999,\n",
       " 18.58126804814432,\n",
       " 22.70195554219292,\n",
       " 27.088942573260237]"
      ]
     },
     "execution_count": 28,
     "metadata": {},
     "output_type": "execute_result"
    }
   ],
   "source": [
    "periodList[0:-1]"
   ]
  },
  {
   "cell_type": "markdown",
   "metadata": {},
   "source": [
    "#### Q. And what might this do?"
   ]
  },
  {
   "cell_type": "code",
   "execution_count": 29,
   "metadata": {},
   "outputs": [
    {
     "data": {
      "text/plain": [
       "[1.0032941693800086,\n",
       " 2.837744442774115,\n",
       " 5.21326942891137,\n",
       " 8.026353355040069,\n",
       " 11.217169820814437,\n",
       " 14.745352661342999,\n",
       " 18.58126804814432,\n",
       " 22.70195554219292,\n",
       " 27.088942573260237,\n",
       " 31.726947384075913]"
      ]
     },
     "execution_count": 29,
     "metadata": {},
     "output_type": "execute_result"
    }
   ],
   "source": [
    "periodList[:]"
   ]
  },
  {
   "cell_type": "markdown",
   "metadata": {},
   "source": [
    "### Extracting \"slices\" from nested lists"
   ]
  },
  {
   "cell_type": "raw",
   "metadata": {},
   "source": [
    "The bookkeeping can get very tedious when we do this -- be careful!\n",
    "\n",
    "Just a reminder what is in table:"
   ]
  },
  {
   "cell_type": "code",
   "execution_count": 30,
   "metadata": {},
   "outputs": [
    {
     "data": {
      "text/plain": [
       "[[1, 1.0032941693800086],\n",
       " [2, 2.837744442774115],\n",
       " [3, 5.21326942891137],\n",
       " [4, 8.026353355040069],\n",
       " [5, 11.217169820814437],\n",
       " [6, 14.745352661342999],\n",
       " [7, 18.58126804814432],\n",
       " [8, 22.70195554219292],\n",
       " [9, 27.088942573260237],\n",
       " [10, 31.726947384075913]]"
      ]
     },
     "execution_count": 30,
     "metadata": {},
     "output_type": "execute_result"
    }
   ],
   "source": [
    "table"
   ]
  },
  {
   "cell_type": "raw",
   "metadata": {},
   "source": [
    "Here I slice in the first index.\n",
    "(This is best learned by example.)"
   ]
  },
  {
   "cell_type": "code",
   "execution_count": 31,
   "metadata": {},
   "outputs": [
    {
     "data": {
      "text/plain": [
       "[[3, 5.21326942891137],\n",
       " [4, 8.026353355040069],\n",
       " [5, 11.217169820814437],\n",
       " [6, 14.745352661342999],\n",
       " [7, 18.58126804814432],\n",
       " [8, 22.70195554219292],\n",
       " [9, 27.088942573260237],\n",
       " [10, 31.726947384075913]]"
      ]
     },
     "execution_count": 31,
     "metadata": {},
     "output_type": "execute_result"
    }
   ],
   "source": [
    "table[2:]"
   ]
  },
  {
   "cell_type": "markdown",
   "metadata": {},
   "source": [
    "#### Q. So, what will this do?"
   ]
  },
  {
   "cell_type": "code",
   "execution_count": 32,
   "metadata": {},
   "outputs": [
    {
     "data": {
      "text/plain": [
       "[[1, 1.0032941693800086],\n",
       " [2, 2.837744442774115],\n",
       " [3, 5.21326942891137],\n",
       " [4, 8.026353355040069],\n",
       " [5, 11.217169820814437],\n",
       " [6, 14.745352661342999],\n",
       " [7, 18.58126804814432],\n",
       " [8, 22.70195554219292]]"
      ]
     },
     "execution_count": 32,
     "metadata": {},
     "output_type": "execute_result"
    }
   ],
   "source": [
    "table[:-2]"
   ]
  },
  {
   "cell_type": "raw",
   "metadata": {},
   "source": [
    "We can also slice over both indices:"
   ]
  },
  {
   "cell_type": "code",
   "execution_count": 33,
   "metadata": {},
   "outputs": [
    {
     "data": {
      "text/plain": [
       "[[1, 1.0032941693800086],\n",
       " [2, 2.837744442774115],\n",
       " [3, 5.21326942891137],\n",
       " [4, 8.026353355040069],\n",
       " [5, 11.217169820814437],\n",
       " [6, 14.745352661342999],\n",
       " [7, 18.58126804814432],\n",
       " [8, 22.70195554219292],\n",
       " [9, 27.088942573260237],\n",
       " [10, 31.726947384075913]]"
      ]
     },
     "execution_count": 33,
     "metadata": {},
     "output_type": "execute_result"
    }
   ],
   "source": [
    "table"
   ]
  },
  {
   "cell_type": "code",
   "execution_count": 34,
   "metadata": {},
   "outputs": [
    {
     "data": {
      "text/plain": [
       "[[5, 11.217169820814437], [6, 14.745352661342999]]"
      ]
     },
     "execution_count": 34,
     "metadata": {},
     "output_type": "execute_result"
    }
   ],
   "source": [
    "table[4:8][0:2]"
   ]
  },
  {
   "cell_type": "markdown",
   "metadata": {},
   "source": [
    "#### Q. What did that line just do?"
   ]
  },
  {
   "cell_type": "raw",
   "metadata": {},
   "source": [
    "\n",
    "\n",
    "\n",
    "\n",
    "\n",
    "\n",
    "\n",
    "\n",
    "\n",
    "\n",
    "\n",
    "\n",
    "\n",
    "\n",
    "\n",
    "\n"
   ]
  },
  {
   "cell_type": "raw",
   "metadata": {},
   "source": [
    "table[4:7] selected rows 5, 6, 7, and 8\n",
    "and [0:2] selected the first two elements of that slice."
   ]
  },
  {
   "cell_type": "code",
   "execution_count": null,
   "metadata": {},
   "outputs": [],
   "source": [
    "table\n"
   ]
  },
  {
   "cell_type": "markdown",
   "metadata": {},
   "source": [
    "#### Q. What will this do?"
   ]
  },
  {
   "cell_type": "code",
   "execution_count": null,
   "metadata": {},
   "outputs": [],
   "source": [
    "table[4:7][1]"
   ]
  },
  {
   "cell_type": "code",
   "execution_count": null,
   "metadata": {},
   "outputs": [],
   "source": [
    "table"
   ]
  },
  {
   "cell_type": "raw",
   "metadata": {},
   "source": [
    "The next two slices are *almost* identical:"
   ]
  },
  {
   "cell_type": "code",
   "execution_count": null,
   "metadata": {},
   "outputs": [],
   "source": [
    "table[4:7][0]     # Notice result: not nested"
   ]
  },
  {
   "cell_type": "code",
   "execution_count": null,
   "metadata": {},
   "outputs": [],
   "source": [
    "table[4:7][:-2]   # Notice result: nested -- it could have had \n",
    "# multiple sublists, it just happens there's only one."
   ]
  },
  {
   "cell_type": "code",
   "execution_count": null,
   "metadata": {},
   "outputs": [],
   "source": [
    "# Let's print just a range of the table to make sure we understand this.\n",
    "# We'll use the index method."
   ]
  },
  {
   "cell_type": "code",
   "execution_count": null,
   "metadata": {},
   "outputs": [],
   "source": [
    "# Print from semimajor axis ratios of 1 to 5:\n",
    "\n",
    "for ratio, period in table[ratioList.index(1):ratioList.index(6)]:\n",
    "    print('%2d %.1f' % (ratio, period))\n",
    "\n",
    "# Recall that index(x) refers to the first index\n",
    "# in the list that has a value of x\n",
    "print()\n",
    "print(ratioList)\n",
    "print(\"1st Index:\", ratioList.index(1))\n",
    "print(\"2nd Index:\", ratioList.index(6))"
   ]
  },
  {
   "cell_type": "code",
   "execution_count": null,
   "metadata": {},
   "outputs": [],
   "source": [
    "# Which is the same as:\n",
    "\n",
    "for ratio, period in table[0:5]:\n",
    "    print('%2d %.1f' % (ratio, period))"
   ]
  },
  {
   "cell_type": "markdown",
   "metadata": {},
   "source": [
    "### Tuples"
   ]
  },
  {
   "cell_type": "raw",
   "metadata": {},
   "source": [
    "Tuples are like lists but are *immutable*. \n",
    "That is, their elements cannot be modified.\n",
    "\n",
    "Lists use square brackets, tuples use parentheses.\n",
    "\n",
    "Tuples are useful because they cannot be overwritten and\n",
    "because tuple-based code is faster than list-based code \n",
    "(you'll care about this someday)."
   ]
  },
  {
   "cell_type": "raw",
   "metadata": {},
   "source": [
    "Here is an arbitrary tuple:"
   ]
  },
  {
   "cell_type": "code",
   "execution_count": null,
   "metadata": {},
   "outputs": [],
   "source": [
    "test = (1, 2.0, 'square')\n",
    "print(test)"
   ]
  },
  {
   "cell_type": "raw",
   "metadata": {},
   "source": [
    "Note that we can even define a tuple without a variable name! "
   ]
  },
  {
   "cell_type": "code",
   "execution_count": null,
   "metadata": {},
   "outputs": [],
   "source": [
    "for element in (2.0, 4.0, 'triangle'):\n",
    "    print(element)\n",
    "\n",
    "# (This is fine, but of course we couldn't refer to the tuple.)"
   ]
  },
  {
   "cell_type": "raw",
   "metadata": {},
   "source": [
    "Tuples can be manipulated similarly to lists"
   ]
  },
  {
   "cell_type": "code",
   "execution_count": null,
   "metadata": {},
   "outputs": [],
   "source": [
    "test = (2.0, 4.0, 'circle')\n",
    "test = test + (5.0, 6.0)      # I've added elements to the tuple:  5.0 and 6.0\n",
    "print(test)"
   ]
  },
  {
   "cell_type": "markdown",
   "metadata": {},
   "source": [
    "#### Q. Review:  What will this do?"
   ]
  },
  {
   "cell_type": "code",
   "execution_count": null,
   "metadata": {},
   "outputs": [],
   "source": [
    "test[-2]"
   ]
  },
  {
   "cell_type": "markdown",
   "metadata": {},
   "source": [
    "#### Q. And this?"
   ]
  },
  {
   "cell_type": "code",
   "execution_count": null,
   "metadata": {},
   "outputs": [],
   "source": [
    "test[:-2]"
   ]
  },
  {
   "cell_type": "markdown",
   "metadata": {},
   "source": [
    "#### Q. And what will be returned by this?"
   ]
  },
  {
   "cell_type": "code",
   "execution_count": null,
   "metadata": {},
   "outputs": [],
   "source": [
    "'circle' in test"
   ]
  },
  {
   "cell_type": "raw",
   "metadata": {},
   "source": [
    "Note:  List operations don't work on tuples, such as test.append() or del test[1]"
   ]
  },
  {
   "cell_type": "markdown",
   "metadata": {},
   "source": [
    "### Recap"
   ]
  },
  {
   "cell_type": "raw",
   "metadata": {},
   "source": [
    "1) Slicing: first index for main list, second for sublists\n",
    "2) Tuples: immutable!"
   ]
  },
  {
   "cell_type": "markdown",
   "metadata": {},
   "source": [
    "### Summary of important list functionality to review"
   ]
  },
  {
   "cell_type": "code",
   "execution_count": null,
   "metadata": {},
   "outputs": [],
   "source": [
    "# a = []          initialize an empty list\n",
    "# a = [1., 2]     initialize a list\n",
    "# a.append(elem)  add the elem object to the end of the list\n",
    "# a + [5, 4]      concatenate (join) two lists\n",
    "# a.insert(i, e)  insert element e at index i\n",
    "# a[5]            acess the value of the element at index 5\n",
    "# a[-1]           get the last list element value\n",
    "# a[4:7]          slice list a\n",
    "# del a[i]        delete list element with index i\n",
    "# a.remove(e)     remove list element with value e (not index e)\n",
    "# a.index('test') find the index where the element has the value 'test'\n",
    "# 4 in a          find out whether 4 is in a\n",
    "# a.count(4)      count how many times 4 is in a\n",
    "# len(a)          return the number of elements in a\n",
    "# min(a)          return the smallest element in a\n",
    "# max(a)          return the largest element in a\n",
    "# sum(a)          add all the elements in a\n",
    "# sorted(a)       return a sorted version of list a\n",
    "# reversed(a)     return a reversed version of list a\n",
    "# a[1][0][4]      nested list indexing (3 dimensional list in this case)"
   ]
  },
  {
   "cell_type": "code",
   "execution_count": null,
   "metadata": {},
   "outputs": [],
   "source": []
  }
 ],
 "metadata": {
  "kernelspec": {
   "display_name": "Python 3",
   "language": "python",
   "name": "python3"
  },
  "language_info": {
   "codemirror_mode": {
    "name": "ipython",
    "version": 3
   },
   "file_extension": ".py",
   "mimetype": "text/x-python",
   "name": "python",
   "nbconvert_exporter": "python",
   "pygments_lexer": "ipython3",
   "version": "3.7.6"
  }
 },
 "nbformat": 4,
 "nbformat_minor": 1
}