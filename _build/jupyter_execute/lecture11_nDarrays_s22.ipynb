{
 "cells": [
  {
   "cell_type": "markdown",
   "metadata": {},
   "source": [
    "# Multi-Dimensional Arrays"
   ]
  },
  {
   "cell_type": "raw",
   "metadata": {},
   "source": [
    "Matrices and Arrays\n",
    "\n",
    "You will delve into matrices in great depth when you take linear algebra, which is crucial for astronomy (think of representing astronomical images as 2-D matrices)!"
   ]
  },
  {
   "cell_type": "markdown",
   "metadata": {},
   "source": [
    "Standard matrix notation is $A_{i,j}$, where i and j are\n",
    "the row and column numbers, respectively.\n",
    "\n",
    "Read $A_{i,j}$ as \"A-sub-i-sub-j\" or \"A-sub-i-j\".\n",
    "Commas are often not used in the subscripts or\n",
    "have different meanings.\n",
    " \n",
    "In standard mathematics, the indexing starts with 1.\n",
    "\n",
    "In Python, the indexing starts with 0.\n"
   ]
  },
  {
   "cell_type": "markdown",
   "metadata": {},
   "source": [
    "Matrices (arrays) can have an arbitrary number of dimensions.\n",
    "\n",
    "The number of dimensions is the \"rank\"."
   ]
  },
  {
   "cell_type": "markdown",
   "metadata": {},
   "source": [
    "#### Q. What is the rank of $A_{i,j,k,l}$?"
   ]
  },
  {
   "cell_type": "markdown",
   "metadata": {},
   "source": [
    "The shape of an array is a $d$-vector (or 1-D array) that holds the number of elements in each dimension. $d$ represents the dimensionality of the array.\n",
    "\n",
    "E.g., the shape of a $A_{i,j,k,l}$ is ($n_i$, $n_j$, $n_k$, $n_l$), where n denotes the number of elements in dimensions $i$, $j$, $k$, and $l$."
   ]
  },
  {
   "cell_type": "markdown",
   "metadata": {},
   "source": [
    "### Two-Dimensional Numerical Python Arrays"
   ]
  },
  {
   "cell_type": "markdown",
   "metadata": {},
   "source": [
    "A 2-D array is a matrix, and is analogous to an array of arrays, though each element of an array must have the same data type."
   ]
  },
  {
   "cell_type": "markdown",
   "metadata": {},
   "source": [
    "Example:  $\\lambda = \\frac{c}{f}$\n",
    "\n",
    "where $\\lambda$ is wavelength in meters, \n",
    "speed of light, $c = 3.00 \\cdot 10^8$ m/s, \n",
    "and $f$ is frequency in Hz."
   ]
  },
  {
   "cell_type": "code",
   "execution_count": 1,
   "metadata": {},
   "outputs": [
    {
     "name": "stdout",
     "output_type": "stream",
     "text": [
      "[1.  1.1 1.2 1.3 1.4 1.5 1.6 1.7 1.8 1.9 2.  2.1 2.2 2.3 2.4 2.5 2.6 2.7\n",
      " 2.8 2.9 3. ]\n"
     ]
    }
   ],
   "source": [
    "import numpy as np\n",
    "c = 3.0e8\n",
    "\n",
    "# Create a wavelength array (in mm; close to \n",
    "# the peak of the cosmic microwave background radiation = 1.9 mm):\n",
    "\n",
    "waveArray = np.linspace(1.0, 3.0, 21)\n",
    "print(waveArray)"
   ]
  },
  {
   "cell_type": "code",
   "execution_count": 2,
   "metadata": {},
   "outputs": [
    {
     "name": "stdout",
     "output_type": "stream",
     "text": [
      "[3.00000000e+11 2.72727273e+11 2.50000000e+11 2.30769231e+11\n",
      " 2.14285714e+11 2.00000000e+11 1.87500000e+11 1.76470588e+11\n",
      " 1.66666667e+11 1.57894737e+11 1.50000000e+11 1.42857143e+11\n",
      " 1.36363636e+11 1.30434783e+11 1.25000000e+11 1.20000000e+11\n",
      " 1.15384615e+11 1.11111111e+11 1.07142857e+11 1.03448276e+11\n",
      " 1.00000000e+11]\n"
     ]
    }
   ],
   "source": [
    "# Now, convert to frequency \n",
    "# (note conversion from mm to m):\n",
    "\n",
    "freqArray = c / (waveArray / 1e3)\n",
    "print(freqArray)"
   ]
  },
  {
   "cell_type": "markdown",
   "metadata": {},
   "source": [
    "### Make a table with pairs of wavelength and frequency"
   ]
  },
  {
   "cell_type": "raw",
   "metadata": {},
   "source": [
    "\n",
    "\n",
    "\n",
    "\n",
    "\n",
    "\n",
    "\n",
    "using zip!\n",
    "\n"
   ]
  },
  {
   "cell_type": "code",
   "execution_count": 3,
   "metadata": {},
   "outputs": [
    {
     "name": "stdout",
     "output_type": "stream",
     "text": [
      "[1.0, 300000000000.0]\n",
      "[1.1, 272727272727.2727]\n",
      "[1.2, 250000000000.00003]\n",
      "[1.3, 230769230769.23077]\n",
      "[1.4, 214285714285.7143]\n",
      "[1.5, 200000000000.0]\n",
      "[1.6, 187500000000.0]\n",
      "[1.7000000000000002, 176470588235.2941]\n",
      "[1.8, 166666666666.66666]\n",
      "[1.9, 157894736842.10526]\n",
      "[2.0, 150000000000.0]\n",
      "[2.1, 142857142857.14282]\n",
      "[2.2, 136363636363.63635]\n",
      "[2.3, 130434782608.69565]\n",
      "[2.4000000000000004, 124999999999.99998]\n",
      "[2.5, 120000000000.0]\n",
      "[2.6, 115384615384.61539]\n",
      "[2.7, 111111111111.1111]\n",
      "[2.8, 107142857142.85715]\n",
      "[2.9000000000000004, 103448275862.06895]\n",
      "[3.0, 100000000000.0]\n"
     ]
    }
   ],
   "source": [
    "table = [[wavelength, frequency] for wavelength, frequency in zip(waveArray, freqArray)]\n",
    "\n",
    "for row in table:\n",
    "    print(row)"
   ]
  },
  {
   "cell_type": "code",
   "execution_count": 4,
   "metadata": {},
   "outputs": [
    {
     "name": "stdout",
     "output_type": "stream",
     "text": [
      "[[1.00000000e+00 1.10000000e+00 1.20000000e+00 1.30000000e+00\n",
      "  1.40000000e+00 1.50000000e+00 1.60000000e+00 1.70000000e+00\n",
      "  1.80000000e+00 1.90000000e+00 2.00000000e+00 2.10000000e+00\n",
      "  2.20000000e+00 2.30000000e+00 2.40000000e+00 2.50000000e+00\n",
      "  2.60000000e+00 2.70000000e+00 2.80000000e+00 2.90000000e+00\n",
      "  3.00000000e+00]\n",
      " [3.00000000e+11 2.72727273e+11 2.50000000e+11 2.30769231e+11\n",
      "  2.14285714e+11 2.00000000e+11 1.87500000e+11 1.76470588e+11\n",
      "  1.66666667e+11 1.57894737e+11 1.50000000e+11 1.42857143e+11\n",
      "  1.36363636e+11 1.30434783e+11 1.25000000e+11 1.20000000e+11\n",
      "  1.15384615e+11 1.11111111e+11 1.07142857e+11 1.03448276e+11\n",
      "  1.00000000e+11]]\n"
     ]
    }
   ],
   "source": [
    "# or with arrays\n",
    "table = np.array([waveArray, freqArray])\n",
    "print(table)"
   ]
  },
  {
   "cell_type": "markdown",
   "metadata": {},
   "source": [
    "This isn't quite what we had above nor is it a good table. Instead of (wavelength, frequency) pairs, all wavelengths are in one sub-array, and all the frequencies in another. The table is column major now. Meaning that the first row has all the values of wavelength, and the 2nd row has all the values of frequency. This is not intuitive.  We would prefer to have each row show the wavelength and the corresponding frequency. "
   ]
  },
  {
   "cell_type": "markdown",
   "metadata": {},
   "source": [
    "#### Q. How could we regroup elements to match the previous incarnation? (row major)"
   ]
  },
  {
   "cell_type": "code",
   "execution_count": 5,
   "metadata": {},
   "outputs": [
    {
     "data": {
      "text/plain": [
       "array([[1.00000000e+00, 3.00000000e+11],\n",
       "       [1.10000000e+00, 2.72727273e+11],\n",
       "       [1.20000000e+00, 2.50000000e+11],\n",
       "       [1.30000000e+00, 2.30769231e+11],\n",
       "       [1.40000000e+00, 2.14285714e+11],\n",
       "       [1.50000000e+00, 2.00000000e+11],\n",
       "       [1.60000000e+00, 1.87500000e+11],\n",
       "       [1.70000000e+00, 1.76470588e+11],\n",
       "       [1.80000000e+00, 1.66666667e+11],\n",
       "       [1.90000000e+00, 1.57894737e+11],\n",
       "       [2.00000000e+00, 1.50000000e+11],\n",
       "       [2.10000000e+00, 1.42857143e+11],\n",
       "       [2.20000000e+00, 1.36363636e+11],\n",
       "       [2.30000000e+00, 1.30434783e+11],\n",
       "       [2.40000000e+00, 1.25000000e+11],\n",
       "       [2.50000000e+00, 1.20000000e+11],\n",
       "       [2.60000000e+00, 1.15384615e+11],\n",
       "       [2.70000000e+00, 1.11111111e+11],\n",
       "       [2.80000000e+00, 1.07142857e+11],\n",
       "       [2.90000000e+00, 1.03448276e+11],\n",
       "       [3.00000000e+00, 1.00000000e+11]])"
      ]
     },
     "execution_count": 5,
     "metadata": {},
     "output_type": "execute_result"
    }
   ],
   "source": [
    "table.T  # table.T is the transpose of table."
   ]
  },
  {
   "cell_type": "raw",
   "metadata": {},
   "source": [
    "Now, the table is a two-dimensional array with 21 rows and 2 columns."
   ]
  },
  {
   "cell_type": "code",
   "execution_count": 6,
   "metadata": {},
   "outputs": [],
   "source": [
    "# let's just work with the transpose\n",
    "\n",
    "table = table.T "
   ]
  },
  {
   "cell_type": "markdown",
   "metadata": {},
   "source": [
    "#### Q. What should this yield?"
   ]
  },
  {
   "cell_type": "code",
   "execution_count": 7,
   "metadata": {},
   "outputs": [
    {
     "data": {
      "text/plain": [
       "(21, 2)"
      ]
     },
     "execution_count": 7,
     "metadata": {},
     "output_type": "execute_result"
    }
   ],
   "source": [
    "table.shape"
   ]
  },
  {
   "cell_type": "raw",
   "metadata": {},
   "source": [
    "The table has 21 rows and 2 columns (wavelength and frequency).\n",
    "\n",
    "Indexing arrays can be done in two ways:"
   ]
  },
  {
   "cell_type": "code",
   "execution_count": 8,
   "metadata": {
    "scrolled": true
   },
   "outputs": [
    {
     "data": {
      "text/plain": [
       "3.0"
      ]
     },
     "execution_count": 8,
     "metadata": {},
     "output_type": "execute_result"
    }
   ],
   "source": [
    "# 20th row, 1st column\n",
    "table[20][0]"
   ]
  },
  {
   "cell_type": "code",
   "execution_count": 9,
   "metadata": {},
   "outputs": [
    {
     "data": {
      "text/plain": [
       "3.0"
      ]
     },
     "execution_count": 9,
     "metadata": {},
     "output_type": "execute_result"
    }
   ],
   "source": [
    "table[20,0]"
   ]
  },
  {
   "cell_type": "code",
   "execution_count": 10,
   "metadata": {},
   "outputs": [
    {
     "data": {
      "text/plain": [
       "array([[1.00000000e+00, 3.00000000e+11],\n",
       "       [1.10000000e+00, 2.72727273e+11],\n",
       "       [1.20000000e+00, 2.50000000e+11],\n",
       "       [1.30000000e+00, 2.30769231e+11],\n",
       "       [1.40000000e+00, 2.14285714e+11],\n",
       "       [1.50000000e+00, 2.00000000e+11],\n",
       "       [1.60000000e+00, 1.87500000e+11],\n",
       "       [1.70000000e+00, 1.76470588e+11],\n",
       "       [1.80000000e+00, 1.66666667e+11],\n",
       "       [1.90000000e+00, 1.57894737e+11],\n",
       "       [2.00000000e+00, 1.50000000e+11],\n",
       "       [2.10000000e+00, 1.42857143e+11],\n",
       "       [2.20000000e+00, 1.36363636e+11],\n",
       "       [2.30000000e+00, 1.30434783e+11],\n",
       "       [2.40000000e+00, 1.25000000e+11],\n",
       "       [2.50000000e+00, 1.20000000e+11],\n",
       "       [2.60000000e+00, 1.15384615e+11],\n",
       "       [2.70000000e+00, 1.11111111e+11],\n",
       "       [2.80000000e+00, 1.07142857e+11],\n",
       "       [2.90000000e+00, 1.03448276e+11],\n",
       "       [3.00000000e+00, 1.00000000e+11]])"
      ]
     },
     "execution_count": 10,
     "metadata": {},
     "output_type": "execute_result"
    }
   ],
   "source": [
    "# just so we can see the table\n",
    "table"
   ]
  },
  {
   "cell_type": "raw",
   "metadata": {},
   "source": [
    "To loop over & print all the dimensions of the array:"
   ]
  },
  {
   "cell_type": "code",
   "execution_count": 11,
   "metadata": {},
   "outputs": [
    {
     "name": "stdout",
     "output_type": "stream",
     "text": [
      "table[0,0] = 1\n",
      "table[0,1] = 3e+11\n",
      "table[1,0] = 1.1\n",
      "table[1,1] = 2.72727e+11\n",
      "table[2,0] = 1.2\n",
      "table[2,1] = 2.5e+11\n",
      "table[3,0] = 1.3\n",
      "table[3,1] = 2.30769e+11\n",
      "table[4,0] = 1.4\n",
      "table[4,1] = 2.14286e+11\n",
      "table[5,0] = 1.5\n",
      "table[5,1] = 2e+11\n",
      "table[6,0] = 1.6\n",
      "table[6,1] = 1.875e+11\n",
      "table[7,0] = 1.7\n",
      "table[7,1] = 1.76471e+11\n",
      "table[8,0] = 1.8\n",
      "table[8,1] = 1.66667e+11\n",
      "table[9,0] = 1.9\n",
      "table[9,1] = 1.57895e+11\n",
      "table[10,0] = 2\n",
      "table[10,1] = 1.5e+11\n",
      "table[11,0] = 2.1\n",
      "table[11,1] = 1.42857e+11\n",
      "table[12,0] = 2.2\n",
      "table[12,1] = 1.36364e+11\n",
      "table[13,0] = 2.3\n",
      "table[13,1] = 1.30435e+11\n",
      "table[14,0] = 2.4\n",
      "table[14,1] = 1.25e+11\n",
      "table[15,0] = 2.5\n",
      "table[15,1] = 1.2e+11\n",
      "table[16,0] = 2.6\n",
      "table[16,1] = 1.15385e+11\n",
      "table[17,0] = 2.7\n",
      "table[17,1] = 1.11111e+11\n",
      "table[18,0] = 2.8\n",
      "table[18,1] = 1.07143e+11\n",
      "table[19,0] = 2.9\n",
      "table[19,1] = 1.03448e+11\n",
      "table[20,0] = 3\n",
      "table[20,1] = 1e+11\n"
     ]
    }
   ],
   "source": [
    "for index1 in range(table.shape[0]):\n",
    "\n",
    "    # Q. What is table.shape[0]?\n",
    "    \n",
    "    for index2 in range(table.shape[1]):\n",
    "        print('table[{},{}] = {:g}'.format(index1, index2, table[index1, index2]))\n",
    "        # Q. What will this loop print?\n",
    "        "
   ]
  },
  {
   "cell_type": "raw",
   "metadata": {},
   "source": [
    "This could also be done with one loop using numpy's ndenumerate\n",
    "(ndenumerate will enumerate the rows and columns of the array):"
   ]
  },
  {
   "cell_type": "code",
   "execution_count": 12,
   "metadata": {},
   "outputs": [
    {
     "name": "stdout",
     "output_type": "stream",
     "text": [
      "(0, 1.0)\n",
      "(1, 2.0)\n",
      "(2, 3.0)\n"
     ]
    }
   ],
   "source": [
    "# a reminder of what this looked like with lists:\n",
    "alist =[1.0,2.0,3.0]\n",
    "for i in enumerate(alist):\n",
    "    print(i)"
   ]
  },
  {
   "cell_type": "code",
   "execution_count": 13,
   "metadata": {},
   "outputs": [
    {
     "name": "stdout",
     "output_type": "stream",
     "text": [
      "index (0, 0) has value 1.00e+00\n",
      "index (0, 1) has value 3.00e+11\n",
      "index (1, 0) has value 1.10e+00\n",
      "index (1, 1) has value 2.73e+11\n",
      "index (2, 0) has value 1.20e+00\n",
      "index (2, 1) has value 2.50e+11\n",
      "index (3, 0) has value 1.30e+00\n",
      "index (3, 1) has value 2.31e+11\n",
      "index (4, 0) has value 1.40e+00\n",
      "index (4, 1) has value 2.14e+11\n",
      "index (5, 0) has value 1.50e+00\n",
      "index (5, 1) has value 2.00e+11\n",
      "index (6, 0) has value 1.60e+00\n",
      "index (6, 1) has value 1.88e+11\n",
      "index (7, 0) has value 1.70e+00\n",
      "index (7, 1) has value 1.76e+11\n",
      "index (8, 0) has value 1.80e+00\n",
      "index (8, 1) has value 1.67e+11\n",
      "index (9, 0) has value 1.90e+00\n",
      "index (9, 1) has value 1.58e+11\n",
      "index (10, 0) has value 2.00e+00\n",
      "index (10, 1) has value 1.50e+11\n",
      "index (11, 0) has value 2.10e+00\n",
      "index (11, 1) has value 1.43e+11\n",
      "index (12, 0) has value 2.20e+00\n",
      "index (12, 1) has value 1.36e+11\n",
      "index (13, 0) has value 2.30e+00\n",
      "index (13, 1) has value 1.30e+11\n",
      "index (14, 0) has value 2.40e+00\n",
      "index (14, 1) has value 1.25e+11\n",
      "index (15, 0) has value 2.50e+00\n",
      "index (15, 1) has value 1.20e+11\n",
      "index (16, 0) has value 2.60e+00\n",
      "index (16, 1) has value 1.15e+11\n",
      "index (17, 0) has value 2.70e+00\n",
      "index (17, 1) has value 1.11e+11\n",
      "index (18, 0) has value 2.80e+00\n",
      "index (18, 1) has value 1.07e+11\n",
      "index (19, 0) has value 2.90e+00\n",
      "index (19, 1) has value 1.03e+11\n",
      "index (20, 0) has value 3.00e+00\n",
      "index (20, 1) has value 1.00e+11\n"
     ]
    }
   ],
   "source": [
    "for index_tuple, value in np.ndenumerate(table):\n",
    "    print('index {} has value {:.2e}'.format(index_tuple, value))"
   ]
  },
  {
   "cell_type": "code",
   "execution_count": 14,
   "metadata": {},
   "outputs": [
    {
     "name": "stdout",
     "output_type": "stream",
     "text": [
      "(21, 2)\n",
      "<class 'tuple'>\n"
     ]
    }
   ],
   "source": [
    "print(table.shape)\n",
    "print(type(table.shape))"
   ]
  },
  {
   "cell_type": "markdown",
   "metadata": {},
   "source": [
    "## Slicing nD Arrays"
   ]
  },
  {
   "cell_type": "code",
   "execution_count": 15,
   "metadata": {},
   "outputs": [
    {
     "name": "stdout",
     "output_type": "stream",
     "text": [
      "[[1.00000000e+00 3.00000000e+11]\n",
      " [1.10000000e+00 2.72727273e+11]\n",
      " [1.20000000e+00 2.50000000e+11]\n",
      " [1.30000000e+00 2.30769231e+11]\n",
      " [1.40000000e+00 2.14285714e+11]\n",
      " [1.50000000e+00 2.00000000e+11]\n",
      " [1.60000000e+00 1.87500000e+11]\n",
      " [1.70000000e+00 1.76470588e+11]\n",
      " [1.80000000e+00 1.66666667e+11]\n",
      " [1.90000000e+00 1.57894737e+11]\n",
      " [2.00000000e+00 1.50000000e+11]\n",
      " [2.10000000e+00 1.42857143e+11]\n",
      " [2.20000000e+00 1.36363636e+11]\n",
      " [2.30000000e+00 1.30434783e+11]\n",
      " [2.40000000e+00 1.25000000e+11]\n",
      " [2.50000000e+00 1.20000000e+11]\n",
      " [2.60000000e+00 1.15384615e+11]\n",
      " [2.70000000e+00 1.11111111e+11]\n",
      " [2.80000000e+00 1.07142857e+11]\n",
      " [2.90000000e+00 1.03448276e+11]\n",
      " [3.00000000e+00 1.00000000e+11]]\n"
     ]
    }
   ],
   "source": [
    "print(table)"
   ]
  },
  {
   "cell_type": "code",
   "execution_count": 16,
   "metadata": {},
   "outputs": [
    {
     "name": "stdout",
     "output_type": "stream",
     "text": [
      "[1.  1.1 1.2 1.3 1.4 1.5 1.6 1.7 1.8 1.9 2.  2.1 2.2 2.3 2.4 2.5 2.6 2.7\n",
      " 2.8 2.9 3. ]\n"
     ]
    }
   ],
   "source": [
    "# this will print the 1st column only:\n",
    "print(table[0:, 0])\n",
    "# or\n",
    "# print(table[:, 0])"
   ]
  },
  {
   "cell_type": "code",
   "execution_count": 17,
   "metadata": {},
   "outputs": [
    {
     "name": "stdout",
     "output_type": "stream",
     "text": [
      "[3.00000000e+11 2.72727273e+11 2.50000000e+11 2.30769231e+11\n",
      " 2.14285714e+11 2.00000000e+11 1.87500000e+11 1.76470588e+11\n",
      " 1.66666667e+11 1.57894737e+11 1.50000000e+11 1.42857143e+11\n",
      " 1.36363636e+11 1.30434783e+11 1.25000000e+11 1.20000000e+11\n",
      " 1.15384615e+11 1.11111111e+11 1.07142857e+11 1.03448276e+11\n",
      " 1.00000000e+11]\n"
     ]
    }
   ],
   "source": [
    "# This will print the second column:\n",
    "\n",
    "print(table[:, 1])"
   ]
  },
  {
   "cell_type": "code",
   "execution_count": 18,
   "metadata": {},
   "outputs": [
    {
     "name": "stdout",
     "output_type": "stream",
     "text": [
      "[[1.00000000e+00 3.00000000e+11]\n",
      " [1.10000000e+00 2.72727273e+11]\n",
      " [1.20000000e+00 2.50000000e+11]\n",
      " [1.30000000e+00 2.30769231e+11]\n",
      " [1.40000000e+00 2.14285714e+11]\n",
      " [1.50000000e+00 2.00000000e+11]\n",
      " [1.60000000e+00 1.87500000e+11]\n",
      " [1.70000000e+00 1.76470588e+11]\n",
      " [1.80000000e+00 1.66666667e+11]\n",
      " [1.90000000e+00 1.57894737e+11]\n",
      " [2.00000000e+00 1.50000000e+11]\n",
      " [2.10000000e+00 1.42857143e+11]\n",
      " [2.20000000e+00 1.36363636e+11]\n",
      " [2.30000000e+00 1.30434783e+11]\n",
      " [2.40000000e+00 1.25000000e+11]\n",
      " [2.50000000e+00 1.20000000e+11]\n",
      " [2.60000000e+00 1.15384615e+11]\n",
      " [2.70000000e+00 1.11111111e+11]\n",
      " [2.80000000e+00 1.07142857e+11]\n",
      " [2.90000000e+00 1.03448276e+11]\n",
      " [3.00000000e+00 1.00000000e+11]]\n"
     ]
    }
   ],
   "source": [
    "# this prints the entire table\n",
    "print(table[0:]) \n",
    "# so does\n",
    "# print(table[:]) "
   ]
  },
  {
   "cell_type": "code",
   "execution_count": 19,
   "metadata": {},
   "outputs": [
    {
     "name": "stdout",
     "output_type": "stream",
     "text": [
      "[1.e+00 3.e+11]\n"
     ]
    }
   ],
   "source": [
    "# When we wanted to print the 1st column we did:\n",
    "# print(table[0:, 0]) \n",
    "\n",
    "# Note that the following is different from what we had before: \n",
    "\n",
    "print(table[0:][0])"
   ]
  },
  {
   "cell_type": "code",
   "execution_count": 20,
   "metadata": {},
   "outputs": [
    {
     "name": "stdout",
     "output_type": "stream",
     "text": [
      "[[1.00000000e+00 3.00000000e+11]\n",
      " [1.10000000e+00 2.72727273e+11]\n",
      " [1.20000000e+00 2.50000000e+11]\n",
      " [1.30000000e+00 2.30769231e+11]\n",
      " [1.40000000e+00 2.14285714e+11]]\n",
      "\n",
      "[[1.00000000e+00 3.00000000e+11]\n",
      " [1.10000000e+00 2.72727273e+11]\n",
      " [1.20000000e+00 2.50000000e+11]\n",
      " [1.30000000e+00 2.30769231e+11]\n",
      " [1.40000000e+00 2.14285714e+11]]\n"
     ]
    }
   ],
   "source": [
    "# To get the first five rows of the table:\n",
    "\n",
    "print(table[0:5, :])\n",
    "\n",
    "print()\n",
    "\n",
    "# Same as:\n",
    "print(table[0:5])"
   ]
  },
  {
   "cell_type": "markdown",
   "metadata": {},
   "source": [
    "### Shape, Rank, Dimension"
   ]
  },
  {
   "cell_type": "code",
   "execution_count": 21,
   "metadata": {},
   "outputs": [
    {
     "name": "stdout",
     "output_type": "stream",
     "text": [
      "[[ 1  2  3]\n",
      " [ 4  5  6]\n",
      " [ 7  8  9]\n",
      " [10 11 12]]\n"
     ]
    }
   ],
   "source": [
    "import numpy as np\n",
    "x = np.array([[1,2,3], [4,5,6], [7,8,9], [10,11,12]])\n",
    "print(x)"
   ]
  },
  {
   "cell_type": "code",
   "execution_count": 22,
   "metadata": {},
   "outputs": [
    {
     "name": "stdout",
     "output_type": "stream",
     "text": [
      "(4, 3)\n",
      "2\n"
     ]
    }
   ],
   "source": [
    "print(x.shape)\n",
    "print(np.ndim(x))  #ndim tells us the rank"
   ]
  },
  {
   "cell_type": "code",
   "execution_count": 23,
   "metadata": {},
   "outputs": [
    {
     "name": "stdout",
     "output_type": "stream",
     "text": [
      "[[ 1  4  7 10]\n",
      " [ 2  5  8 11]\n",
      " [ 3  6  9 12]]\n"
     ]
    }
   ],
   "source": [
    "# Let's say we needed to transpose this matrix\n",
    "xT = x.T\n",
    "print(xT)"
   ]
  },
  {
   "cell_type": "code",
   "execution_count": 24,
   "metadata": {},
   "outputs": [
    {
     "name": "stdout",
     "output_type": "stream",
     "text": [
      "(3, 4)\n",
      "2\n"
     ]
    }
   ],
   "source": [
    "print(xT.shape)\n",
    "print(np.ndim(xT))  #ndim tells us the rank"
   ]
  },
  {
   "cell_type": "code",
   "execution_count": 25,
   "metadata": {},
   "outputs": [
    {
     "name": "stdout",
     "output_type": "stream",
     "text": [
      "2\n",
      "6\n",
      "6\n"
     ]
    }
   ],
   "source": [
    "print(xT[1,0])\n",
    "print(xT[2][1])\n",
    "print(xT[2,1])"
   ]
  },
  {
   "cell_type": "markdown",
   "metadata": {},
   "source": [
    "### We can access x and y index information using numpy.indices:"
   ]
  },
  {
   "cell_type": "code",
   "execution_count": 26,
   "metadata": {},
   "outputs": [
    {
     "name": "stdout",
     "output_type": "stream",
     "text": [
      "[[ 1  4  7 10]\n",
      " [ 2  5  8 11]\n",
      " [ 3  6  9 12]]\n",
      "--------------------\n",
      "[[[0 0 0 0]\n",
      "  [1 1 1 1]\n",
      "  [2 2 2 2]]\n",
      "\n",
      " [[0 1 2 3]\n",
      "  [0 1 2 3]\n",
      "  [0 1 2 3]]]\n",
      "--------------------\n",
      "0 0\n",
      "0 1\n",
      "0 2\n",
      "0 3\n",
      "1 0\n",
      "1 1\n",
      "1 2\n",
      "1 3\n",
      "2 0\n",
      "2 1\n",
      "2 2\n",
      "2 3\n"
     ]
    }
   ],
   "source": [
    "print(xT)\n",
    "print(\"--------------------\")\n",
    "print(np.indices(xT.shape))\n",
    "print(\"--------------------\")\n",
    "\n",
    "for i in range(len(xT)):\n",
    "    for j in range(len(xT[0])):\n",
    "        print(i, j)"
   ]
  },
  {
   "cell_type": "code",
   "execution_count": 27,
   "metadata": {},
   "outputs": [
    {
     "name": "stdout",
     "output_type": "stream",
     "text": [
      "[[0 0 0 0]\n",
      " [1 1 1 1]\n",
      " [2 2 2 2]]\n",
      "[[0 1 2 3]\n",
      " [0 1 2 3]\n",
      " [0 1 2 3]]\n"
     ]
    }
   ],
   "source": [
    "i, j = np.indices(xT.shape)\n",
    "print(i)\n",
    "print(j)"
   ]
  },
  {
   "cell_type": "raw",
   "metadata": {},
   "source": [
    "These two arrays, i and j, are the same shape as xT, and each element corresponds to the row number (i) and column number (j)."
   ]
  },
  {
   "cell_type": "markdown",
   "metadata": {},
   "source": [
    "### reshape command on arrays"
   ]
  },
  {
   "cell_type": "code",
   "execution_count": 28,
   "metadata": {},
   "outputs": [
    {
     "name": "stdout",
     "output_type": "stream",
     "text": [
      "[0 1 2 3 4 5 6 7 8 9]\n"
     ]
    }
   ],
   "source": [
    "# Make a 1D\n",
    "aArray = np.arange(10)\n",
    "print(aArray)"
   ]
  },
  {
   "cell_type": "raw",
   "metadata": {},
   "source": [
    "Now, let's make it 2D using numpy.reshape"
   ]
  },
  {
   "cell_type": "code",
   "execution_count": 29,
   "metadata": {},
   "outputs": [
    {
     "name": "stdout",
     "output_type": "stream",
     "text": [
      "[[0 1 2 3 4]\n",
      " [5 6 7 8 9]]\n"
     ]
    }
   ],
   "source": [
    "bArray = np.reshape(aArray, (2, 5))   # Make it a 2-D array, with dimensions 2x5\n",
    "print(bArray)"
   ]
  },
  {
   "cell_type": "code",
   "execution_count": 30,
   "metadata": {},
   "outputs": [
    {
     "name": "stdout",
     "output_type": "stream",
     "text": [
      "(2, 5) 10 2\n"
     ]
    }
   ],
   "source": [
    "print(bArray.shape, bArray.size, bArray.ndim)"
   ]
  },
  {
   "cell_type": "code",
   "execution_count": 31,
   "metadata": {},
   "outputs": [
    {
     "name": "stdout",
     "output_type": "stream",
     "text": [
      "0\n",
      "3\n",
      "3\n"
     ]
    }
   ],
   "source": [
    "# We access elements in the same way we would for 1-D arrays, except we must pass \n",
    "# more indices. For example,\n",
    "print(bArray[0,0])  # First row, first column\n",
    "print(bArray[0,3])  # First row, fourth column\n",
    "# or equivalently,\n",
    "print(bArray[0][3])"
   ]
  },
  {
   "cell_type": "code",
   "execution_count": 32,
   "metadata": {},
   "outputs": [
    {
     "name": "stdout",
     "output_type": "stream",
     "text": [
      "[[1. 1.]\n",
      " [1. 1.]]\n"
     ]
    }
   ],
   "source": [
    "# Now instead of providing the number of elements,\n",
    "# we provide the dimensions as a list or tuple\n",
    "# Fill a 2 x 2 matrix with 1s\n",
    "cArray = np.ones([2, 2])\n",
    "print(cArray)"
   ]
  },
  {
   "cell_type": "markdown",
   "metadata": {},
   "source": [
    "### Array arithmetic, array functions"
   ]
  },
  {
   "cell_type": "markdown",
   "metadata": {},
   "source": [
    "Multiplying an array by a number multiplies each element by that number:"
   ]
  },
  {
   "cell_type": "code",
   "execution_count": 33,
   "metadata": {},
   "outputs": [
    {
     "name": "stdout",
     "output_type": "stream",
     "text": [
      "[0. 1. 2. 3. 4.] [0. 2. 4. 6. 8.]\n"
     ]
    }
   ],
   "source": [
    "aArray = np.linspace(0, 4, 5)  # Make an array\n",
    "bArray = 2 * aArray            # Make another one, elements 2x values in a\n",
    "print(aArray, bArray)          # Verify values"
   ]
  },
  {
   "cell_type": "markdown",
   "metadata": {},
   "source": [
    "We can also multiply arrays by other arrays, provided that they have the same number of elements. This is not the same as a dot product!"
   ]
  },
  {
   "cell_type": "code",
   "execution_count": 34,
   "metadata": {},
   "outputs": [
    {
     "name": "stdout",
     "output_type": "stream",
     "text": [
      "[ 0.  2.  8. 18. 32.]\n"
     ]
    }
   ],
   "source": [
    "print(aArray * bArray) # NOT a dot product - multiplies element-wise"
   ]
  },
  {
   "cell_type": "raw",
   "metadata": {},
   "source": [
    "To square elements, we could do"
   ]
  },
  {
   "cell_type": "code",
   "execution_count": 35,
   "metadata": {},
   "outputs": [
    {
     "name": "stdout",
     "output_type": "stream",
     "text": [
      "[ 0.  1.  4.  9. 16.]\n",
      "[ 0.  1.  4.  9. 16.]\n"
     ]
    }
   ],
   "source": [
    "print(aArray * aArray) # i.e. multiply an array by itself\n",
    "# or instead:\n",
    "print(aArray**2) "
   ]
  },
  {
   "cell_type": "raw",
   "metadata": {},
   "source": [
    "We can also add arrays together"
   ]
  },
  {
   "cell_type": "code",
   "execution_count": 36,
   "metadata": {},
   "outputs": [
    {
     "name": "stdout",
     "output_type": "stream",
     "text": [
      "[ 0.  3.  6.  9. 12.]\n"
     ]
    }
   ],
   "source": [
    "# Each element of c is the sum of\n",
    "# the corresponding elements in a and b\n",
    "cArray = aArray + bArray\n",
    "print(cArray)"
   ]
  },
  {
   "cell_type": "markdown",
   "metadata": {},
   "source": [
    "While math.sqrt could only operate on integers or floats, numpy.sqrt can operate on arrays.\n",
    "The same goes for numpy.exp, numpy.sin, numpy.cos, numpy.log10, etc."
   ]
  },
  {
   "cell_type": "code",
   "execution_count": 37,
   "metadata": {},
   "outputs": [
    {
     "name": "stdout",
     "output_type": "stream",
     "text": [
      "[0.         1.73205081 2.44948974 3.         3.46410162]\n"
     ]
    }
   ],
   "source": [
    "# Computes square root of all elements, returns as array\n",
    "print(np.sqrt(cArray)) "
   ]
  },
  {
   "cell_type": "markdown",
   "metadata": {},
   "source": [
    "### Question"
   ]
  },
  {
   "cell_type": "raw",
   "metadata": {},
   "source": [
    "Fill in the rest of the table by tracing the loop line-by-line and recording the value of each variable at the #### CHECKPOINT ####:\n",
    "\n",
    "index1 |  index2 |   aArray\n",
    "-----------------------------\n",
    "   0   |    0    |  [0,0,0]\n",
    "   0   |    1    |  [1,0,0]\n",
    "       |         |  \n",
    "       |         |  \n",
    "       \n",
    "       ...."
   ]
  },
  {
   "cell_type": "code",
   "execution_count": 38,
   "metadata": {},
   "outputs": [
    {
     "name": "stdout",
     "output_type": "stream",
     "text": [
      "0 0 [0. 0. 0.]\n",
      "0 1 [1. 0. 0.]\n",
      "0 2 [3. 0. 0.]\n",
      "1 1 [3. 1. 0.]\n",
      "1 2 [3. 3. 0.]\n",
      "1 3 [3. 6. 0.]\n",
      "2 2 [3. 6. 2.]\n",
      "2 3 [3. 6. 5.]\n",
      "2 4 [3. 6. 9.]\n"
     ]
    }
   ],
   "source": [
    "aArray = np.zeros(3)\n",
    "for index1 in range(len(aArray)):\n",
    "    for index2 in range(index1, index1 + 3):\n",
    "        aArray[index1] += index2\n",
    "        print(index1,index2,aArray)\n",
    "         #### CHECKPOINT ####            "
   ]
  },
  {
   "cell_type": "code",
   "execution_count": null,
   "metadata": {},
   "outputs": [],
   "source": []
  }
 ],
 "metadata": {
  "kernelspec": {
   "display_name": "Python 3",
   "language": "python",
   "name": "python3"
  },
  "language_info": {
   "codemirror_mode": {
    "name": "ipython",
    "version": 3
   },
   "file_extension": ".py",
   "mimetype": "text/x-python",
   "name": "python",
   "nbconvert_exporter": "python",
   "pygments_lexer": "ipython3",
   "version": "3.7.6"
  }
 },
 "nbformat": 4,
 "nbformat_minor": 1
}