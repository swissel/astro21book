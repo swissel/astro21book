{
 "cells": [
  {
   "cell_type": "markdown",
   "metadata": {},
   "source": [
    "# Python Basics"
   ]
  },
  {
   "cell_type": "markdown",
   "metadata": {},
   "source": [
    "### A note about names and values"
   ]
  },
  {
   "cell_type": "code",
   "execution_count": 1,
   "metadata": {},
   "outputs": [
    {
     "name": "stdout",
     "output_type": "stream",
     "text": [
      "20\n"
     ]
    }
   ],
   "source": [
    "x = 10\n",
    "y = 2 * x\n",
    "x = 25\n",
    "\n",
    "print(y)\n",
    "\n",
    "#  What is the value of y?"
   ]
  },
  {
   "cell_type": "raw",
   "metadata": {},
   "source": [
    "Nice (lengthy / thorough) discussion of this:\n",
    "\n",
    "http://nedbatchelder.com/text/names.html\n",
    "\n",
    "*We haven't yet covered some of the concepts that appear in this blog post so don't panic if something looks unfamiliar.*"
   ]
  },
  {
   "cell_type": "markdown",
   "metadata": {},
   "source": [
    "### Law of gravitation equation"
   ]
  },
  {
   "cell_type": "markdown",
   "metadata": {},
   "source": [
    "$F(r) = G \\frac{m_1 m_2}{r^2}$"
   ]
  },
  {
   "cell_type": "markdown",
   "metadata": {},
   "source": [
    "$G = 6.67 \\times 10^{-11} \\frac{\\text{m}^3}{\\text{kg} \\cdot \\text{s}^2}$ (the gravitational constant)"
   ]
  },
  {
   "cell_type": "markdown",
   "metadata": {},
   "source": [
    "$m_1$ is the mass of the first body in kilograms (kg)"
   ]
  },
  {
   "cell_type": "markdown",
   "metadata": {},
   "source": [
    "$m_2$ is the mass of the second body in kilograms (kg)"
   ]
  },
  {
   "cell_type": "markdown",
   "metadata": {},
   "source": [
    "$r$ is the distance between the two bodies in meters (m)"
   ]
  },
  {
   "cell_type": "markdown",
   "metadata": {},
   "source": [
    "### Example 1 - Find the force of a person standing on earth"
   ]
  },
  {
   "cell_type": "markdown",
   "metadata": {},
   "source": [
    "For a person of mass 70 kg standing on the surface of the Earth (mass $5.97 \\times 10^{24}$ kg, radius 6370 km) the force will be (in units of Newtons, 1 N = 0.225 lbs):"
   ]
  },
  {
   "cell_type": "markdown",
   "metadata": {},
   "source": [
    "$F(6.37 \\times 10^{6}) = 6.67 \\times 10^{-11} \\cdot \\frac{5.97 \\times 10^{24} \\cdot 70}{(6.37 \\times 10^{6})^2}$"
   ]
  },
  {
   "cell_type": "code",
   "execution_count": 2,
   "metadata": {},
   "outputs": [
    {
     "name": "stdout",
     "output_type": "stream",
     "text": [
      "686.9408456535615\n"
     ]
    }
   ],
   "source": [
    "print(6.67e-11 * 5.97e24 * 70 / (6.37e6)**2)"
   ]
  },
  {
   "cell_type": "markdown",
   "metadata": {},
   "source": [
    "Notice that I put spaces on either side of each mathematical operator. This isn't required, but enhances clarity. Consider the alternative:"
   ]
  },
  {
   "cell_type": "code",
   "execution_count": 3,
   "metadata": {},
   "outputs": [
    {
     "name": "stdout",
     "output_type": "stream",
     "text": [
      "686.9408456535615\n"
     ]
    }
   ],
   "source": [
    "print(6.67e-11*5.97e24*70/(6.37e6)**2)"
   ]
  },
  {
   "cell_type": "markdown",
   "metadata": {},
   "source": [
    "### Example 2 - Find the acceleration due to Earth's gravity (the g in F = mg)"
   ]
  },
  {
   "cell_type": "markdown",
   "metadata": {},
   "source": [
    "Using the gravitation equation above, set $m_2 = 1$ kg"
   ]
  },
  {
   "cell_type": "markdown",
   "metadata": {},
   "source": [
    "$F(6.37 \\times 10^{6}) = 6.67 \\times 10^{-11} \\cdot \\frac{5.97 \\times 10^{24} \\cdot 1}{(6.37 \\times 10^{6})^2}$"
   ]
  },
  {
   "cell_type": "code",
   "execution_count": 4,
   "metadata": {},
   "outputs": [
    {
     "name": "stdout",
     "output_type": "stream",
     "text": [
      "9.813440652193735\n"
     ]
    }
   ],
   "source": [
    "print( 6.67e-11 * 5.97e24 * 1 / ( 6.37e6)**2)"
   ]
  },
  {
   "cell_type": "markdown",
   "metadata": {},
   "source": [
    "#### Q. Why would the above $F(r)$ implementation be inconvenient if we had to do this computation many times, say for different masses?"
   ]
  },
  {
   "cell_type": "markdown",
   "metadata": {},
   "source": [
    "#### How could we improve this?"
   ]
  },
  {
   "cell_type": "code",
   "execution_count": 5,
   "metadata": {},
   "outputs": [
    {
     "name": "stdout",
     "output_type": "stream",
     "text": [
      "686.9408456535615\n"
     ]
    }
   ],
   "source": [
    "G  = 6.67e-11\n",
    "m1 = 5.97e24 \n",
    "m2 = 70\n",
    "r  = 6.37e6\n",
    "\n",
    "F = G * m1 * m2 / r**2  #  white-space for clarity!\n",
    "\n",
    "print(F)"
   ]
  },
  {
   "cell_type": "markdown",
   "metadata": {},
   "source": [
    "#### Q. What do the \"x = y\" statements do?"
   ]
  },
  {
   "cell_type": "raw",
   "metadata": {},
   "source": [
    "Using descriptive names (good programming practice!):"
   ]
  },
  {
   "cell_type": "code",
   "execution_count": 6,
   "metadata": {},
   "outputs": [
    {
     "name": "stdout",
     "output_type": "stream",
     "text": [
      "686.9408456535615\n"
     ]
    }
   ],
   "source": [
    "# This calculates the force of gravity on Earth for a given object\n",
    "G          = 6.67e-11\n",
    "massEarth  = 5.97e24\n",
    "massObject = 70\n",
    "radius     = 6.37e6\n",
    "\n",
    "force = G * massEarth * massObject / radius**2\n",
    "\n",
    "print(force)"
   ]
  },
  {
   "cell_type": "markdown",
   "metadata": {},
   "source": [
    "#### Q. Can you imagine a downside to descriptive variable names?"
   ]
  },
  {
   "cell_type": "markdown",
   "metadata": {},
   "source": [
    "### Dealing with long lines of code"
   ]
  },
  {
   "cell_type": "markdown",
   "metadata": {},
   "source": [
    "Split long lines with a backslash (with no space after it, just carraige return):"
   ]
  },
  {
   "cell_type": "code",
   "execution_count": 7,
   "metadata": {},
   "outputs": [],
   "source": [
    "force2 = G * massEarth * \\\n",
    "         massObject / radius**2"
   ]
  },
  {
   "cell_type": "code",
   "execution_count": 8,
   "metadata": {},
   "outputs": [
    {
     "name": "stdout",
     "output_type": "stream",
     "text": [
      "686.9408456535615\n"
     ]
    }
   ],
   "source": [
    "print(force2)"
   ]
  },
  {
   "cell_type": "markdown",
   "metadata": {},
   "source": [
    "### Reserved Words"
   ]
  },
  {
   "cell_type": "markdown",
   "metadata": {},
   "source": [
    "Using \"reserved words\" will lead to an error:"
   ]
  },
  {
   "cell_type": "code",
   "execution_count": 9,
   "metadata": {},
   "outputs": [
    {
     "ename": "SyntaxError",
     "evalue": "invalid syntax (<ipython-input-9-11d649356ea3>, line 1)",
     "output_type": "error",
     "traceback": [
      "\u001b[0;36m  File \u001b[0;32m\"<ipython-input-9-11d649356ea3>\"\u001b[0;36m, line \u001b[0;32m1\u001b[0m\n\u001b[0;31m    lambda = 5000     #  Some wavelength in Angstroms\u001b[0m\n\u001b[0m           ^\u001b[0m\n\u001b[0;31mSyntaxError\u001b[0m\u001b[0;31m:\u001b[0m invalid syntax\n"
     ]
    }
   ],
   "source": [
    "lambda = 5000     #  Some wavelength in Angstroms"
   ]
  },
  {
   "cell_type": "markdown",
   "metadata": {},
   "source": [
    "Some really common ones are:\n",
    "\n",
    "    and, break, class, continue, def,\n",
    "    del, if, elif, else, except, False,\n",
    "    for, from, import, in, is, lambda, None,\n",
    "    not, or, pass, return, True, try, while"
   ]
  },
  {
   "cell_type": "markdown",
   "metadata": {},
   "source": [
    "### Comments"
   ]
  },
  {
   "cell_type": "code",
   "execution_count": null,
   "metadata": {},
   "outputs": [],
   "source": [
    "#  Comments are specified with the pound symbol #\n",
    "#  Everything after a # in a line is ignored by Python"
   ]
  },
  {
   "cell_type": "markdown",
   "metadata": {},
   "source": [
    "It's good practice to comment every line of your code.  If the code is\n",
    "extremely obvious, then a comment might not be necessary."
   ]
  },
  {
   "cell_type": "markdown",
   "metadata": {},
   "source": [
    "There is another way to specify \"block comments\": using two sets of 3 quotation marks ''' '''."
   ]
  },
  {
   "cell_type": "code",
   "execution_count": null,
   "metadata": {},
   "outputs": [],
   "source": [
    "# Comments without ''' ''' or # creates an error:\n",
    "This is a comment # Notice that the word \"is\" is highlighted in green, since it is a reserved word"
   ]
  },
  {
   "cell_type": "code",
   "execution_count": null,
   "metadata": {},
   "outputs": [],
   "source": [
    "#  However, in this form it does not, even for multiple lines:\n",
    "#\n",
    "'''\n",
    "This is a really, super, super, super, super, super, super, super,\n",
    "super, super, super, super, super, super, super, super, super,\n",
    "long comment (not really).\n",
    "'''\n",
    "#\n",
    "#  We will use block comments to document modules later!"
   ]
  },
  {
   "cell_type": "markdown",
   "metadata": {},
   "source": [
    "Notice that iPython notebook still prints out the block comment text, but doesn't actually run it as if it's code."
   ]
  },
  {
   "cell_type": "markdown",
   "metadata": {},
   "source": [
    "### Formatting text and numbers"
   ]
  },
  {
   "cell_type": "code",
   "execution_count": null,
   "metadata": {},
   "outputs": [],
   "source": [
    "from math import pi              # Importing the \"pi\" function from the math module. More in today's tutorial.\n",
    "pi"
   ]
  },
  {
   "cell_type": "code",
   "execution_count": null,
   "metadata": {},
   "outputs": [],
   "source": [
    "#  With some formatting where we only want 2 decimal places\n",
    "print(\"pi = {:.2f}\".format(pi))"
   ]
  },
  {
   "cell_type": "code",
   "execution_count": null,
   "metadata": {},
   "outputs": [],
   "source": [
    "myPi = 3.2\n",
    "print(\"MyPi formated to zero demical places {:.0f} \".format(myPi))\n",
    "print(\"myPi: \" + str(int(myPi)) + \" as an integer\")"
   ]
  },
  {
   "cell_type": "raw",
   "metadata": {},
   "source": [
    "Consider {:x.yz}\n",
    "\n",
    "    {} inside the quotes\n",
    "        - means a \"format statement\" follows\n",
    "\n",
    "    x is the number of characters in the resulting string \n",
    "        - Not required\n",
    "\n",
    "    y is the number of digits after the decimal point \n",
    "        - Not required\n",
    "\n",
    "    z is the format (e.g. f (float), e (scientific), s (string))\n",
    "        - Required\n",
    "    \n",
    "    .format() outside and to the right of the quotes\n",
    "        - Separates text from variables -- more on this later\n",
    "        - Uses parentheses and comas if there is more than one variable"
   ]
  },
  {
   "cell_type": "raw",
   "metadata": {},
   "source": [
    "Here is a list of print format specifications\n",
    "    s          string (of ascii characters)\n",
    "    d          integer\n",
    "    0xd        integer padded with x leading zeros\n",
    "    f          decimal notation with six decimals\n",
    "    e or E    compact scientific notation\n",
    "    g or G    compact decimal or scientific notation\n",
    "    .yz        format z with y decimals\n",
    "    x.yz       format z with y decimals in a field of width x\n",
    "    {{}}       are the curly brackets {}\n",
    "    %%         to print the percent sign"
   ]
  },
  {
   "cell_type": "markdown",
   "metadata": {},
   "source": [
    "### Examples"
   ]
  },
  {
   "cell_type": "code",
   "execution_count": null,
   "metadata": {},
   "outputs": [],
   "source": [
    "G = 6.67e-11\n",
    "m1 = 5.97e24 # mass of Earth\n",
    "m2 = 70      # mass of person/object\n",
    "r = 6.37e6   # radius of Earth\n",
    "\n",
    "F = G * m1 * m2 / r**2\n",
    "\n",
    "print(r, F)"
   ]
  },
  {
   "cell_type": "markdown",
   "metadata": {},
   "source": [
    "Hard to read!!  (And, note the junk at the end.)"
   ]
  },
  {
   "cell_type": "code",
   "execution_count": null,
   "metadata": {},
   "outputs": [],
   "source": [
    "print(\"this is the radius {:6.0f} and this is the force {:6.0f}\".format(r,F))"
   ]
  },
  {
   "cell_type": "code",
   "execution_count": null,
   "metadata": {},
   "outputs": [],
   "source": [
    "#  If we use triple quotes we don't have to \n",
    "#  use \\n (or \\ in some versions) for multiple lines\n",
    "\n",
    "# notice that the format for the radius is now in scientific notation\n",
    "\n",
    "print('''At the Earth's radius of {:.2e} meters,\n",
    "the force is {:6.0f} Newtons.'''.format(r, F))"
   ]
  },
  {
   "cell_type": "code",
   "execution_count": null,
   "metadata": {
    "scrolled": true
   },
   "outputs": [],
   "source": [
    "#  Justification and commas to separate thousands\n",
    "\n",
    "# use {:<} to left justify and {:>} to right justify\n",
    "\n",
    "print(\"At the Earth's radius of {:.2e} meters, \\\n",
    "the force is {:>20f} Newtons.\".format(r, F))\n",
    "\n",
    "# use commas as thousands separator\n",
    "print(\"At the Earth's radius of {:,.2f} meters, \\\n",
    "the force is {:<20f} Newtons.\".format(r, F))"
   ]
  },
  {
   "cell_type": "markdown",
   "metadata": {},
   "source": [
    "Note when block comments are used, the text appears on 2 lines versus when using the \\\\, the text appears all on 1 line."
   ]
  },
  {
   "cell_type": "code",
   "execution_count": null,
   "metadata": {},
   "outputs": [],
   "source": [
    "print(\"At the Earth's radius of {:.2e} meters,the force is {:.0f} Newtons.\".format(r, F))"
   ]
  },
  {
   "cell_type": "markdown",
   "metadata": {},
   "source": [
    "Note the difference between .0f (float) and i (integer) (rounding vs. truncating)"
   ]
  },
  {
   "cell_type": "code",
   "execution_count": null,
   "metadata": {},
   "outputs": [],
   "source": [
    "# Line breaks can also be implemented with \\n\n",
    "\n",
    "print(\"At the Earth's radius of {:.2e} meters, \\nthe force is {:.0f} Newtons.\".format(r, F))"
   ]
  },
  {
   "cell_type": "markdown",
   "metadata": {},
   "source": [
    "#### Q. What situations can you imagine in which printing information like this (i.e., full sentences, carefully formatted numbers) would be useful?"
   ]
  },
  {
   "cell_type": "raw",
   "metadata": {},
   "source": [
    "-------------------------------------------------------------------------"
   ]
  },
  {
   "cell_type": "raw",
   "metadata": {},
   "source": [
    " Number   | Format \t | Output      | Description\n",
    "------------------------------------------------------------------------- \n",
    "3.1415926 |\t{:.2f} \t |   3.14      |Format float 2 decimal places\n",
    "3.1415926 |\t{:+.2f}  | \t+3.14      |Format float 2 decimal places with sign\n",
    "-1 \t      | {:+.2f}  |  -1.00      |Format float 2 decimal places with sign\n",
    "2.71828   | {:.0f} \t |   3 \t       |Format float with no decimal places\n",
    "5 \t      | {:0>2d}  |\t 05        |Pad number with zeros (left padding, width 2)\n",
    "5 \t      | {:x<4d}  |   5xxx      |Pad number with x’s (right padding, width 4)\n",
    "10 \t      | {:x<4d}  |\t 10xx      |Pad number with x’s (right padding, width 4)\n",
    "1000000   |\t{:,} \t |   1,000,000 |Number format with comma separator\n",
    "0.25 \t  | {:.2%} \t |   25.00%    |Format percentage\n",
    "1000000000| {:.2e} \t |   1.00e+09  |Exponent notation\n",
    "13        | {:10d} \t |   13 \t   |Right aligned (default, width 10)\n",
    "13 \t      | {:<10d}  |\t 13 \t   |Left aligned (width 10)\n",
    "13 \t      | {:^10d}  |\t 13 \t   |Center aligned (width 10)\n",
    "        "
   ]
  },
  {
   "cell_type": "markdown",
   "metadata": {},
   "source": [
    "----"
   ]
  },
  {
   "cell_type": "markdown",
   "metadata": {},
   "source": [
    "### Computer Science Glossary:"
   ]
  },
  {
   "cell_type": "markdown",
   "metadata": {},
   "source": [
    "Some terms we need to learn:\n",
    "(a few you know already, a few will appear in today's tutorial):\n",
    "    \n",
    "    OPERATING SYSTEM (OS): the collection of programs that manage the hardware\n",
    "                          and software resources of the computer (e.g. Windows, Mac OS X, Linux)\n",
    "    \n",
    "    PYTHON: a program which interprets the text in our program files\n",
    "    \n",
    "    SYNTAX: the language of the programming language\n",
    "            (e.g. words, spelling, spacing, punctuation, etc)\n",
    "\n",
    "    MODULE: a self-contained program called or used by other programs\n",
    "    \n",
    "    PACKAGE: a collection of modules\n",
    "\n",
    "    LIBRARIES: modules and packages (like numpy)\n",
    "    \n",
    "    ALGORITHM: the steps the program takes to run\n",
    "\n",
    "    SOURCE CODE: the text that constitutes the program\n",
    "\n",
    "    STATEMENTS: a short collection of source code\n",
    "    \n",
    "    INPUT: the information that goes into the program\n",
    "\n",
    "    OUTPUT: the result of the program (what comes out)\n"
   ]
  },
  {
   "cell_type": "code",
   "execution_count": null,
   "metadata": {},
   "outputs": [],
   "source": []
  }
 ],
 "metadata": {
  "kernelspec": {
   "display_name": "Python 3",
   "language": "python",
   "name": "python3"
  },
  "language_info": {
   "codemirror_mode": {
    "name": "ipython",
    "version": 3
   },
   "file_extension": ".py",
   "mimetype": "text/x-python",
   "name": "python",
   "nbconvert_exporter": "python",
   "pygments_lexer": "ipython3",
   "version": "3.7.6"
  }
 },
 "nbformat": 4,
 "nbformat_minor": 1
}