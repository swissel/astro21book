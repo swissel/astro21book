{
 "cells": [
  {
   "cell_type": "markdown",
   "metadata": {},
   "source": [
    "## Functions"
   ]
  },
  {
   "cell_type": "raw",
   "metadata": {},
   "source": [
    "Functions are useful because they allow us to perform operations many times without\n",
    "repeating code snippets, keeping programs shorter, more managable, and more organized."
   ]
  },
  {
   "cell_type": "code",
   "execution_count": null,
   "metadata": {},
   "outputs": [],
   "source": [
    "def add5(number):\n",
    "    result = number + 5\n",
    "    \n",
    "    return result\n",
    "\n",
    "print(add5(3))"
   ]
  },
  {
   "cell_type": "raw",
   "metadata": {},
   "source": [
    "Basic structure:\n",
    "\n",
    "def function_name(argument):\n",
    "    <do some stuff>\n",
    "    ...\n",
    "    \n",
    "    <return stuff>\n",
    "    \n",
    "Notice especially: def, colon, indent    \n",
    "Optional: argument (or \"input\": you'll hear people say both), return statement"
   ]
  },
  {
   "cell_type": "code",
   "execution_count": null,
   "metadata": {},
   "outputs": [],
   "source": [
    "#Let's create a list of numbers that our function will evaluate\n",
    "numbersList = [i for i in range(11)]\n",
    "print(numbersList)"
   ]
  },
  {
   "cell_type": "raw",
   "metadata": {},
   "source": [
    "Next, let's evaluate all the numbers in the list through our function."
   ]
  },
  {
   "cell_type": "code",
   "execution_count": null,
   "metadata": {},
   "outputs": [],
   "source": [
    "for i in range(len(numbersList)):\n",
    "    print(add5(numbersList[i]))"
   ]
  },
  {
   "cell_type": "markdown",
   "metadata": {},
   "source": [
    "### Local and Global variables"
   ]
  },
  {
   "cell_type": "markdown",
   "metadata": {},
   "source": [
    "Variables inside the function are called local variables -- they only exists in the function add5.  \n",
    "Any variables existing outside of the function that can be accessed anywhere in the program are called global variables. "
   ]
  },
  {
   "cell_type": "code",
   "execution_count": null,
   "metadata": {},
   "outputs": [],
   "source": [
    "mass = 10\n",
    "\n",
    "def add5(number):\n",
    "    result = number + 5 * mass\n",
    "    \n",
    "    return result\n",
    "\n",
    "print(add5(3))"
   ]
  },
  {
   "cell_type": "raw",
   "metadata": {},
   "source": [
    "In the above case, mass is a global variable.  \"result\" is a local variable. \n",
    "\n",
    "Notes on global and local variables:\n",
    "\n",
    "  * Avoid local and global variables with the same name.\n",
    "  \n",
    "  * When there are variables of the same name, Python first looks for a local variable,\n",
    "    then a global variable, then a built-in function of that name.\n",
    "\n",
    "  * Avoid changing global variables in functions, although Python has a utility for doing so:  the global function."
   ]
  },
  {
   "cell_type": "markdown",
   "metadata": {},
   "source": [
    "What will this print?"
   ]
  },
  {
   "cell_type": "code",
   "execution_count": null,
   "metadata": {},
   "outputs": [],
   "source": [
    "g = 10\n",
    "\n",
    "def f(x):\n",
    "    g = 11\n",
    "    return x + g\n",
    "\n",
    "print(f(5), g)"
   ]
  },
  {
   "cell_type": "raw",
   "metadata": {},
   "source": [
    "Notice that the g that is defined inside the function is what the function uses. Not the global g.  "
   ]
  },
  {
   "cell_type": "code",
   "execution_count": null,
   "metadata": {},
   "outputs": [],
   "source": [
    "g = 10\n",
    "\n",
    "def f(x):\n",
    "    global g       # Now \"g\" inside the function references the global variable\n",
    "    #g = 11         # Give that variable a new value\n",
    "    return x + g\n",
    "\n",
    "print(f(5), g)"
   ]
  },
  {
   "cell_type": "raw",
   "metadata": {},
   "source": [
    "Use of \"global\" is generally frowned upon, but here it is for completeness."
   ]
  },
  {
   "cell_type": "markdown",
   "metadata": {},
   "source": [
    "Let's go back to the Planck function,\n",
    "\n",
    "$B_{\\lambda}(T) = \\frac{2 h c^2}{\\lambda^5 \\left[\\exp\\left(\\frac{h c}{\\lambda k T}\\right) - 1 \\right]}$"
   ]
  },
  {
   "cell_type": "markdown",
   "metadata": {},
   "source": [
    "where $h$ is Planck's constant, $c$ is the speed of light, \n",
    "$k$ is Boltzmann's constant, $T$ is the blackbody temperature, and\n",
    "$\\lambda$ is the wavelength."
   ]
  },
  {
   "cell_type": "code",
   "execution_count": null,
   "metadata": {},
   "outputs": [],
   "source": [
    "# First, define the physical constants:\n",
    "h = 6.626e-34  # J s, Planck's constant\n",
    "k = 1.38e-23   # J K^-1, Boltzmann constant\n",
    "c = 3.00e8     # m s^-1, speed of light\n",
    " \n",
    "# Conversion between nm and meters\n",
    "nm2m = 1e9\n",
    "    \n",
    "# The Planck function is a function of two variables;\n",
    "# for now, we'll set T = 5,800 K, the photospheric temperature of the Sun\n",
    "# and allow the wavelength to vary.\n",
    "temp = 5800.0  \n",
    "\n",
    "from math import exp\n",
    "\n",
    "# Define the function using def:\n",
    " \n",
    "def intensity1(wavelen_nm):               # Function header\n",
    "    wavelengthM = wavelen_nm / nm2m    # Will convert nm to meters\n",
    "    \n",
    "    B = 2 * h * c**2 / (wavelengthM**5 * \\\n",
    "                        (exp(h * c / (wavelengthM * k * temp)) - 1))\n",
    "    \n",
    "    return B\n",
    "\n",
    "# Units will be W / m^2 / m / ster"
   ]
  },
  {
   "cell_type": "raw",
   "metadata": {},
   "source": [
    "The above statement comprises the function body & return to the main program."
   ]
  },
  {
   "cell_type": "code",
   "execution_count": null,
   "metadata": {},
   "outputs": [],
   "source": [
    "print('{:g}'.format(intensity1(500.0)))\n",
    "print('{:e}'.format(intensity1(500.0)))\n",
    "print('{:f}'.format(intensity1(500.0)))"
   ]
  },
  {
   "cell_type": "raw",
   "metadata": {},
   "source": [
    "Next we'll create a list of wavelengths at which to evaluate the Planck function:"
   ]
  },
  {
   "cell_type": "code",
   "execution_count": null,
   "metadata": {},
   "outputs": [],
   "source": [
    "wavelengthList = [300 + 10 * i for i in range(41)]"
   ]
  },
  {
   "cell_type": "markdown",
   "metadata": {},
   "source": [
    "#### Q. What did the above command do?"
   ]
  },
  {
   "cell_type": "code",
   "execution_count": null,
   "metadata": {},
   "outputs": [],
   "source": [
    "print(wavelengthList)"
   ]
  },
  {
   "cell_type": "raw",
   "metadata": {},
   "source": [
    "Now, we'll create an intensity list using another list comprehension and calling the \"intensity1\" function to evaluate it:"
   ]
  },
  {
   "cell_type": "code",
   "execution_count": null,
   "metadata": {},
   "outputs": [],
   "source": [
    "intensityList = [intensity1(wavelength) for wavelength in wavelengthList]  \n",
    "print(intensityList)"
   ]
  },
  {
   "cell_type": "raw",
   "metadata": {},
   "source": [
    "For a nice print-out, make use of a for loop and the range function:"
   ]
  },
  {
   "cell_type": "code",
   "execution_count": null,
   "metadata": {},
   "outputs": [],
   "source": [
    "for index in range(len(wavelengthList)):\n",
    "    print('wavelength (nm) = {:}   Intensity (W m^-3 ster^-1) = {:.2e}'\\\n",
    "          .format(wavelengthList[index], intensityList[index]))"
   ]
  },
  {
   "cell_type": "raw",
   "metadata": {},
   "source": [
    "When I define a function in the following manner,"
   ]
  },
  {
   "cell_type": "code",
   "execution_count": null,
   "metadata": {},
   "outputs": [],
   "source": [
    "def intensity1(wavelen_nm):                # Function header\n",
    "    wavelengthM = wavelen_nm / nm2m    # Will convert nm to meters\n",
    "    \n",
    "    B = 2 * h * c**2 / (wavelengthM**5 * (exp(h * c / (wavelengthM * k * temp)) - 1))\n",
    "    \n",
    "    return B\n"
   ]
  },
  {
   "cell_type": "raw",
   "metadata": {},
   "source": [
    "B is a local variable -- it only exists in the function Intensity"
   ]
  },
  {
   "cell_type": "raw",
   "metadata": {},
   "source": [
    "So this fails:"
   ]
  },
  {
   "cell_type": "code",
   "execution_count": null,
   "metadata": {},
   "outputs": [],
   "source": [
    "print(B)"
   ]
  },
  {
   "cell_type": "raw",
   "metadata": {},
   "source": [
    "so does:"
   ]
  },
  {
   "cell_type": "code",
   "execution_count": null,
   "metadata": {},
   "outputs": [],
   "source": [
    "print(wavelengthM)"
   ]
  },
  {
   "cell_type": "markdown",
   "metadata": {},
   "source": [
    "### Functions with multiple arguments"
   ]
  },
  {
   "cell_type": "raw",
   "metadata": {},
   "source": [
    "The Planck function is a function of wavelength AND temperature."
   ]
  },
  {
   "cell_type": "code",
   "execution_count": null,
   "metadata": {},
   "outputs": [],
   "source": [
    "# First, define the physical constants:\n",
    "h = 6.626e-34  # J s, Planck's constant\n",
    "k = 1.38e-23   # J K^-1, Boltzmann constant\n",
    "c = 3.00e8     # m s^-1, speed of light\n",
    " \n",
    "# Conversion between nm and meters\n",
    "nm2m = 1e9\n",
    "    \n",
    "# The Planck function is a function of two variables;\n",
    "# for now, we'll set T = 5,800 K, the photospheric temperature of the Sun\n",
    "# and allow the wavelength to vary.\n",
    "temp = 5800.0  \n",
    "\n",
    "from math import exp\n"
   ]
  },
  {
   "cell_type": "code",
   "execution_count": null,
   "metadata": {},
   "outputs": [],
   "source": [
    "def intensity2(wavelen_nm, temp):   # 2nd version of function Intensity\n",
    "    wavelengthM = wavelen_nm / nm2m\n",
    "    B = 2 * h * c**2 / (wavelengthM**5 * (exp(h * c / (wavelengthM * k * temp)) - 1))\n",
    "    return B"
   ]
  },
  {
   "cell_type": "code",
   "execution_count": null,
   "metadata": {},
   "outputs": [],
   "source": [
    "print(intensity2(500.0, 5800.0))\n",
    "#to format the output:\n",
    "print('{:.2e}'.format(intensity2(500.0, 5800.0)))\n",
    "#format with commas! reminder to look it up. :)\n",
    "print('{:,}'.format(intensity2(500.0, 5800.0)))"
   ]
  },
  {
   "cell_type": "raw",
   "metadata": {},
   "source": [
    "\"call sequence\" simple, nothing fancy! Just comma-separated values to supply multiple arguments."
   ]
  },
  {
   "cell_type": "raw",
   "metadata": {},
   "source": [
    "You could also call the function with"
   ]
  },
  {
   "cell_type": "code",
   "execution_count": null,
   "metadata": {},
   "outputs": [],
   "source": [
    "print(intensity2(temp=5800.0, wavelen_nm=500.0))"
   ]
  },
  {
   "cell_type": "raw",
   "metadata": {},
   "source": [
    "or"
   ]
  },
  {
   "cell_type": "code",
   "execution_count": null,
   "metadata": {},
   "outputs": [],
   "source": [
    "print(intensity2(wavelen_nm=500.0, temp=5800.0))"
   ]
  },
  {
   "cell_type": "markdown",
   "metadata": {},
   "source": [
    "Will the following produce the same result as the previous two ways of calling the \"intensity2\" function?"
   ]
  },
  {
   "cell_type": "code",
   "execution_count": null,
   "metadata": {},
   "outputs": [],
   "source": [
    "print(intensity2(5800.0, 500.0))"
   ]
  },
  {
   "cell_type": "markdown",
   "metadata": {},
   "source": [
    "#### Q. What happened?"
   ]
  },
  {
   "cell_type": "raw",
   "metadata": {},
   "source": [
    "Our funciton \"intensity2\" assumes that the first argument is the wavelength and the second is the temperature.  They are reversed in this case, so we get a different result.\n",
    "\n",
    "Functions are useful beyond just evaluating equations.\n",
    "\n",
    "Here's another example (albeit another mathematical one).\n",
    "\n",
    "We needed a wavelength list for the previous example with the Planck function; \n",
    "let's write a function to make that for us."
   ]
  },
  {
   "cell_type": "markdown",
   "metadata": {},
   "source": [
    "## Exercise 1"
   ]
  },
  {
   "cell_type": "markdown",
   "metadata": {},
   "source": [
    "Write a function called \"WaveListGen\" that creates a list of wavelenghts that you can pass onto the Planck function program. Consider having a minimum and maximum wavelength and a step in wavelength that is changable (wavelength spacing).  Before you start, plan how many arguments your function should have and what the layout of the program should be. "
   ]
  },
  {
   "cell_type": "code",
   "execution_count": null,
   "metadata": {},
   "outputs": [],
   "source": []
  },
  {
   "cell_type": "code",
   "execution_count": null,
   "metadata": {},
   "outputs": [],
   "source": [
    "#possible solution:\n",
    "def waveListGen(minWavelength, maxWavelength, delta):\n",
    "    waveList = []\n",
    "    \n",
    "    wavelength = minWavelength\n",
    "    \n",
    "    while wavelength <= maxWavelength:\n",
    "        waveList.append(wavelength)\n",
    "        wavelength += delta\n",
    "    \n",
    "    return waveList\n",
    "\n",
    "print(waveListGen(300,500,50))"
   ]
  },
  {
   "cell_type": "markdown",
   "metadata": {},
   "source": [
    "#### Q. What will this do?"
   ]
  },
  {
   "cell_type": "code",
   "execution_count": null,
   "metadata": {},
   "outputs": [],
   "source": [
    "waveList = waveListGen(300, 500, 20)\n",
    "print(waveList)"
   ]
  },
  {
   "cell_type": "raw",
   "metadata": {},
   "source": [
    "Note that the waveListGen function we just wrote is more flexible than our previous approach of simply generating a list:\n",
    "\n",
    "wavelengthList = [300.0 + 10.0 * i for i in range(41)]\n",
    "\n",
    "With the waveListGen fuction we can easily modify the start, stop, and wavelength spacing."
   ]
  },
  {
   "cell_type": "code",
   "execution_count": null,
   "metadata": {},
   "outputs": [],
   "source": [
    "# now evaluate the wavelenght list we just defined through the intensity function\n",
    "for i in range(len(waveList)):\n",
    "    print(intensity2(waveList[i],5800),waveList[i],temp)\n"
   ]
  },
  {
   "cell_type": "markdown",
   "metadata": {},
   "source": [
    "### Functions with multiple return values"
   ]
  },
  {
   "cell_type": "raw",
   "metadata": {},
   "source": [
    "Given a wavelength, we can return the frequency and the\n",
    "value of the Planck function at that frequency:"
   ]
  },
  {
   "cell_type": "code",
   "execution_count": null,
   "metadata": {},
   "outputs": [],
   "source": [
    "h = 6.626e-34\n",
    "k = 1.38e-23 \n",
    "c = 3.00e8   \n",
    "nm2m = 1e9\n",
    "\n",
    "from math import exp\n",
    "\n",
    "def intensity3(wavelen_nm, temp):   \n",
    "    wavelengthM = wavelen_nm / nm2m\n",
    "    \n",
    "    B = 2 * h * c**2 / (wavelengthM**5 * (exp(h * c / (wavelengthM * k * temp)) - 1))\n",
    "    \n",
    "    return (wavelen_nm, B)\n",
    "#notice that the function is returning 2 things: wavelenght and intensity"
   ]
  },
  {
   "cell_type": "code",
   "execution_count": null,
   "metadata": {},
   "outputs": [],
   "source": [
    "temp = 10000.0  # Hot A star or cool B star; brighter than a G star\n",
    "\n",
    "# There must be two variables on the left-hand side of the \n",
    "# assignment operator since the function will return two variables\n",
    "wavelen_nm, intensity = intensity3(600.0, temp=temp)\n",
    "\n",
    "print(\"{:.1f}   {:e}\".format(wavelen_nm, intensity))"
   ]
  },
  {
   "cell_type": "raw",
   "metadata": {},
   "source": [
    "There must be two variables on the left-hand side of the assignment operator since\n",
    "the function will return two variables, or else if there is only one variable, it\n",
    "will contain both values as a tuple (see cell below).\n",
    "\n",
    "This is yet another instance of \"unpacking,\" which we saw while using the \"enumerate\" \n",
    "function, and when working with tuples."
   ]
  },
  {
   "cell_type": "code",
   "execution_count": null,
   "metadata": {},
   "outputs": [],
   "source": [
    "result = intensity3(600.0, 10000.0)\n",
    "\n",
    "print(result)\n",
    "print(type(result))"
   ]
  },
  {
   "cell_type": "raw",
   "metadata": {},
   "source": [
    "Printing out a table output:"
   ]
  },
  {
   "cell_type": "code",
   "execution_count": null,
   "metadata": {},
   "outputs": [],
   "source": [
    "for wave in (waveListGen(300,400,50)):\n",
    "    print(\"Wavelength and intensity: {:}\".format(intensity3(wave,1e4)))"
   ]
  },
  {
   "cell_type": "raw",
   "metadata": {},
   "source": [
    "Notice how compact that for loop is!\n",
    "\n",
    "We initialized the list of wavelengths right in the for loop, then, passed the \n",
    "results of the calculation (using the function Intensity3) directly to string formatting.\n",
    "This is possible because the Intensity3 returns a tuple!"
   ]
  },
  {
   "cell_type": "markdown",
   "metadata": {},
   "source": [
    "# Doc Strings:"
   ]
  },
  {
   "cell_type": "markdown",
   "metadata": {},
   "source": [
    "Doc strings are used to document functions.  They generally include:\n",
    "\n",
    "* A description of the functionality of the function\n",
    "\n",
    "* A list of arguments\n",
    "\n",
    "* A description of outputs (returned values)\n",
    "\n",
    "And, they serve as the help documentation!\n",
    "\n",
    "They go right after the function header and are enclosed within triple quotes."
   ]
  },
  {
   "cell_type": "code",
   "execution_count": null,
   "metadata": {},
   "outputs": [],
   "source": [
    "def force(mass1, mass2, radius):\n",
    "    \"\"\"\n",
    "    Compute the gravitational force between two bodies.\n",
    "    \n",
    "    Input Parameters\n",
    "    ----------\n",
    "    mass1 : int, float\n",
    "        Mass of the first body, in kilograms.\n",
    "    mass2 : int, float\n",
    "        Mass of the second body, in kilograms.\n",
    "    radius : int, float\n",
    "        Separation of the bodies, in meters.\n",
    "\n",
    "    Example\n",
    "    -------\n",
    "    To compute force between Earth and the Sun:\n",
    "    >>> F = force(5.97e24, 1.99e30, 1.5e11)\n",
    "\n",
    "    Returns\n",
    "    -------\n",
    "    Force in Newtons : float\n",
    "    \"\"\"\n",
    "    G = 6.67e-11\n",
    "    \n",
    "    return G * mass1 * mass2 / radius**2"
   ]
  },
  {
   "cell_type": "code",
   "execution_count": null,
   "metadata": {},
   "outputs": [],
   "source": [
    "result = force(5.97e24, 2.00e30, 1.5e11)\n",
    "print(result)"
   ]
  },
  {
   "cell_type": "code",
   "execution_count": null,
   "metadata": {},
   "outputs": [],
   "source": [
    "# To see the documentation for a function, use help:\n",
    "\n",
    "help(force)"
   ]
  },
  {
   "cell_type": "markdown",
   "metadata": {},
   "source": [
    "### Keyword arguments"
   ]
  },
  {
   "cell_type": "raw",
   "metadata": {},
   "source": [
    "Function arguments can be given default values so that the arguments can be left out of the function call."
   ]
  },
  {
   "cell_type": "code",
   "execution_count": null,
   "metadata": {},
   "outputs": [],
   "source": [
    "def testFunc(arg1, arg2, kwarg1=True, kwarg2=4.):\n",
    "    print(arg1, arg2, kwarg1, kwarg2)"
   ]
  },
  {
   "cell_type": "raw",
   "metadata": {},
   "source": [
    "The first two arguments in this case are \"positional arguments.\"\n",
    "\n",
    "The second two are named \"keyword arguments\".\n",
    "\n",
    "Keyword arguments must follow positional arguments in function calls."
   ]
  },
  {
   "cell_type": "markdown",
   "metadata": {},
   "source": [
    "#### Q. What will this do?"
   ]
  },
  {
   "cell_type": "code",
   "execution_count": null,
   "metadata": {},
   "outputs": [],
   "source": [
    "testFunc(1.0, 2.0)"
   ]
  },
  {
   "cell_type": "markdown",
   "metadata": {},
   "source": [
    "Let's consider the equation for damped harmonic motion is:\n",
    "\n",
    "$f(t)=A \\cdot e^{-at} \\cdot \\sin({\\omega \\cdot t})$"
   ]
  },
  {
   "cell_type": "code",
   "execution_count": null,
   "metadata": {},
   "outputs": [],
   "source": [
    "from math import pi, exp, sin\n",
    "\n",
    "# t is positional argument, others are keyword arguments\n",
    "def f(t, A=1, a=1, omega=2*pi):   \n",
    "    return A*exp(-a*t)*sin(omega*t)\n",
    "\n",
    "v1 = f(0.01)  # Only the time is specified\n",
    "print(v1)"
   ]
  },
  {
   "cell_type": "markdown",
   "metadata": {},
   "source": [
    "#### Q. What will this yield?"
   ]
  },
  {
   "cell_type": "code",
   "execution_count": null,
   "metadata": {},
   "outputs": [],
   "source": [
    "v1 = f(A=2, t=0.01)\n",
    "print(v1)"
   ]
  },
  {
   "cell_type": "markdown",
   "metadata": {},
   "source": [
    "### Nested functions: functions as arguments to other functions"
   ]
  },
  {
   "cell_type": "raw",
   "metadata": {},
   "source": [
    "Python can use functions as arguments of other functions.\n",
    "\n",
    "Let's use a numerical second derivative as an example of a function calling a function:"
   ]
  },
  {
   "cell_type": "markdown",
   "metadata": {},
   "source": [
    "$\\frac{df(x)}{dx} \\approx \\frac{f(x-h) + f(x+h) - 2f(x)}{h^2}$"
   ]
  },
  {
   "cell_type": "code",
   "execution_count": null,
   "metadata": {},
   "outputs": [],
   "source": [
    "def diff2(f, x, h=1e-6):\n",
    "    \"\"\"\n",
    "    Calculates a second derivative.\n",
    "    f:  the function (of one variable) to be differentiated\n",
    "    x:  value at which the function is evaluated\n",
    "    h:  small difference in x \n",
    "    \"\"\"\n",
    "    r = (f(x-h) + f(x + h) - 2.0 * f(x)) / float(h**2)\n",
    "    return r"
   ]
  },
  {
   "cell_type": "markdown",
   "metadata": {},
   "source": [
    "We'll work with the following function:\n",
    "\n",
    "$g(t) = t^2$"
   ]
  },
  {
   "cell_type": "code",
   "execution_count": null,
   "metadata": {},
   "outputs": [],
   "source": [
    "def g(t):\n",
    "    return t**2"
   ]
  },
  {
   "cell_type": "code",
   "execution_count": null,
   "metadata": {},
   "outputs": [],
   "source": [
    "t = 3.0\n",
    "gPrimePrime = diff2(g, t)"
   ]
  },
  {
   "cell_type": "code",
   "execution_count": null,
   "metadata": {},
   "outputs": [],
   "source": [
    "print(\"Second derivative of g=t^2 evaluated at t={:g}\".format(t))\n",
    "print(\"g({:f})={:.8g}\" .format(t, gPrimePrime))"
   ]
  },
  {
   "cell_type": "markdown",
   "metadata": {},
   "source": [
    "### Lambda functions"
   ]
  },
  {
   "cell_type": "raw",
   "metadata": {},
   "source": [
    "Functions can be defined in one line (which is convenient if they are short!) using the Python lambda function.\n",
    "\n",
    "Lambda is a simple function that is only defined on that particular line. Think of lambda as a mini function, that cannot be reused after the call."
   ]
  },
  {
   "cell_type": "code",
   "execution_count": null,
   "metadata": {},
   "outputs": [],
   "source": [
    "g = lambda t: t**2\n",
    "print(g)\n",
    "print(g(2.0))"
   ]
  },
  {
   "cell_type": "raw",
   "metadata": {},
   "source": [
    "Syntax:\n",
    "\n",
    "g = lambda arg1, arg2, arg, ...: expression\n",
    "\n",
    "It lends itself nicely to function calls to functions:"
   ]
  },
  {
   "cell_type": "code",
   "execution_count": null,
   "metadata": {},
   "outputs": [],
   "source": [
    "# This simply calculates the second derivative of t^2 evaluated at t=3.\n",
    "test = diff2(lambda t: t**2, 3) \n",
    "# Recall the first argument to diff2 was the function, \n",
    "# which is \"lambda t: t**2\" here.\n",
    "\n",
    "print(test)"
   ]
  },
  {
   "cell_type": "code",
   "execution_count": null,
   "metadata": {},
   "outputs": [],
   "source": [
    "y = lambda x: x**3\n",
    "print(y(2))"
   ]
  },
  {
   "cell_type": "code",
   "execution_count": null,
   "metadata": {},
   "outputs": [],
   "source": []
  }
 ],
 "metadata": {
  "kernelspec": {
   "display_name": "Python 3",
   "language": "python",
   "name": "python3"
  },
  "language_info": {
   "codemirror_mode": {
    "name": "ipython",
    "version": 3
   },
   "file_extension": ".py",
   "mimetype": "text/x-python",
   "name": "python",
   "nbconvert_exporter": "python",
   "pygments_lexer": "ipython3",
   "version": "3.8.5"
  }
 },
 "nbformat": 4,
 "nbformat_minor": 1
}
