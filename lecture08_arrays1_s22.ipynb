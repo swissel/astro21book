{
 "cells": [
  {
   "cell_type": "markdown",
   "metadata": {},
   "source": [
    "## Array Computing"
   ]
  },
  {
   "cell_type": "raw",
   "metadata": {},
   "source": [
    "Terminology\n",
    "\n",
    "List  - A sequence of values that can vary in length.\n",
    "        The values can be different data types.\n",
    "        The values can be modified (mutable).\n",
    "\n",
    "Tuple - A sequence of values with a fixed length.\n",
    "        The values can be different data types.\n",
    "        The values cannot be modified (immutable).\n",
    "\n",
    "Array - A sequence of values with a fixed length.\n",
    "        The values cannot be different data types.\n",
    "        The values can be modified (mutable).\n",
    "\n",
    "Vector - A 1 dimensional (1D) array.\n",
    "\n",
    "Matrix - A 2 dimensional (2D) array.\n",
    "\n",
    "Arrays are like lists and while they are less flexible, they are more efficient for lengthy calculations (one data type, stored in the same location in memory)."
   ]
  },
  {
   "cell_type": "raw",
   "metadata": {},
   "source": [
    "Vectors can have an arbitrary number of components,\n",
    "existing in an n-dimensional space.\n",
    "\n",
    "(x0, x1, x2, ... x(n-1))\n",
    "\n",
    "In Python, vectors are represented by lists or tuples:"
   ]
  },
  {
   "cell_type": "code",
   "execution_count": 1,
   "metadata": {},
   "outputs": [
    {
     "name": "stdout",
     "output_type": "stream",
     "text": [
      "List has square brackets: [1, 2]\n",
      "Tuple has regular brackets: (3, 4)\n"
     ]
    }
   ],
   "source": [
    "myList = [1, 2]\n",
    "myTuple = (3,4)\n",
    "\n",
    "print(\"List has square brackets: {}\".format(myList))\n",
    "print(\"Tuple has regular brackets: {}\".format(myTuple))"
   ]
  },
  {
   "cell_type": "markdown",
   "metadata": {},
   "source": [
    "### Mathematical Operations on Vectors"
   ]
  },
  {
   "cell_type": "raw",
   "metadata": {},
   "source": [
    "In computing:\n",
    "\n",
    "    Applying a mathematical function to a vector \n",
    "    means applying it to each element in the vector.\n",
    "    (you may hear the phrase \"element-wise,\"\n",
    "    which means \"performing some operation one element\n",
    "    at a time\")\n",
    "\n",
    "**However, this is not true of lists and tuples**"
   ]
  },
  {
   "cell_type": "code",
   "execution_count": 2,
   "metadata": {},
   "outputs": [
    {
     "name": "stdout",
     "output_type": "stream",
     "text": [
      "[0.0, 1.0, 2.0, 0.0, 1.0, 2.0]\n"
     ]
    }
   ],
   "source": [
    "numList  = [0.0, 1.0, 2.0]\n",
    "print(2 * numList)"
   ]
  },
  {
   "cell_type": "code",
   "execution_count": 3,
   "metadata": {},
   "outputs": [
    {
     "name": "stdout",
     "output_type": "stream",
     "text": [
      "(0.0, 1.0, 2.0, 0.0, 1.0, 2.0)\n"
     ]
    }
   ],
   "source": [
    "numTuple = (0.0, 1.0, 2.0)\n",
    "print(2 * numTuple)"
   ]
  },
  {
   "cell_type": "raw",
   "metadata": {},
   "source": [
    "Hm, that is not what I wanted to do.  I want each element inside of my tuple or list to be multiplied by the number 2.  What if we specify 2.0 instead of the integer 2?"
   ]
  },
  {
   "cell_type": "code",
   "execution_count": 4,
   "metadata": {},
   "outputs": [
    {
     "ename": "TypeError",
     "evalue": "can't multiply sequence by non-int of type 'float'",
     "output_type": "error",
     "traceback": [
      "\u001b[0;31m---------------------------------------------------------------------------\u001b[0m",
      "\u001b[0;31mTypeError\u001b[0m                                 Traceback (most recent call last)",
      "\u001b[0;32m<ipython-input-4-462b84a41236>\u001b[0m in \u001b[0;36m<module>\u001b[0;34m\u001b[0m\n\u001b[0;32m----> 1\u001b[0;31m \u001b[0mprint\u001b[0m\u001b[0;34m(\u001b[0m\u001b[0;36m2.0\u001b[0m \u001b[0;34m*\u001b[0m \u001b[0mnumList\u001b[0m\u001b[0;34m)\u001b[0m\u001b[0;34m\u001b[0m\u001b[0;34m\u001b[0m\u001b[0m\n\u001b[0m",
      "\u001b[0;31mTypeError\u001b[0m: can't multiply sequence by non-int of type 'float'"
     ]
    }
   ],
   "source": [
    "print(2.0 * numList)"
   ]
  },
  {
   "cell_type": "raw",
   "metadata": {},
   "source": [
    "That didn't work...  \n",
    "This is why we have to use arrays for computing on every element. \n",
    "\n",
    "Before we get to array computing, let's examine computing with lists. "
   ]
  },
  {
   "cell_type": "markdown",
   "metadata": {},
   "source": [
    "We can compute the distance of an object, given its time and acceleration: $y=\\frac{1}{2}at^2$"
   ]
  },
  {
   "cell_type": "code",
   "execution_count": 5,
   "metadata": {},
   "outputs": [],
   "source": [
    "def distance(t, a = 9.8):\n",
    "    '''Calculate the distance given a time and acceleration.\n",
    "       \n",
    "       Input:  time in seconds <int> or <float>,\n",
    "               acceleration in m/s^2 <int> or <float>\n",
    "       Output: distance in m <float>\n",
    "    '''\n",
    "    return 0.5 * a * t**2\n"
   ]
  },
  {
   "cell_type": "markdown",
   "metadata": {},
   "source": [
    "One way to calculate the distance for many different times is to use lists.  We can create a list of 'times' by using 'range' and then through a list comprehension and a for loop, run that list through our 'distance' function and generate a 'distance' list. "
   ]
  },
  {
   "cell_type": "code",
   "execution_count": 6,
   "metadata": {},
   "outputs": [
    {
     "name": "stdout",
     "output_type": "stream",
     "text": [
      "Time List:     [0, 1, 2, 3, 4, 5, 6, 7, 8, 9, 10]\n",
      "Distance List: [0.0, 4.9, 19.6, 44.1, 78.4, 122.50000000000001, 176.4, 240.10000000000002, 313.6, 396.90000000000003, 490.00000000000006]\n"
     ]
    }
   ],
   "source": [
    "# filling a time list with values 0-10, and calculating the distances.\n",
    "timeList = [i for i in range(11)]\n",
    "distList = [distance(t) for t in timeList]\n",
    "print(\"Time List:    \", timeList)\n",
    "print(\"Distance List:\", distList)"
   ]
  },
  {
   "cell_type": "markdown",
   "metadata": {},
   "source": [
    "Not exaclty a favorable output format.  Let's make it look more readable.  We want our output to be as well formated as a table with t and d values. \n",
    "\n",
    "Read on your own about \"stitching results together.\"\n",
    "\n",
    "One way to do this is to make a new list that has both time and distance values and then print the elements of that list through a for loop. "
   ]
  },
  {
   "cell_type": "code",
   "execution_count": 7,
   "metadata": {},
   "outputs": [
    {
     "name": "stdout",
     "output_type": "stream",
     "text": [
      "Time  Distance\n",
      "[0, 0.0]\n",
      "[1, 4.9]\n",
      "[2, 19.6]\n",
      "[3, 44.1]\n",
      "[4, 78.4]\n",
      "[5, 122.50000000000001]\n",
      "[6, 176.4]\n",
      "[7, 240.10000000000002]\n",
      "[8, 313.6]\n",
      "[9, 396.90000000000003]\n",
      "[10, 490.00000000000006]\n"
     ]
    }
   ],
   "source": [
    "timeDistList = []\n",
    "\n",
    "print(\"Time  Distance\")\n",
    "\n",
    "for i in range(11):\n",
    "    timeDistList.append([timeList[i], distList[i]])\n",
    "\n",
    "for element in timeDistList:\n",
    "    print(element)"
   ]
  },
  {
   "cell_type": "markdown",
   "metadata": {},
   "source": [
    "One can do this more compactly with the command \"zip\". Notice that the output gives us tuples. "
   ]
  },
  {
   "cell_type": "code",
   "execution_count": 8,
   "metadata": {},
   "outputs": [
    {
     "name": "stdout",
     "output_type": "stream",
     "text": [
      "(0, 0.0)\n",
      "(1, 4.9)\n",
      "(2, 19.6)\n",
      "(3, 44.1)\n",
      "(4, 78.4)\n",
      "(5, 122.50000000000001)\n",
      "(6, 176.4)\n",
      "(7, 240.10000000000002)\n",
      "(8, 313.6)\n",
      "(9, 396.90000000000003)\n",
      "(10, 490.00000000000006)\n"
     ]
    }
   ],
   "source": [
    "for element in zip(timeList, distList):\n",
    "    print(element)"
   ]
  },
  {
   "cell_type": "markdown",
   "metadata": {},
   "source": [
    "\"zip\" can also be used with lists."
   ]
  },
  {
   "cell_type": "code",
   "execution_count": 9,
   "metadata": {},
   "outputs": [
    {
     "name": "stdout",
     "output_type": "stream",
     "text": [
      "Time  Distance\n",
      "[0, 0.0]\n",
      "[1, 4.9]\n",
      "[2, 19.6]\n",
      "[3, 44.1]\n",
      "[4, 78.4]\n",
      "[5, 122.50000000000001]\n",
      "[6, 176.4]\n",
      "[7, 240.10000000000002]\n",
      "[8, 313.6]\n",
      "[9, 396.90000000000003]\n",
      "[10, 490.00000000000006]\n"
     ]
    }
   ],
   "source": [
    "# with list comprehension (making a list)\n",
    "timeDistList2 = [[time, dist] for time, dist in zip(timeList, distList)]\n",
    "print(\"Time  Distance\")\n",
    "\n",
    "for element in timeDistList2:\n",
    "    print(element)"
   ]
  },
  {
   "cell_type": "raw",
   "metadata": {},
   "source": [
    "When to use lists and when to use arrays?\n",
    "\n",
    "In general, we'll use lists instead of arrays when elements have to be added (e.g., we don't know how the number of elements ahead of time, and must use methods like append and extend) or their types are heterogeneous.\n",
    "\n",
    "Otherwise we'll use arrays for numerical calculations."
   ]
  },
  {
   "cell_type": "markdown",
   "metadata": {},
   "source": [
    "### Basics of numpy arrays"
   ]
  },
  {
   "cell_type": "raw",
   "metadata": {},
   "source": [
    "Characteristics of numpy arrays:\n",
    "\n",
    "  1. Elements are all the same type\n",
    "\n",
    "  2. Number of elements known when array is created\n",
    "\n",
    "  3. Numerical Python (numpy) must be imported to \n",
    "     manipulate arrays.\n",
    "\n",
    "  4. **All array elements are operated on by numpy,\n",
    "     which eliminates loops and makes programs\n",
    "     much faster.**\n",
    "\n",
    "  5. Arrays with one index are sometimes called vectors \n",
    "     (or 1D arrays). Arrays with two indices are\n",
    "     sometimes called matrices (or 2D arrays)."
   ]
  },
  {
   "cell_type": "markdown",
   "metadata": {},
   "source": [
    "Let's take a list and convert it into an array.\n",
    "Note that you must first import numpy."
   ]
  },
  {
   "cell_type": "code",
   "execution_count": 10,
   "metadata": {},
   "outputs": [
    {
     "name": "stdout",
     "output_type": "stream",
     "text": [
      "<class 'numpy.ndarray'>\n",
      "[1 2 3]\n"
     ]
    }
   ],
   "source": [
    "import numpy as np\n",
    "\n",
    "myList  = [1, 2, 3]\n",
    "myArray = np.array(myList)\n",
    "\n",
    "print(type(myArray))   #did the conversion to an array work?\n",
    "print(myArray)"
   ]
  },
  {
   "cell_type": "markdown",
   "metadata": {},
   "source": [
    "To create an array of length n=10 filled with zeros:"
   ]
  },
  {
   "cell_type": "code",
   "execution_count": 11,
   "metadata": {},
   "outputs": [
    {
     "name": "stdout",
     "output_type": "stream",
     "text": [
      "[0. 0. 0. 0. 0. 0. 0. 0. 0. 0.]\n"
     ]
    }
   ],
   "source": [
    "myArray = np.zeros(10)\n",
    "print(myArray)\n",
    "\n",
    "# np.zeros also has a data type.  If we wanted 10 integers, we can specify\n",
    "# myArray = np.zeros(10, dtype=int)\n"
   ]
  },
  {
   "cell_type": "markdown",
   "metadata": {},
   "source": [
    "We often want an array with specific number of elements.\n",
    "\n",
    "`numpy.linspace(start, end, number of elements)` does this:\n",
    "\n",
    "NOTE:  the \"end\" value is NOT (end - 1)"
   ]
  },
  {
   "cell_type": "code",
   "execution_count": 12,
   "metadata": {},
   "outputs": [
    {
     "name": "stdout",
     "output_type": "stream",
     "text": [
      "[0. 1. 2. 3. 4. 5.]\n"
     ]
    }
   ],
   "source": [
    "zArray = np.linspace(0, 5, 6)\n",
    "print(zArray)"
   ]
  },
  {
   "cell_type": "markdown",
   "metadata": {},
   "source": [
    "We often want array elements equally spaced by some interval (delta).  \n",
    "\n",
    "`numpy.arange(start, end, step size)` does this:\n",
    "\n",
    "NOTE: the \"end\" value is (end - step size)\n"
   ]
  },
  {
   "cell_type": "code",
   "execution_count": 13,
   "metadata": {},
   "outputs": [
    {
     "name": "stdout",
     "output_type": "stream",
     "text": [
      "[0 1 2 3 4 5]\n",
      "[0.  0.5 1.  1.5 2.  2.5 3.  3.5 4.  4.5 5.  5.5]\n"
     ]
    }
   ],
   "source": [
    "print(np.arange(6))\n",
    "print(np.arange(0,6,0.5))"
   ]
  },
  {
   "cell_type": "markdown",
   "metadata": {},
   "source": [
    "### Accessing elements inside of arrays, slicing, and editing arrays"
   ]
  },
  {
   "cell_type": "markdown",
   "metadata": {},
   "source": [
    "Array elements are accessed with square brackets, the same as lists:"
   ]
  },
  {
   "cell_type": "code",
   "execution_count": 14,
   "metadata": {},
   "outputs": [
    {
     "name": "stdout",
     "output_type": "stream",
     "text": [
      "[0. 1. 2. 3. 4. 5.]\n",
      "3.0\n"
     ]
    }
   ],
   "source": [
    "print(zArray)\n",
    "print(zArray[3])"
   ]
  },
  {
   "cell_type": "markdown",
   "metadata": {},
   "source": [
    "Slicing can also be done on arrays:"
   ]
  },
  {
   "cell_type": "code",
   "execution_count": 15,
   "metadata": {},
   "outputs": [
    {
     "name": "stdout",
     "output_type": "stream",
     "text": [
      "[1. 2. 3.]\n"
     ]
    }
   ],
   "source": [
    "yArray = zArray[1:4]\n",
    "print(yArray)"
   ]
  },
  {
   "cell_type": "markdown",
   "metadata": {},
   "source": [
    "Next, let's edit one of the values in the z array"
   ]
  },
  {
   "cell_type": "code",
   "execution_count": 16,
   "metadata": {},
   "outputs": [
    {
     "name": "stdout",
     "output_type": "stream",
     "text": [
      "[ 0.  1.  2. 10.  4.  5.]\n"
     ]
    }
   ],
   "source": [
    "zArray[3] = 10.0\n",
    "\n",
    "print(zArray)"
   ]
  },
  {
   "cell_type": "markdown",
   "metadata": {},
   "source": [
    "Did this change the values in yArray, which we made a slice of the zArray?"
   ]
  },
  {
   "cell_type": "code",
   "execution_count": 17,
   "metadata": {},
   "outputs": [
    {
     "name": "stdout",
     "output_type": "stream",
     "text": [
      "[ 1.  2. 10.]\n"
     ]
    }
   ],
   "source": [
    "print(yArray)"
   ]
  },
  {
   "cell_type": "markdown",
   "metadata": {},
   "source": [
    "Yikes, it did change it!!!\n",
    "\n",
    "The variable yArray is a **reference** to three elements (a slice) from zArray: element indices 1, 2, and 3.\n",
    "\n",
    "Here is a blog post which discusses this issue nicely:\n",
    "\n",
    "http://nedbatchelder.com/text/names.html"
   ]
  },
  {
   "cell_type": "markdown",
   "metadata": {},
   "source": [
    "If we use lists, this doesn't happen.  We can change an element inside of a sublist, but the main list won't change. "
   ]
  },
  {
   "cell_type": "code",
   "execution_count": 18,
   "metadata": {},
   "outputs": [
    {
     "name": "stdout",
     "output_type": "stream",
     "text": [
      "[2]\n",
      "[2]\n"
     ]
    }
   ],
   "source": [
    "lList = [1, 2, 3]\n",
    "mList = lList[1:2]\n",
    "\n",
    "print(mList)\n",
    "lList[1] = 10\n",
    "print(mList)"
   ]
  },
  {
   "cell_type": "markdown",
   "metadata": {},
   "source": [
    "Do not forget this -- check your array values frequently if you are unsure!\n",
    "\n",
    "How can we avoid the problem of automatically changing a sub-array when we change the main array or vice versa? \n",
    "\n",
    "This can be done by creating an independent copy of an array!"
   ]
  },
  {
   "cell_type": "code",
   "execution_count": 16,
   "metadata": {},
   "outputs": [
    {
     "name": "stdout",
     "output_type": "stream",
     "text": [
      "[ 1.  2. 10.] [ 1.  2. 10.]\n",
      "[ 1.  2. 10.] [ 1.   3.5 10. ]\n"
     ]
    }
   ],
   "source": [
    "yArray2 = yArray.copy()\n",
    "print(yArray,yArray2)\n",
    "\n",
    "yArray2[1] = 3.5\n",
    "print(yArray,yArray2) \n",
    "\n",
    "# Notice that yArray was not changed when yArray2 was, \n",
    "# since yArray2 was created using the .copy() method."
   ]
  },
  {
   "cell_type": "markdown",
   "metadata": {},
   "source": [
    "## Computing with Arrays"
   ]
  },
  {
   "cell_type": "markdown",
   "metadata": {},
   "source": [
    "Let's go back to our function that calculates distance when time, t, and acceleration are given."
   ]
  },
  {
   "cell_type": "code",
   "execution_count": 20,
   "metadata": {},
   "outputs": [],
   "source": [
    "def distance(t, a = 9.8):\n",
    "    '''Calculate the distance given a time and acceleration.\n",
    "       \n",
    "       Input:  time in seconds <int> or <float>,\n",
    "               acceleration in m/s^2 <int> or <float>\n",
    "       Output: distance in m <float>\n",
    "    '''\n",
    "    return 0.5 * a * t**2"
   ]
  },
  {
   "cell_type": "markdown",
   "metadata": {},
   "source": [
    "We can create a list of the times and run it through the function to get the distances. The two resulting lists can then be converted to arrays!\n",
    "To convert a list to an array, we must import numpy and use `np.array` command."
   ]
  },
  {
   "cell_type": "code",
   "execution_count": 21,
   "metadata": {},
   "outputs": [
    {
     "name": "stdout",
     "output_type": "stream",
     "text": [
      "<class 'numpy.ndarray'> [ 0  1  2  3  4  5  6  7  8  9 10]\n",
      "<class 'numpy.ndarray'> [  0.    4.9  19.6  44.1  78.4 122.5 176.4 240.1 313.6 396.9 490. ]\n"
     ]
    }
   ],
   "source": [
    "timeList = [i for i in range(11)]            # Create the time list\n",
    "distList = [distance(t) for t in timeList]   # Create the distance list\n",
    "\n",
    "# convert the two lists into arrays\n",
    "timeArray = np.array(timeList)\n",
    "distArray = np.array(distList)\n",
    "\n",
    "# print the arrays\n",
    "print(type(timeArray), timeArray)\n",
    "print(type(distArray), distArray)"
   ]
  },
  {
   "cell_type": "markdown",
   "metadata": {},
   "source": [
    "We can do this directly by creating arrays (without converting from a list) with `np.linspace` to create timeArray and `np.zeros` to create distArray.\n",
    "\n",
    "(This is merely a demonstration, not superior to the above code.)"
   ]
  },
  {
   "cell_type": "code",
   "execution_count": 20,
   "metadata": {},
   "outputs": [
    {
     "name": "stdout",
     "output_type": "stream",
     "text": [
      "Time Array:           <class 'numpy.ndarray'> [ 0.  1.  2.  3.  4.  5.  6.  7.  8.  9. 10.]\n",
      "Dist Array Zeros:     <class 'numpy.ndarray'> [0. 0. 0. 0. 0. 0. 0. 0. 0. 0. 0.]\n",
      "Dist Array Populated: <class 'numpy.ndarray'> [  0.    4.9  19.6  44.1  78.4 122.5 176.4 240.1 313.6 396.9 490. ]\n"
     ]
    }
   ],
   "source": [
    "timeArray = np.linspace(0, 10, 11)  # Create the time array\n",
    "distArray = np.zeros(11)            # Create the distance array populated with 0's\n",
    "\n",
    "print(\"Time Array:          \", type(timeArray), timeArray)\n",
    "print(\"Dist Array Zeros:    \", type(distArray), distArray)\n",
    "\n",
    "for i in range(11):\n",
    "    distArray[i] = distance(timeArray[i])   # Populate the distance array with calculated values\n",
    "\n",
    "print(\"Dist Array Populated:\", type(distArray), distArray)"
   ]
  },
  {
   "cell_type": "markdown",
   "metadata": {},
   "source": [
    "### Vectorization -- one of the great powers of arrays"
   ]
  },
  {
   "cell_type": "markdown",
   "metadata": {},
   "source": [
    "The examples above are great, but they don't use the computation power of arrays by operating on all the elements simultaneously!\n",
    "\n",
    "**Loops are slow**.\n",
    "Operating on the elements simultaneously is much faster (and simpler!).\n",
    "\n",
    "\"Vectorization\" is replacing a loop with vector or array expressions."
   ]
  },
  {
   "cell_type": "code",
   "execution_count": 21,
   "metadata": {},
   "outputs": [
    {
     "name": "stdout",
     "output_type": "stream",
     "text": [
      "Time Array: <class 'numpy.ndarray'> [ 0.  1.  2.  3.  4.  5.  6.  7.  8.  9. 10.]\n",
      "Dist Array: <class 'numpy.ndarray'> [  0.    4.9  19.6  44.1  78.4 122.5 176.4 240.1 313.6 396.9 490. ]\n"
     ]
    }
   ],
   "source": [
    "timeArray = np.linspace(0, 10, 11)   # Create the time array\n",
    "distArray = distance(timeArray)      # Create and populate the distance array using vectorization\n",
    "\n",
    "print(\"Time Array:\", type(timeArray), timeArray)\n",
    "print(\"Dist Array:\", type(distArray), distArray)"
   ]
  },
  {
   "cell_type": "markdown",
   "metadata": {},
   "source": [
    "When we use arrays, we can calculate the same equation:\n",
    "\n",
    "$y=\\frac{1}{2}at^2$ \n",
    "\n",
    "by doing the calculation directly on the arrays."
   ]
  },
  {
   "cell_type": "code",
   "execution_count": 23,
   "metadata": {},
   "outputs": [
    {
     "name": "stdout",
     "output_type": "stream",
     "text": [
      "[ 0.  1.  2.  3.  4.  5.  6.  7.  8.  9. 10.]\n",
      "[  0.    4.9  19.6  44.1  78.4 122.5 176.4 240.1 313.6 396.9 490. ]\n"
     ]
    }
   ],
   "source": [
    "a = 9.8   # acceleration due to gravity\n",
    "\n",
    "timeArray = np.linspace(0, 10, 11)  # create the time array\n",
    "\n",
    "distArray = 0.5 * a * timeArray**2  # directly calculate the distance\n",
    "\n",
    "print(timeArray)\n",
    "print(distArray)"
   ]
  },
  {
   "cell_type": "markdown",
   "metadata": {},
   "source": [
    "Caution: numpy has its own math functions, such as sin, cos, pi, exp, and some of these are slightly different from Python's math module.\n",
    "\n",
    "(Also, the math module does not accept numpy array arguments.)"
   ]
  },
  {
   "cell_type": "markdown",
   "metadata": {},
   "source": [
    "Extras:\n",
    "\n",
    "Python names and references:\n",
    "\n",
    "http://nedbatchelder.com/text/names.html\n",
    "\n",
    "Generators:\n",
    "\n",
    "https://www.jeffknupp.com/blog/2013/04/07/improve-your-python-yield-and-generators-explained/\n"
   ]
  },
  {
   "cell_type": "code",
   "execution_count": null,
   "metadata": {},
   "outputs": [],
   "source": []
  }
 ],
 "metadata": {
  "kernelspec": {
   "display_name": "Python 3",
   "language": "python",
   "name": "python3"
  },
  "language_info": {
   "codemirror_mode": {
    "name": "ipython",
    "version": 3
   },
   "file_extension": ".py",
   "mimetype": "text/x-python",
   "name": "python",
   "nbconvert_exporter": "python",
   "pygments_lexer": "ipython3",
   "version": "3.8.5"
  }
 },
 "nbformat": 4,
 "nbformat_minor": 4
}
